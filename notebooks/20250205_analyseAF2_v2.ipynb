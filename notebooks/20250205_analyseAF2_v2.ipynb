{
 "cells": [
  {
   "cell_type": "markdown",
   "metadata": {},
   "source": [
    "# Analyse results Isopeptor capability to predict isopeptide bonds in AF2 structures "
   ]
  },
  {
   "cell_type": "code",
   "execution_count": null,
   "metadata": {},
   "outputs": [],
   "source": [
    "import pandas as pd\n",
    "import os\n",
    "import shutil\n",
    "from isopeptor.isopeptide import Isopeptide\n",
    "from isopeptor.jess_wrapper import run_jess"
   ]
  },
  {
   "cell_type": "code",
   "execution_count": 2,
   "metadata": {},
   "outputs": [],
   "source": [
    "from dotenv import load_dotenv\n",
    "load_dotenv(\"../.env\")\n",
    "\n",
    "TABLE = os.getenv(\"TABLE\")\n",
    "AF2_TEMPLATES_BIOCHEM = os.getenv(\"AF2_TEMPLATES_BIOCHEM\")\n",
    "\n",
    "af_df = pd.read_csv(AF2_TEMPLATES_BIOCHEM)\n",
    "af_df = af_df.rename(columns={\"r1_af\":\"r1_bond\",\n",
    "                        \"r2_af\":\"r_cat\",\n",
    "                        \"r3_af\":\"r2_bond\"})\n",
    "af_df[\"protein_name\"] = af_df[\"PDB code\"] + \"_\" + af_df[\"Chain\"]\n",
    "af_df[\"true_positive\"] = True\n",
    "af_df.loc[~af_df[\"Is bonded\"], \"true_positive\"] = False"
   ]
  },
  {
   "cell_type": "markdown",
   "metadata": {},
   "source": [
    "## With templates"
   ]
  },
  {
   "cell_type": "code",
   "execution_count": 3,
   "metadata": {},
   "outputs": [],
   "source": [
    "path = \"/nfs/research/agb/research/francesco/projects/20240212_isopeptideBonds_v1/20240529_findWithJess_v1/analysis/20240903_runAF2_v1/output/AF2_templates\"\n",
    "tmp_dir = \"../tmp/template_af2\"\n",
    "os.makedirs(tmp_dir, exist_ok=True)\n",
    "for prot in os.listdir(path):\n",
    "    if prot == \"sequences\":\n",
    "        continue\n",
    "    src = os.path.join(path, prot, \"ranked_0.pdb\")\n",
    "    dst = os.path.join(tmp_dir, f\"{prot}.pdb\")\n",
    "    shutil.copyfile(src, dst)\n"
   ]
  },
  {
   "cell_type": "code",
   "execution_count": 4,
   "metadata": {},
   "outputs": [
    {
     "name": "stderr",
     "output_type": "stream",
     "text": [
      "/nfs/research/agb/research/francesco/anaconda3/envs/isopeptor/lib/python3.11/site-packages/sklearn/base.py:380: InconsistentVersionWarning: Trying to unpickle estimator LogisticRegression from version 1.3.0 when using version 1.6.0. This might lead to breaking code or invalid results. Use at your own risk. For more info please refer to:\n",
      "https://scikit-learn.org/stable/model_persistence.html#security-maintainability-limitations\n",
      "  warnings.warn(\n"
     ]
    }
   ],
   "source": [
    "i = Isopeptide(tmp_dir)\n",
    "i.predict()\n",
    "# Do not remove redundancy: this will be done manually to exclude \n",
    "# template-match pairs with sequence identity > 30%\n",
    "#i.jess_hits = run_jess(i.structure_files, i.distance)\n",
    "#i._load_hits()\n",
    "#i._calc_rasa()"
   ]
  },
  {
   "cell_type": "code",
   "execution_count": 8,
   "metadata": {},
   "outputs": [
    {
     "data": {
      "text/plain": [
       "predicted\n",
       "True     0.938\n",
       "False    0.062\n",
       "Name: proportion, dtype: float64"
      ]
     },
     "execution_count": 8,
     "metadata": {},
     "output_type": "execute_result"
    }
   ],
   "source": [
    "headers = [\n",
    "    \"protein_name\", \"probability\", \"chain\", \"r1_bond\", \"r_cat\", \"r2_bond\",\n",
    "    \"r1_bond_name\", \"r_cat_name\", \"r2_bond_name\", \"bond_type\",\n",
    "    \"rmsd\", \"r_asa\", \"template\"\n",
    "    ]\n",
    "outlist = []\n",
    "for bond in i.isopeptide_bonds:\n",
    "    row = [\n",
    "            bond.protein_name, bond.probability, bond.chain, bond.r1_bond, \n",
    "            bond.r_cat, bond.r2_bond, \n",
    "            bond.r1_bond_name, bond.r_cat_name, bond.r2_bond_name, bond.bond_type,\n",
    "            bond.rmsd, bond.r_asa, bond.template\n",
    "        ]\n",
    "    outlist.append(row)\n",
    "\n",
    "res_df = pd.DataFrame(outlist, columns=headers)\n",
    "test_df = pd.merge(res_df, af_df[[\"protein_name\", \"r1_bond\", \"r_cat\", \"r2_bond\", \"true_positive\"]], how=\"outer\")\\\n",
    "    .query('true_positive==True')\n",
    "test_df[\"predicted\"] = True\n",
    "test_df.loc[test_df[\"probability\"]<.65, \"predicted\"] = False\n",
    "test_df.value_counts(\"predicted\", normalize=True).round(3)\n"
   ]
  },
  {
   "cell_type": "markdown",
   "metadata": {},
   "source": [
    "## Without templates"
   ]
  },
  {
   "cell_type": "code",
   "execution_count": 16,
   "metadata": {},
   "outputs": [],
   "source": [
    "path = \"/nfs/research/agb/research/francesco/projects/20240212_isopeptideBonds_v1/20240529_findWithJess_v1/analysis/20240903_runAF2_v1/output/AF2\"\n",
    "tmp_dir = \"../tmp/af2\"\n",
    "os.makedirs(tmp_dir, exist_ok=True)\n",
    "for prot in os.listdir(path):\n",
    "    if prot == \"sequences\":\n",
    "        continue\n",
    "    src = os.path.join(path, prot, \"ranked_0.pdb\")\n",
    "    dst = os.path.join(tmp_dir, f\"{prot}.pdb\")\n",
    "    shutil.copyfile(src, dst)\n"
   ]
  },
  {
   "cell_type": "code",
   "execution_count": 17,
   "metadata": {},
   "outputs": [],
   "source": [
    "i = Isopeptide(tmp_dir)\n",
    "i.predict()"
   ]
  },
  {
   "cell_type": "code",
   "execution_count": 20,
   "metadata": {},
   "outputs": [
    {
     "data": {
      "text/plain": [
       "predicted\n",
       "True     0.97\n",
       "False    0.03\n",
       "Name: proportion, dtype: float64"
      ]
     },
     "execution_count": 20,
     "metadata": {},
     "output_type": "execute_result"
    }
   ],
   "source": [
    "headers = [\n",
    "    \"protein_name\", \"probability\", \"chain\", \"r1_bond\", \"r_cat\", \"r2_bond\",\n",
    "    \"r1_bond_name\", \"r_cat_name\", \"r2_bond_name\", \"bond_type\",\n",
    "    \"rmsd\", \"r_asa\", \"template\"\n",
    "    ]\n",
    "outlist = []\n",
    "for bond in i.isopeptide_bonds:\n",
    "    row = [\n",
    "            bond.protein_name, bond.probability, bond.chain, bond.r1_bond, \n",
    "            bond.r_cat, bond.r2_bond, \n",
    "            bond.r1_bond_name, bond.r_cat_name, bond.r2_bond_name, bond.bond_type,\n",
    "            bond.rmsd, bond.r_asa, bond.template\n",
    "        ]\n",
    "    outlist.append(row)\n",
    "\n",
    "res_df = pd.DataFrame(outlist, columns=headers)\n",
    "test_df = pd.merge(res_df, af_df[[\"protein_name\", \"r1_bond\", \"r_cat\", \"r2_bond\", \"true_positive\"]], how=\"outer\")\\\n",
    "    .query('true_positive==True')\n",
    "test_df[\"predicted\"] = True\n",
    "test_df.loc[test_df[\"probability\"]<.5, \"predicted\"] = False\n",
    "test_df.value_counts(\"predicted\", normalize=True).round(2)\n"
   ]
  },
  {
   "cell_type": "code",
   "execution_count": 21,
   "metadata": {},
   "outputs": [
    {
     "data": {
      "text/plain": [
       "194"
      ]
     },
     "execution_count": 21,
     "metadata": {},
     "output_type": "execute_result"
    }
   ],
   "source": [
    "len(test_df)"
   ]
  }
 ],
 "metadata": {
  "kernelspec": {
   "display_name": "isopeptor",
   "language": "python",
   "name": "python3"
  },
  "language_info": {
   "codemirror_mode": {
    "name": "ipython",
    "version": 3
   },
   "file_extension": ".py",
   "mimetype": "text/x-python",
   "name": "python",
   "nbconvert_exporter": "python",
   "pygments_lexer": "ipython3",
   "version": "3.12.2"
  }
 },
 "nbformat": 4,
 "nbformat_minor": 2
}
