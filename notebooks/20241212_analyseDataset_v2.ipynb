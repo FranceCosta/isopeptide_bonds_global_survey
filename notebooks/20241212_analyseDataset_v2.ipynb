{
 "cells": [
  {
   "cell_type": "markdown",
   "metadata": {},
   "source": [
    "# Analyse biochemical properties of isopeptide bond PDB/AF2 datasets"
   ]
  },
  {
   "cell_type": "code",
   "execution_count": 1,
   "metadata": {},
   "outputs": [],
   "source": [
    "import pandas as pd\n",
    "import numpy as np\n",
    "import os\n",
    "from dotenv import load_dotenv\n",
    "import seaborn as sns\n",
    "import matplotlib.pyplot as plt\n",
    "from biotite.structure.io import pdb\n",
    "import biotite.structure as struc\n",
    "import shutil\n",
    "import sys\n",
    "sys.path.append(\"../bin\")\n",
    "from sequence import get_sequence"
   ]
  },
  {
   "cell_type": "code",
   "execution_count": 2,
   "metadata": {},
   "outputs": [],
   "source": [
    "load_dotenv(\"../.env\")\n",
    "PDB_BIOCHEM = os.getenv(\"PDB_BIOCHEM\")\n",
    "AF2_BIOCHEM = os.getenv(\"AF2_BIOCHEM\")\n",
    "AF2_TEMPLATES_BIOCHEM = os.getenv(\"AF2_TEMPLATES_BIOCHEM\")\n",
    "TABLE = os.getenv(\"TABLE\")"
   ]
  },
  {
   "cell_type": "code",
   "execution_count": 3,
   "metadata": {
    "scrolled": true
   },
   "outputs": [],
   "source": [
    "pdb_df = pd.read_csv(PDB_BIOCHEM)\n",
    "af_df = pd.read_csv(AF2_BIOCHEM)\n",
    "af_templates_df = pd.read_csv(AF2_TEMPLATES_BIOCHEM)\n",
    "table_df = pd.read_csv(TABLE)\n",
    "\n",
    "# Get isopep sequence (between bonded residues)\n",
    "pdb_df[\"isopep_sequence\"] = pdb_df.apply(get_sequence, pdb=True, axis=1)\n",
    "af_df[\"isopep_sequence\"] = af_df.apply(get_sequence, pdb=False, axis=1)\n",
    "af_templates_df[\"isopep_sequence\"] = af_templates_df.apply(get_sequence, pdb=False, axis=1)\n",
    "\n",
    "# Add cis info\n",
    "pdb_df[\"cis\"] = False\n",
    "pdb_df.loc[(pdb_df[\"pseudo_omega\"]>=-60)&(pdb_df[\"pseudo_omega\"]<=60), \"cis\"] = True"
   ]
  },
  {
   "cell_type": "markdown",
   "metadata": {
    "jp-MarkdownHeadingCollapsed": true
   },
   "source": [
    "## Pfam domain mapping"
   ]
  },
  {
   "cell_type": "code",
   "execution_count": 16,
   "metadata": {},
   "outputs": [],
   "source": [
    "import sys\n",
    "sys.path.append(\"../bin\")\n",
    "from pfamenv import PFAM_HOST,PFAM_PASSWORD,PFAM_PORT,PFAM_USER,PFAM_VERSION\n",
    "from mysql import connector\n",
    "import numpy as np\n",
    "\n",
    "def is_domain(row):\n",
    "    \"\"\"\n",
    "\n",
    "        Assign if at least 2/3 residues are in domain\n",
    "    \n",
    "    \"\"\"\n",
    "    residues = [row[\"r1_bond\"], row[\"r_cat\"], row[\"r2_bond\"]]\n",
    "    status = False\n",
    "    c = 0\n",
    "    for res in residues:\n",
    "        if res >= row[\"seq_start\"] and res <= row[\"seq_end\"]:\n",
    "            c += 1\n",
    "            #status = True\n",
    "            #break\n",
    "    if c >= 2:\n",
    "        status = True\n",
    "    return status"
   ]
  },
  {
   "cell_type": "code",
   "execution_count": 17,
   "metadata": {},
   "outputs": [],
   "source": [
    "# Get pfam info associated with each PDB\n",
    "columns = [\"pdb_id\", \"pfamA_acc\", \"pfamA_id\", \"chain\", \"pdb_res_start\", \"pdb_res_end\", \"seq_start\", \"seq_end\", \"clan_acc\", \"clan_id\"]\n",
    "\n",
    "proteins = pdb_df[(pdb_df[\"Is bonded\"])&(~pdb_df[\"Interchain\"])&(pdb_df[\"Isopeptide type\"]!=\"Mutant\")][\"PDB code\"].unique()\n",
    "\n",
    "cnx = connector.connect(user=PFAM_USER,\n",
    "                        password=PFAM_PASSWORD,\n",
    "                        port=PFAM_PORT,\n",
    "                        host=PFAM_HOST)\n",
    "cursor = cnx.cursor()\n",
    "\n",
    "proteins_ = \", \".join([f\"'{protein}'\" for protein in proteins])\n",
    "\n",
    "# Get domains\n",
    "cursor.execute(f\"SELECT pdb_id,pfamA.pfamA_acc,pfamA.pfamA_id,chain,pdb_res_start,pdb_res_end,seq_start,seq_end,\\\n",
    "                    clan_membership.clan_acc,clan.clan_id \\\n",
    "                 FROM {PFAM_VERSION}.pdb_pfamA_reg, {PFAM_VERSION}.pfamA, \\\n",
    "                     {PFAM_VERSION}.clan_membership, {PFAM_VERSION}.clan \\\n",
    "                 WHERE pdb_id IN ({proteins_}) \\\n",
    "                 AND pfamA.pfamA_acc = clan_membership.pfamA_acc \\\n",
    "                 AND clan.clan_acc=clan_membership.clan_acc \\\n",
    "                 AND pfamA.pfamA_acc = pdb_pfamA_reg.pfamA_acc\")\n",
    "output = cursor.fetchall()\n",
    "d_df = pd.DataFrame(output, columns = columns)\n",
    "d_df[\"pdb_id\"] = d_df[\"pdb_id\"].apply(lambda x: x.lower())\n",
    "data_df = pd.merge(pdb_df, d_df.rename(columns={\"pdb_id\":\"PDB code\", \"chain\":\"Chain\"}), how=\"left\")\\\n",
    "        .rename(columns={\"Position 1\\r\\n(Bond 1)\":\"r1_bond\", \"Position 2\\r\\n(catalytic)\":\"r_cat\", \"Position 3\\r\\n(Bond 2)\":\"r2_bond\"})\n",
    "\n",
    "# Check which domains map to isopep bonds\n",
    "data_df[\"is_domain\"] = data_df.apply(lambda x: is_domain(x), axis=1)\n",
    "data_df = data_df.sort_values(\"is_domain\", ascending=False) \\\n",
    "        .drop_duplicates([\"PDB code\", \"r1_bond\", \"r_cat\", \"r2_bond\"], keep=\"first\")\n",
    "data_df.loc[data_df[\"is_domain\"]==False, \"pfamA_acc\"] = np.NaN\n",
    "data_df.loc[data_df[\"is_domain\"]==False, \"pfamA_id\"] = np.NaN\n",
    "data_df.loc[data_df[\"is_domain\"]==False, \"seq_start\"] = np.NaN\n",
    "data_df.loc[data_df[\"is_domain\"]==False, \"seq_end\"] = np.NaN\n",
    "data_df[\"seq_start\"] = data_df[\"seq_start\"].fillna(0).astype(int)\n",
    "data_df[\"seq_end\"] = data_df[\"seq_end\"].fillna(0).astype(int)\n",
    "data_df[\"residues\"] = data_df.apply(lambda x: \", \".join([str(_) for _ in [x[\"r1_bond\"], x[\"r_cat\"], x[\"r2_bond\"]]]), axis=1)\n",
    "data_df[\"PDB code\"] = data_df[\"PDB code\"].apply(lambda x: x.upper())"
   ]
  },
  {
   "cell_type": "code",
   "execution_count": 64,
   "metadata": {},
   "outputs": [
    {
     "data": {
      "text/html": [
       "<div>\n",
       "<style scoped>\n",
       "    .dataframe tbody tr th:only-of-type {\n",
       "        vertical-align: middle;\n",
       "    }\n",
       "\n",
       "    .dataframe tbody tr th {\n",
       "        vertical-align: top;\n",
       "    }\n",
       "\n",
       "    .dataframe thead th {\n",
       "        text-align: right;\n",
       "    }\n",
       "</style>\n",
       "<table border=\"1\" class=\"dataframe\">\n",
       "  <thead>\n",
       "    <tr style=\"text-align: right;\">\n",
       "      <th></th>\n",
       "      <th>pfamA_acc</th>\n",
       "      <th>clan_id</th>\n",
       "      <th>PDB code</th>\n",
       "      <th>Chain</th>\n",
       "      <th>seq_start</th>\n",
       "      <th>seq_end</th>\n",
       "      <th>residues</th>\n",
       "    </tr>\n",
       "    <tr>\n",
       "      <th>pfamA_id</th>\n",
       "      <th></th>\n",
       "      <th></th>\n",
       "      <th></th>\n",
       "      <th></th>\n",
       "      <th></th>\n",
       "      <th></th>\n",
       "      <th></th>\n",
       "    </tr>\n",
       "  </thead>\n",
       "  <tbody>\n",
       "    <tr>\n",
       "      <th>AgI_II_C2</th>\n",
       "      <td>PF17998</td>\n",
       "      <td>Adhesin</td>\n",
       "      <td>5DZ9</td>\n",
       "      <td>A</td>\n",
       "      <td>554</td>\n",
       "      <td>723</td>\n",
       "      <td>556, 606, 703</td>\n",
       "    </tr>\n",
       "    <tr>\n",
       "      <th>Sgo0707_N2</th>\n",
       "      <td>PF20623</td>\n",
       "      <td>Adhesin</td>\n",
       "      <td>4HSS</td>\n",
       "      <td>A</td>\n",
       "      <td>178</td>\n",
       "      <td>324</td>\n",
       "      <td>187, 224, 299</td>\n",
       "    </tr>\n",
       "    <tr>\n",
       "      <th>GramPos_pilinBB</th>\n",
       "      <td>PF16569</td>\n",
       "      <td>Adhesin</td>\n",
       "      <td>2X9Z</td>\n",
       "      <td>A</td>\n",
       "      <td>216</td>\n",
       "      <td>328</td>\n",
       "      <td>193, 241, 318</td>\n",
       "    </tr>\n",
       "    <tr>\n",
       "      <th>Collagen_bind</th>\n",
       "      <td>PF05737</td>\n",
       "      <td>Adhesin</td>\n",
       "      <td>7LGR</td>\n",
       "      <td>A</td>\n",
       "      <td>173</td>\n",
       "      <td>306</td>\n",
       "      <td>177, 210, 291</td>\n",
       "    </tr>\n",
       "    <tr>\n",
       "      <th>Antigen_C</th>\n",
       "      <td>PF16364</td>\n",
       "      <td>Adhesin</td>\n",
       "      <td>3OPU</td>\n",
       "      <td>A</td>\n",
       "      <td>1334</td>\n",
       "      <td>1492</td>\n",
       "      <td>1334, 1383, 1469</td>\n",
       "    </tr>\n",
       "    <tr>\n",
       "      <th>GBS104-like_Ig</th>\n",
       "      <td>PF21426</td>\n",
       "      <td>E-set</td>\n",
       "      <td>3TXA</td>\n",
       "      <td>A</td>\n",
       "      <td>587</td>\n",
       "      <td>717</td>\n",
       "      <td>188, 597, 692</td>\n",
       "    </tr>\n",
       "    <tr>\n",
       "      <th>DUF5979</th>\n",
       "      <td>PF19407</td>\n",
       "      <td>Transthyretin</td>\n",
       "      <td>4BUG</td>\n",
       "      <td>A</td>\n",
       "      <td>606</td>\n",
       "      <td>718</td>\n",
       "      <td>610, 680, 715</td>\n",
       "    </tr>\n",
       "    <tr>\n",
       "      <th>SpaA</th>\n",
       "      <td>PF17802</td>\n",
       "      <td>Transthyretin</td>\n",
       "      <td>2XID</td>\n",
       "      <td>A</td>\n",
       "      <td>291</td>\n",
       "      <td>377</td>\n",
       "      <td>297, 347, 595</td>\n",
       "    </tr>\n",
       "    <tr>\n",
       "      <th>GramPos_pilinD3</th>\n",
       "      <td>PF16570</td>\n",
       "      <td>Transthyretin</td>\n",
       "      <td>2X9Z</td>\n",
       "      <td>A</td>\n",
       "      <td>388</td>\n",
       "      <td>448</td>\n",
       "      <td>349, 405, 428</td>\n",
       "    </tr>\n",
       "    <tr>\n",
       "      <th>FctA</th>\n",
       "      <td>PF12892</td>\n",
       "      <td>Transthyretin</td>\n",
       "      <td>7W7I</td>\n",
       "      <td>A</td>\n",
       "      <td>48</td>\n",
       "      <td>216</td>\n",
       "      <td>52, 139, 213</td>\n",
       "    </tr>\n",
       "    <tr>\n",
       "      <th>GramPos_pilinD1</th>\n",
       "      <td>PF16555</td>\n",
       "      <td>Transthyretin</td>\n",
       "      <td>7WOI</td>\n",
       "      <td>A</td>\n",
       "      <td>48</td>\n",
       "      <td>196</td>\n",
       "      <td>57, 158, 195</td>\n",
       "    </tr>\n",
       "    <tr>\n",
       "      <th>Cna_B</th>\n",
       "      <td>PF05738</td>\n",
       "      <td>Transthyretin</td>\n",
       "      <td>1D2O</td>\n",
       "      <td>A</td>\n",
       "      <td>627</td>\n",
       "      <td>716</td>\n",
       "      <td>633, 694, 717</td>\n",
       "    </tr>\n",
       "    <tr>\n",
       "      <th>NaN</th>\n",
       "      <td>NaN</td>\n",
       "      <td>NaN</td>\n",
       "      <td>5FGS</td>\n",
       "      <td>A</td>\n",
       "      <td>0</td>\n",
       "      <td>0</td>\n",
       "      <td>184, 269, 295</td>\n",
       "    </tr>\n",
       "  </tbody>\n",
       "</table>\n",
       "</div>"
      ],
      "text/plain": [
       "                pfamA_acc        clan_id PDB code Chain  seq_start  seq_end  \\\n",
       "pfamA_id                                                                      \n",
       "AgI_II_C2         PF17998        Adhesin     5DZ9     A        554      723   \n",
       "Sgo0707_N2        PF20623        Adhesin     4HSS     A        178      324   \n",
       "GramPos_pilinBB   PF16569        Adhesin     2X9Z     A        216      328   \n",
       "Collagen_bind     PF05737        Adhesin     7LGR     A        173      306   \n",
       "Antigen_C         PF16364        Adhesin     3OPU     A       1334     1492   \n",
       "GBS104-like_Ig    PF21426          E-set     3TXA     A        587      717   \n",
       "DUF5979           PF19407  Transthyretin     4BUG     A        606      718   \n",
       "SpaA              PF17802  Transthyretin     2XID     A        291      377   \n",
       "GramPos_pilinD3   PF16570  Transthyretin     2X9Z     A        388      448   \n",
       "FctA              PF12892  Transthyretin     7W7I     A         48      216   \n",
       "GramPos_pilinD1   PF16555  Transthyretin     7WOI     A         48      196   \n",
       "Cna_B             PF05738  Transthyretin     1D2O     A        627      716   \n",
       "NaN                   NaN            NaN     5FGS     A          0        0   \n",
       "\n",
       "                         residues  \n",
       "pfamA_id                           \n",
       "AgI_II_C2           556, 606, 703  \n",
       "Sgo0707_N2          187, 224, 299  \n",
       "GramPos_pilinBB     193, 241, 318  \n",
       "Collagen_bind       177, 210, 291  \n",
       "Antigen_C        1334, 1383, 1469  \n",
       "GBS104-like_Ig      188, 597, 692  \n",
       "DUF5979             610, 680, 715  \n",
       "SpaA                297, 347, 595  \n",
       "GramPos_pilinD3     349, 405, 428  \n",
       "FctA                 52, 139, 213  \n",
       "GramPos_pilinD1      57, 158, 195  \n",
       "Cna_B               633, 694, 717  \n",
       "NaN                 184, 269, 295  "
      ]
     },
     "execution_count": 64,
     "metadata": {},
     "output_type": "execute_result"
    }
   ],
   "source": [
    "data_df[[\"pfamA_id\", \"pfamA_acc\", \"clan_id\", \"PDB code\", \"Chain\", \"seq_start\", \"seq_end\", \"residues\"]]\\\n",
    ".drop_duplicates(\"pfamA_id\").set_index(\"pfamA_id\").sort_values(\"clan_id\")"
   ]
  },
  {
   "cell_type": "code",
   "execution_count": 19,
   "metadata": {},
   "outputs": [
    {
     "data": {
      "text/plain": [
       "array(['DUF5979', 'AgI_II_C2', 'SpaA', 'Sgo0707_N2', 'GramPos_pilinBB',\n",
       "       'GramPos_pilinD3', 'Collagen_bind', 'FctA', 'GramPos_pilinD1',\n",
       "       'Antigen_C', 'GBS104-like_Ig', 'Cna_B', nan], dtype=object)"
      ]
     },
     "execution_count": 19,
     "metadata": {},
     "output_type": "execute_result"
    }
   ],
   "source": [
    "data_df[\"pfamA_id\"].unique()"
   ]
  },
  {
   "cell_type": "markdown",
   "metadata": {},
   "source": [
    "## Correlations"
   ]
  },
  {
   "cell_type": "code",
   "execution_count": 17,
   "metadata": {},
   "outputs": [],
   "source": [
    "cond1 = (pdb_df[\"Is bonded\"])\n",
    "cond2 = (pdb_df[\"Isopeptide type\"]!=\"Mutant\")\n",
    "cond3 = (~pdb_df[\"Unusual geometry/chemistry\"])\n",
    "cond4 = (pdb_df[\"Resolution\"]<=2.5)\n",
    "cond5 = (~pdb_df[\"Bad rotamer\"])\n",
    "cor_df = pdb_df[cond1&cond2&cond3&cond4&cond5].drop_duplicates(\"isopep_sequence\").copy()"
   ]
  },
  {
   "cell_type": "code",
   "execution_count": 18,
   "metadata": {},
   "outputs": [
    {
     "data": {
      "text/plain": [
       "<seaborn.matrix.ClusterGrid at 0x7f71fbf5a3c0>"
      ]
     },
     "execution_count": 18,
     "metadata": {},
     "output_type": "execute_result"
    },
    {
     "data": {
      "image/png": "[encoded data removed]",
      "text/plain": [
       "<Figure size 1000x1000 with 4 Axes>"
      ]
     },
     "metadata": {},
     "output_type": "display_data"
    }
   ],
   "source": [
    "corr_matrix = cor_df[\n",
    "    ['Isopeptide type', 'Domain insert in loop?',\n",
    "       'distance_to_aro', 'aro-isopep_planes_angle', 'aro_cap',\n",
    "       'water_resid_NZ', 'water_distance_NZ',\n",
    "       'water_distance_OD', 'cis',\n",
    "       'o_atom_distance', 'rASA', 'bond_length', 'pseudo_omega', 'pseudo_psi',\n",
    "       'pseudo_phi', 'lys_x3', 'lys_x4', 'Residue 3']\n",
    "    ].rename(columns={\"Isopeptide type\":\"isopep_type\", \"Residue 3\":\"res_3\"})\\\n",
    "    .assign(isopep_type=lambda x: x[\"isopep_type\"].replace({\"CnaA-like\":0, \"CnaB-like\":1})) \\\n",
    "    .assign(res_3=lambda x: x[\"res_3\"].replace({\"N\":1, \"D\":0})) \\\n",
    "    .assign(rASA=lambda x: x[\"rASA\"].apply(lambda y: np.mean(eval(y)))) \\\n",
    "    .corr()\n",
    "\n",
    "threshold = .4\n",
    "mask = np.abs(corr_matrix) < threshold\n",
    "sns.clustermap(corr_matrix, cmap=\"seismic\", vmin=-1, vmax=1, annot=True, fmt=\".2f\", mask=mask)"
   ]
  },
  {
   "cell_type": "markdown",
   "metadata": {
    "jp-MarkdownHeadingCollapsed": true
   },
   "source": [
    "## Aromatic residues"
   ]
  },
  {
   "cell_type": "code",
   "execution_count": 4,
   "metadata": {},
   "outputs": [],
   "source": [
    "cond1 = (pdb_df[\"Is bonded\"])\n",
    "cond2 = (pdb_df[\"Isopeptide type\"]!=\"Mutant\")\n",
    "cond3 = (~pdb_df[\"Unusual geometry/chemistry\"])\n",
    "cond4 = (pdb_df[\"Resolution\"]<=2.5)\n",
    "cond5 = (~pdb_df[\"Bad rotamer\"])\n",
    "aro_df = pdb_df[cond1&cond2&cond3&cond4&cond5].sort_values(\"aro_cap\", ascending=False).drop_duplicates(\"isopep_sequence\")"
   ]
  },
  {
   "cell_type": "code",
   "execution_count": 5,
   "metadata": {},
   "outputs": [
    {
     "data": {
      "text/html": [
       "<div>\n",
       "<style scoped>\n",
       "    .dataframe tbody tr th:only-of-type {\n",
       "        vertical-align: middle;\n",
       "    }\n",
       "\n",
       "    .dataframe tbody tr th {\n",
       "        vertical-align: top;\n",
       "    }\n",
       "\n",
       "    .dataframe thead th {\n",
       "        text-align: right;\n",
       "    }\n",
       "</style>\n",
       "<table border=\"1\" class=\"dataframe\">\n",
       "  <thead>\n",
       "    <tr style=\"text-align: right;\">\n",
       "      <th></th>\n",
       "      <th>Isopeptide type</th>\n",
       "      <th>aro_cap</th>\n",
       "      <th>percentage</th>\n",
       "    </tr>\n",
       "  </thead>\n",
       "  <tbody>\n",
       "    <tr>\n",
       "      <th>0</th>\n",
       "      <td>CnaA-like</td>\n",
       "      <td>True</td>\n",
       "      <td>71.0</td>\n",
       "    </tr>\n",
       "    <tr>\n",
       "      <th>1</th>\n",
       "      <td>CnaA-like</td>\n",
       "      <td>False</td>\n",
       "      <td>29.0</td>\n",
       "    </tr>\n",
       "    <tr>\n",
       "      <th>2</th>\n",
       "      <td>CnaB-like</td>\n",
       "      <td>False</td>\n",
       "      <td>59.0</td>\n",
       "    </tr>\n",
       "    <tr>\n",
       "      <th>3</th>\n",
       "      <td>CnaB-like</td>\n",
       "      <td>True</td>\n",
       "      <td>41.0</td>\n",
       "    </tr>\n",
       "  </tbody>\n",
       "</table>\n",
       "</div>"
      ],
      "text/plain": [
       "  Isopeptide type  aro_cap  percentage\n",
       "0       CnaA-like     True        71.0\n",
       "1       CnaA-like    False        29.0\n",
       "2       CnaB-like    False        59.0\n",
       "3       CnaB-like     True        41.0"
      ]
     },
     "execution_count": 5,
     "metadata": {},
     "output_type": "execute_result"
    }
   ],
   "source": [
    "# \n",
    "aro_df.groupby(\"Isopeptide type\")[\"aro_cap\"] \\\n",
    "    .value_counts(normalize=True) \\\n",
    "    .mul(100) \\\n",
    "    .rename(\"percentage\") \\\n",
    "    .reset_index().round()"
   ]
  },
  {
   "cell_type": "code",
   "execution_count": 6,
   "metadata": {},
   "outputs": [
    {
     "data": {
      "image/png": "[encoded data removed]",
      "text/plain": [
       "<Figure size 640x480 with 1 Axes>"
      ]
     },
     "metadata": {},
     "output_type": "display_data"
    }
   ],
   "source": [
    "fig, ax = plt.subplots()\n",
    "\n",
    "plot_df = pdb_df[pdb_df[\"Isopeptide type\"]!=\"Mutant\"] \\\n",
    "                .rename(columns={\"aro_cap\":\"Aromatic cap\"})\n",
    "sns.scatterplot(plot_df[plot_df[\"Aromatic cap\"]==True], \n",
    "                y=\"aro_plane_normal-isopep_NZ_angle\", \n",
    "                x=\"distance_to_aro\", ax=ax,\n",
    "                edgecolors=\"white\", facecolors='black',\n",
    "               label=\"Aromatic cap: True\")\n",
    "\n",
    "sns.scatterplot(plot_df[plot_df[\"Aromatic cap\"]==False], \n",
    "                y=\"aro_plane_normal-isopep_NZ_angle\", \n",
    "                x=\"distance_to_aro\", ax=ax,\n",
    "                edgecolors=\"black\", facecolors='none',\n",
    "               label=\"Aromatic cap: False\")\n",
    "\n",
    "ax.set_ylim([0, 180])\n",
    "ax.set_xlim([2.5, 9])\n",
    "ax.set_ylabel(\"Aromatic ring-isopeptide bond angle (°)\")\n",
    "ax.set_xlabel(\"Aromatic ring-isopeptide bond distance (Å)\")\n",
    "sns.despine(ax=ax, offset=10)\n",
    "\n",
    "#plt.savefig(\"../tmp/aro_param.png\", dpi=300, transparent=True, bbox_inches=\"tight\")"
   ]
  },
  {
   "cell_type": "code",
   "execution_count": 7,
   "metadata": {},
   "outputs": [],
   "source": [
    "# Save aligned versions of each aro-bond\n",
    "output = \"../tmp/aro\"\n",
    "shutil.rmtree(output)\n",
    "os.makedirs(output, exist_ok=True)\n",
    "\n",
    "templates = {\n",
    "    \"trp\": None,\n",
    "    \"tyr\": None, \n",
    "    \"phe\": None\n",
    "}\n",
    "structure_path, chain = None, None\n",
    "\n",
    "for index, row in pdb_df.sort_values(\"structure_path\").iterrows():\n",
    "    # Upload new structure if necessary\n",
    "    tmp_structure_path = row[\"structure_path\"]\n",
    "    tmp_chain = row[\"Chain\"]\n",
    "    if tmp_structure_path != structure_path or tmp_chain != chain:\n",
    "        structure_path = tmp_structure_path\n",
    "        chain = tmp_chain\n",
    "        pdb_file = pdb.PDBFile.read(structure_path)\n",
    "        structure = struc.array([atom for atom in pdb_file.get_structure()[0] if atom.hetero==False and atom.chain_id == chain and atom.element != \"H\"])\n",
    "    \n",
    "    # Get aromatic residue and bond resid\n",
    "    aro_res_id = row[\"aro_res_id\"]\n",
    "    aro_res_name = row[\"aro_res_name\"].lower()\n",
    "    r1 = row[\"Position 1\\r\\n(Bond 1)\"]\n",
    "    aro_cap = row[\"aro_cap\"]\n",
    "    # Upload template if necessary\n",
    "    if not templates[aro_res_name]:\n",
    "        template = structure[structure.res_id == aro_res_id]\n",
    "        # Center ring centroir on origin\n",
    "        ring_centroid = np.mean(template[~np.isin(template.atom_name, [\"C\", \"N\", \"O\", \"CA\", \"CB\"])].coord, axis=0)\n",
    "        template.coord -= ring_centroid\n",
    "        templates[aro_res_name] = template\n",
    "        # Save template\n",
    "        template = templates[aro_res_name]\n",
    "        tmp_output = os.path.join(output, f\"template_{aro_res_name}.pdb\")\n",
    "        out_file = pdb.PDBFile()\n",
    "        out_file.set_structure(template)\n",
    "        out_file.write(tmp_output)\n",
    "    \n",
    "    template = templates[aro_res_name]\n",
    "    target = structure[(structure.res_id == aro_res_id) | \\\n",
    "                        ((structure.res_id == r1) & (structure.atom_name == \"NZ\"))]\n",
    "\n",
    "    tmp_template = template[~np.isin(template.atom_name, [\"C\", \"N\", \"O\", \"CA\", \"CB\"])]\n",
    "    tmp_target = target[~np.isin(target.atom_name, [\"C\", \"N\", \"O\", \"CA\", \"CB\", \"NZ\"])]\n",
    "    \n",
    "    # Superpose the aro to the template\n",
    "    fitted_target_aro, transform = struc.superimpose(tmp_template, tmp_target)\n",
    "    # Transform aro+lys nz based on the superposition\n",
    "    target = transform.apply(target)\n",
    "\n",
    "    # Check if wrong orientation:\n",
    "    backbone_atoms = target[np.isin(target.atom_name, [\"CA\", \"CB\"])]\n",
    "    template_backbone = template[np.isin(template.atom_name, [\"CA\", \"CB\"])]\n",
    "    if len(backbone_atoms) == 2 and len(template_backbone) == 2:\n",
    "        vec_target = backbone_atoms.coord[1] - backbone_atoms.coord[0]\n",
    "        vec_template = template_backbone.coord[1] - template_backbone.coord[0]\n",
    "        # If wrong orientation, rotate around aro ring\n",
    "        if np.dot(vec_target, vec_template) < 0:\n",
    "\n",
    "            aro_ring_atoms = target[np.isin(target.atom_name, [\"CG\", \"CZ\"])]\n",
    "            rotation_vector = aro_ring_atoms.coord[1] - aro_ring_atoms.coord[0]\n",
    "            # Rotate by 180 degrees\n",
    "            target = struc.rotate_about_axis(target, rotation_vector, angle=np.pi)\n",
    "\n",
    "    # Save before\n",
    "    tmp_output = os.path.join(output, f\"{aro_res_name}_aro_{aro_res_id}_lys_{r1}.pdb\")\n",
    "    if aro_cap:\n",
    "        tmp_output = os.path.join(output, f\"{aro_res_name}_cap_aro_{aro_res_id}_lys_{r1}.pdb\")\n",
    "    out_file = pdb.PDBFile()\n",
    "    out_file.set_structure(target)\n",
    "    out_file.write(tmp_output)"
   ]
  },
  {
   "cell_type": "markdown",
   "metadata": {},
   "source": [
    "## Cis/trans vs other properties"
   ]
  },
  {
   "cell_type": "code",
   "execution_count": 4,
   "metadata": {},
   "outputs": [],
   "source": [
    "cond1 = pdb_df[\"Is bonded\"]\n",
    "cond2 = ~pdb_df[\"Bad rotamer\"]\n",
    "cond3 = ~pdb_df[\"Unusual geometry/chemistry\"]\n",
    "cond4 = pdb_df[\"Isopeptide type\"] != \"Mutant\"\n",
    "cond5 = pdb_df[\"Resolution\"] <= 2.5\n",
    "analysis_df = pdb_df[cond1 & cond2 & cond3 & cond4 & cond5].drop_duplicates(\"isopep_sequence\").copy()"
   ]
  },
  {
   "cell_type": "code",
   "execution_count": 5,
   "metadata": {},
   "outputs": [
    {
     "data": {
      "text/html": [
       "<div>\n",
       "<style scoped>\n",
       "    .dataframe tbody tr th:only-of-type {\n",
       "        vertical-align: middle;\n",
       "    }\n",
       "\n",
       "    .dataframe tbody tr th {\n",
       "        vertical-align: top;\n",
       "    }\n",
       "\n",
       "    .dataframe thead th {\n",
       "        text-align: right;\n",
       "    }\n",
       "</style>\n",
       "<table border=\"1\" class=\"dataframe\">\n",
       "  <thead>\n",
       "    <tr style=\"text-align: right;\">\n",
       "      <th></th>\n",
       "      <th>Residue 3</th>\n",
       "      <th>cis</th>\n",
       "      <th>percentage</th>\n",
       "    </tr>\n",
       "  </thead>\n",
       "  <tbody>\n",
       "    <tr>\n",
       "      <th>0</th>\n",
       "      <td>D</td>\n",
       "      <td>False</td>\n",
       "      <td>100.0</td>\n",
       "    </tr>\n",
       "    <tr>\n",
       "      <th>1</th>\n",
       "      <td>N</td>\n",
       "      <td>False</td>\n",
       "      <td>56.0</td>\n",
       "    </tr>\n",
       "    <tr>\n",
       "      <th>2</th>\n",
       "      <td>N</td>\n",
       "      <td>True</td>\n",
       "      <td>44.0</td>\n",
       "    </tr>\n",
       "  </tbody>\n",
       "</table>\n",
       "</div>"
      ],
      "text/plain": [
       "  Residue 3    cis  percentage\n",
       "0         D  False       100.0\n",
       "1         N  False        56.0\n",
       "2         N   True        44.0"
      ]
     },
     "execution_count": 5,
     "metadata": {},
     "output_type": "execute_result"
    }
   ],
   "source": [
    "# Vs lys/asp\n",
    "analysis_df.groupby(\"Residue 3\")[\"cis\"] \\\n",
    "    .value_counts(normalize=True) \\\n",
    "    .mul(100) \\\n",
    "    .rename(\"percentage\") \\\n",
    "    .reset_index()"
   ]
  },
  {
   "cell_type": "code",
   "execution_count": 6,
   "metadata": {},
   "outputs": [
    {
     "data": {
      "text/html": [
       "<div>\n",
       "<style scoped>\n",
       "    .dataframe tbody tr th:only-of-type {\n",
       "        vertical-align: middle;\n",
       "    }\n",
       "\n",
       "    .dataframe tbody tr th {\n",
       "        vertical-align: top;\n",
       "    }\n",
       "\n",
       "    .dataframe thead th {\n",
       "        text-align: right;\n",
       "    }\n",
       "</style>\n",
       "<table border=\"1\" class=\"dataframe\">\n",
       "  <thead>\n",
       "    <tr style=\"text-align: right;\">\n",
       "      <th></th>\n",
       "      <th>Isopeptide type</th>\n",
       "      <th>cis</th>\n",
       "      <th>percentage</th>\n",
       "    </tr>\n",
       "  </thead>\n",
       "  <tbody>\n",
       "    <tr>\n",
       "      <th>0</th>\n",
       "      <td>CnaA-like</td>\n",
       "      <td>True</td>\n",
       "      <td>57.0</td>\n",
       "    </tr>\n",
       "    <tr>\n",
       "      <th>1</th>\n",
       "      <td>CnaA-like</td>\n",
       "      <td>False</td>\n",
       "      <td>43.0</td>\n",
       "    </tr>\n",
       "    <tr>\n",
       "      <th>2</th>\n",
       "      <td>CnaB-like</td>\n",
       "      <td>False</td>\n",
       "      <td>73.0</td>\n",
       "    </tr>\n",
       "    <tr>\n",
       "      <th>3</th>\n",
       "      <td>CnaB-like</td>\n",
       "      <td>True</td>\n",
       "      <td>27.0</td>\n",
       "    </tr>\n",
       "  </tbody>\n",
       "</table>\n",
       "</div>"
      ],
      "text/plain": [
       "  Isopeptide type    cis  percentage\n",
       "0       CnaA-like   True        57.0\n",
       "1       CnaA-like  False        43.0\n",
       "2       CnaB-like  False        73.0\n",
       "3       CnaB-like   True        27.0"
      ]
     },
     "execution_count": 6,
     "metadata": {},
     "output_type": "execute_result"
    }
   ],
   "source": [
    "analysis_df.groupby(\"Isopeptide type\")[\"cis\"] \\\n",
    "    .value_counts(normalize=True) \\\n",
    "    .mul(100) \\\n",
    "    .rename(\"percentage\") \\\n",
    "    .reset_index().round()"
   ]
  },
  {
   "cell_type": "code",
   "execution_count": 7,
   "metadata": {},
   "outputs": [
    {
     "data": {
      "text/html": [
       "<div>\n",
       "<style scoped>\n",
       "    .dataframe tbody tr th:only-of-type {\n",
       "        vertical-align: middle;\n",
       "    }\n",
       "\n",
       "    .dataframe tbody tr th {\n",
       "        vertical-align: top;\n",
       "    }\n",
       "\n",
       "    .dataframe thead th {\n",
       "        text-align: right;\n",
       "    }\n",
       "</style>\n",
       "<table border=\"1\" class=\"dataframe\">\n",
       "  <thead>\n",
       "    <tr style=\"text-align: right;\">\n",
       "      <th></th>\n",
       "      <th>Domain insert in loop?</th>\n",
       "      <th>cis</th>\n",
       "      <th>percentage</th>\n",
       "    </tr>\n",
       "  </thead>\n",
       "  <tbody>\n",
       "    <tr>\n",
       "      <th>0</th>\n",
       "      <td>False</td>\n",
       "      <td>False</td>\n",
       "      <td>56.0</td>\n",
       "    </tr>\n",
       "    <tr>\n",
       "      <th>1</th>\n",
       "      <td>False</td>\n",
       "      <td>True</td>\n",
       "      <td>44.0</td>\n",
       "    </tr>\n",
       "    <tr>\n",
       "      <th>2</th>\n",
       "      <td>True</td>\n",
       "      <td>False</td>\n",
       "      <td>100.0</td>\n",
       "    </tr>\n",
       "  </tbody>\n",
       "</table>\n",
       "</div>"
      ],
      "text/plain": [
       "   Domain insert in loop?    cis  percentage\n",
       "0                   False  False        56.0\n",
       "1                   False   True        44.0\n",
       "2                    True  False       100.0"
      ]
     },
     "execution_count": 7,
     "metadata": {},
     "output_type": "execute_result"
    }
   ],
   "source": [
    "analysis_df.groupby(\"Domain insert in loop?\")[\"cis\"] \\\n",
    "    .value_counts(normalize=True) \\\n",
    "    .mul(100) \\\n",
    "    .rename(\"percentage\") \\\n",
    "    .reset_index().round()"
   ]
  },
  {
   "cell_type": "code",
   "execution_count": 8,
   "metadata": {},
   "outputs": [
    {
     "data": {
      "text/html": [
       "<div>\n",
       "<style scoped>\n",
       "    .dataframe tbody tr th:only-of-type {\n",
       "        vertical-align: middle;\n",
       "    }\n",
       "\n",
       "    .dataframe tbody tr th {\n",
       "        vertical-align: top;\n",
       "    }\n",
       "\n",
       "    .dataframe thead th {\n",
       "        text-align: right;\n",
       "    }\n",
       "</style>\n",
       "<table border=\"1\" class=\"dataframe\">\n",
       "  <thead>\n",
       "    <tr style=\"text-align: right;\">\n",
       "      <th></th>\n",
       "      <th>aro_cap</th>\n",
       "      <th>cis</th>\n",
       "      <th>percentage</th>\n",
       "    </tr>\n",
       "  </thead>\n",
       "  <tbody>\n",
       "    <tr>\n",
       "      <th>0</th>\n",
       "      <td>False</td>\n",
       "      <td>False</td>\n",
       "      <td>88.0</td>\n",
       "    </tr>\n",
       "    <tr>\n",
       "      <th>1</th>\n",
       "      <td>False</td>\n",
       "      <td>True</td>\n",
       "      <td>12.0</td>\n",
       "    </tr>\n",
       "    <tr>\n",
       "      <th>2</th>\n",
       "      <td>True</td>\n",
       "      <td>True</td>\n",
       "      <td>82.0</td>\n",
       "    </tr>\n",
       "    <tr>\n",
       "      <th>3</th>\n",
       "      <td>True</td>\n",
       "      <td>False</td>\n",
       "      <td>18.0</td>\n",
       "    </tr>\n",
       "  </tbody>\n",
       "</table>\n",
       "</div>"
      ],
      "text/plain": [
       "   aro_cap    cis  percentage\n",
       "0    False  False        88.0\n",
       "1    False   True        12.0\n",
       "2     True   True        82.0\n",
       "3     True  False        18.0"
      ]
     },
     "execution_count": 8,
     "metadata": {},
     "output_type": "execute_result"
    }
   ],
   "source": [
    "analysis_df.groupby(\"aro_cap\")[\"cis\"] \\\n",
    "    .value_counts(normalize=True) \\\n",
    "    .mul(100) \\\n",
    "    .rename(\"percentage\") \\\n",
    "    .reset_index().round()"
   ]
  },
  {
   "cell_type": "code",
   "execution_count": 13,
   "metadata": {},
   "outputs": [
    {
     "data": {
      "text/html": [
       "<div>\n",
       "<style scoped>\n",
       "    .dataframe tbody tr th:only-of-type {\n",
       "        vertical-align: middle;\n",
       "    }\n",
       "\n",
       "    .dataframe tbody tr th {\n",
       "        vertical-align: top;\n",
       "    }\n",
       "\n",
       "    .dataframe thead th {\n",
       "        text-align: right;\n",
       "    }\n",
       "</style>\n",
       "<table border=\"1\" class=\"dataframe\">\n",
       "  <thead>\n",
       "    <tr style=\"text-align: right;\">\n",
       "      <th></th>\n",
       "      <th>cis</th>\n",
       "      <th>aro_cap</th>\n",
       "      <th>percentage</th>\n",
       "    </tr>\n",
       "  </thead>\n",
       "  <tbody>\n",
       "    <tr>\n",
       "      <th>0</th>\n",
       "      <td>False</td>\n",
       "      <td>False</td>\n",
       "      <td>88.0</td>\n",
       "    </tr>\n",
       "    <tr>\n",
       "      <th>1</th>\n",
       "      <td>False</td>\n",
       "      <td>True</td>\n",
       "      <td>12.0</td>\n",
       "    </tr>\n",
       "    <tr>\n",
       "      <th>2</th>\n",
       "      <td>True</td>\n",
       "      <td>True</td>\n",
       "      <td>82.0</td>\n",
       "    </tr>\n",
       "    <tr>\n",
       "      <th>3</th>\n",
       "      <td>True</td>\n",
       "      <td>False</td>\n",
       "      <td>18.0</td>\n",
       "    </tr>\n",
       "  </tbody>\n",
       "</table>\n",
       "</div>"
      ],
      "text/plain": [
       "     cis  aro_cap  percentage\n",
       "0  False    False        88.0\n",
       "1  False     True        12.0\n",
       "2   True     True        82.0\n",
       "3   True    False        18.0"
      ]
     },
     "execution_count": 13,
     "metadata": {},
     "output_type": "execute_result"
    }
   ],
   "source": [
    "analysis_df.groupby(\"cis\")[\"aro_cap\"] \\\n",
    "    .value_counts(normalize=True) \\\n",
    "    .mul(100) \\\n",
    "    .rename(\"percentage\") \\\n",
    "    .reset_index().round()"
   ]
  },
  {
   "cell_type": "code",
   "execution_count": 14,
   "metadata": {},
   "outputs": [
    {
     "data": {
      "text/plain": [
       "Domain insert in loop?  cis  \n",
       "False                   False    42\n",
       "                        True     33\n",
       "True                    False     9\n",
       "Name: count, dtype: int64"
      ]
     },
     "execution_count": 14,
     "metadata": {},
     "output_type": "execute_result"
    }
   ],
   "source": [
    "analysis_df.groupby(\"Domain insert in loop?\")[\"cis\"] \\\n",
    "    .value_counts(normalize=False)"
   ]
  },
  {
   "cell_type": "markdown",
   "metadata": {
    "jp-MarkdownHeadingCollapsed": true
   },
   "source": [
    "## Cluster"
   ]
  },
  {
   "cell_type": "code",
   "execution_count": 8,
   "metadata": {},
   "outputs": [],
   "source": [
    "# Get atoms-coordinates. Calc matrix of distance with biotite.structure.distance()\n",
    "import biotite.structure.io.pdb as pdb\n",
    "import biotite.structure as struc\n",
    "from sklearn.decomposition import PCA\n",
    "from sklearn.preprocessing import StandardScaler\n",
    "from sklearn.cluster import KMeans\n",
    "from sklearn.metrics import silhouette_score"
   ]
  },
  {
   "cell_type": "code",
   "execution_count": 15,
   "metadata": {},
   "outputs": [],
   "source": [
    "cond1 = pdb_df[\"Is bonded\"]\n",
    "cond2 = ~pdb_df[\"Bad rotamer\"]\n",
    "cluster_df = pdb_df[cond1 & cond2].copy()\n",
    "\n",
    "dist_dict = {}\n",
    "\n",
    "for index, row in cluster_df.iterrows():\n",
    "    pdb_code = row[\"PDB code\"]\n",
    "    struct_path = row[\"structure_path\"]\n",
    "    chain = row[\"Chain\"]\n",
    "    r1 = row[\"Position 1\\r\\n(Bond 1)\"]\n",
    "    r3 = row[\"Position 3\\r\\n(Bond 2)\"]\n",
    "    aro_res_id = row[\"aro_res_id\"]\n",
    "    aro_res_name = row[\"aro_res_name\"]\n",
    "    pdb_file = pdb.PDBFile.read(struct_path)\n",
    "    structure = struc.array([atom for atom in pdb_file.get_structure()[0] if atom.hetero==False \\\n",
    "                                and atom.chain_id == chain and atom.element != \"H\"])\n",
    "    # Make sure the order is kept\n",
    "    isopep_atoms = struc.array([atom for atom in structure if atom.res_id == r1])\n",
    "    isopep_atoms = isopep_atoms + struc.array([atom for atom in structure if atom.res_id == r3])\n",
    "\n",
    "    assert len(isopep_atoms) == 16, f\"Bond with wrong amount of atoms: {pdb_code}_{r1}, {len(isopep_atoms)}\"\n",
    "    distances = []\n",
    "    for atom in isopep_atoms:\n",
    "        tmp_distances = struc.distance(atom, isopep_atoms)\n",
    "        distances.extend(tmp_distances)\n",
    "\n",
    "    dist_dict[f\"{pdb_code}_{r1}\"] = distances"
   ]
  },
  {
   "cell_type": "code",
   "execution_count": 56,
   "metadata": {},
   "outputs": [
    {
     "name": "stdout",
     "output_type": "stream",
     "text": [
      "Silhouette Score: 0.2827479839324951\n"
     ]
    }
   ],
   "source": [
    "# to np array\n",
    "dist_arr = np.array([dist_dict[d] for d in dist_dict])\n",
    "\n",
    "# Normalize data\n",
    "scaler = StandardScaler()\n",
    "data_scaled = scaler.fit_transform(dist_arr)\n",
    "\n",
    "# PCA, Retain 95% of variance\n",
    "pca = PCA(n_components=0.9)\n",
    "data_pca = pca.fit_transform(data_scaled)\n",
    "\n",
    "# Step 3: Apply KMeans clustering\n",
    "kmeans = KMeans(n_clusters=4, random_state=42)\n",
    "labels = kmeans.fit_predict(data_pca)\n",
    "\n",
    "# Step 4: Evaluate clustering\n",
    "sil_score = silhouette_score(data_pca, labels)\n",
    "print(f\"Silhouette Score: {sil_score}\")"
   ]
  },
  {
   "cell_type": "code",
   "execution_count": 57,
   "metadata": {},
   "outputs": [
    {
     "data": {
      "image/png": "[encoded data removed]",
      "text/plain": [
       "<Figure size 640x480 with 1 Axes>"
      ]
     },
     "metadata": {},
     "output_type": "display_data"
    }
   ],
   "source": [
    "plt.scatter(data_pca[:, 0], data_pca[:, 1], c=labels, cmap='viridis')\n",
    "plt.title(\"PCA Clusters\")\n",
    "variance_ratio = pca.explained_variance_ratio_\n",
    "pc1_var = variance_ratio[0] * 100\n",
    "pc2_var = variance_ratio[1] * 100\n",
    "plt.xlabel(f\"PC1 ({pc1_var:.2f}% Variance)\")\n",
    "plt.ylabel(f\"PC2 ({pc2_var:.2f}% Variance)\")\n",
    "plt.show()"
   ]
  },
  {
   "cell_type": "code",
   "execution_count": 58,
   "metadata": {},
   "outputs": [],
   "source": [
    "# Get clusters\n",
    "cluster_df[\"cluster\"] = labels"
   ]
  },
  {
   "cell_type": "code",
   "execution_count": 38,
   "metadata": {},
   "outputs": [],
   "source": [
    "# Create a structural alignment for each cluster\n",
    "\n",
    "output = \"../tmp/struct_align\"\n",
    "os.makedirs(output, exist_ok=True)\n",
    "\n",
    "cluster = -1\n",
    "for index, row in cluster_df.sort_values(\"cluster\").iterrows():\n",
    "    pdb_code = row[\"PDB code\"]\n",
    "    struct_path = row[\"structure_path\"]\n",
    "    chain = row[\"Chain\"]\n",
    "    r1 = row[\"Position 1\\r\\n(Bond 1)\"]\n",
    "    r2 = row[\"Position 2\\r\\n(catalytic)\"]\n",
    "    r3 = row[\"Position 3\\r\\n(Bond 2)\"]\n",
    "    tmp_cluster = row[\"cluster\"]\n",
    "    pdb_file = pdb.PDBFile.read(struct_path)\n",
    "    structure = struc.array([atom for atom in pdb_file.get_structure()[0] if atom.hetero==False \\\n",
    "                                and atom.chain_id == chain and atom.element != \"H\"])\n",
    "    align_atoms = structure[structure.res_id == r1]\n",
    "    isopep_bond = structure[(structure.res_id == r1) | (structure.res_id == r2) | (structure.res_id == r3)]\n",
    "    \n",
    "    if tmp_cluster != cluster:\n",
    "        cluster = tmp_cluster\n",
    "        template_atoms = align_atoms\n",
    "    \n",
    "    fitted, transformation = struc.superimpose(template_atoms, align_atoms)\n",
    "    transf_isopep = transformation.apply(isopep_bond)\n",
    "    os.makedirs(os.path.join(output, f\"cluster_{cluster}\"), exist_ok=True)\n",
    "    struc.io.save_structure(os.path.join(output, f\"cluster_{cluster}\", f\"cluster_{cluster}_{pdb_code}_{chain}_{r1}_{r2}_{r3}.pdb\"), transf_isopep)"
   ]
  },
  {
   "cell_type": "code",
   "execution_count": 48,
   "metadata": {},
   "outputs": [
    {
     "data": {
      "text/html": [
       "<div>\n",
       "<style scoped>\n",
       "    .dataframe tbody tr th:only-of-type {\n",
       "        vertical-align: middle;\n",
       "    }\n",
       "\n",
       "    .dataframe tbody tr th {\n",
       "        vertical-align: top;\n",
       "    }\n",
       "\n",
       "    .dataframe thead th {\n",
       "        text-align: right;\n",
       "    }\n",
       "</style>\n",
       "<table border=\"1\" class=\"dataframe\">\n",
       "  <thead>\n",
       "    <tr style=\"text-align: right;\">\n",
       "      <th></th>\n",
       "      <th>Isopeptide type</th>\n",
       "      <th>cluster</th>\n",
       "      <th>count</th>\n",
       "    </tr>\n",
       "  </thead>\n",
       "  <tbody>\n",
       "    <tr>\n",
       "      <th>1</th>\n",
       "      <td>CnaA-like</td>\n",
       "      <td>0</td>\n",
       "      <td>49</td>\n",
       "    </tr>\n",
       "    <tr>\n",
       "      <th>2</th>\n",
       "      <td>CnaA-like</td>\n",
       "      <td>2</td>\n",
       "      <td>21</td>\n",
       "    </tr>\n",
       "    <tr>\n",
       "      <th>0</th>\n",
       "      <td>CnaB-like</td>\n",
       "      <td>1</td>\n",
       "      <td>112</td>\n",
       "    </tr>\n",
       "  </tbody>\n",
       "</table>\n",
       "</div>"
      ],
      "text/plain": [
       "  Isopeptide type  cluster  count\n",
       "1       CnaA-like        0     49\n",
       "2       CnaA-like        2     21\n",
       "0       CnaB-like        1    112"
      ]
     },
     "execution_count": 48,
     "metadata": {},
     "output_type": "execute_result"
    }
   ],
   "source": [
    "cluster_df[cluster_df[\"Isopeptide type\"]!=\"Mutant\"].value_counts([\"Isopeptide type\", \"cluster\"])\\\n",
    "    .reset_index()\\\n",
    "    .sort_values(\"Isopeptide type\")"
   ]
  },
  {
   "cell_type": "code",
   "execution_count": 49,
   "metadata": {},
   "outputs": [
    {
     "data": {
      "text/plain": [
       "<Axes: xlabel='aro-isopep_planes_angle', ylabel='distance_to_aro'>"
      ]
     },
     "execution_count": 49,
     "metadata": {},
     "output_type": "execute_result"
    },
    {
     "data": {
      "image/png": "[encoded data removed]",
      "text/plain": [
       "<Figure size 640x480 with 1 Axes>"
      ]
     },
     "metadata": {},
     "output_type": "display_data"
    }
   ],
   "source": [
    "sns.scatterplot(cluster_df, x=\"aro-isopep_planes_angle\", y=\"distance_to_aro\", hue=\"cluster\", palette=\"viridis\")"
   ]
  },
  {
   "cell_type": "code",
   "execution_count": 50,
   "metadata": {},
   "outputs": [
    {
     "data": {
      "text/plain": [
       "<Axes: xlabel='o_atom_distance', ylabel='Count'>"
      ]
     },
     "execution_count": 50,
     "metadata": {},
     "output_type": "execute_result"
    },
    {
     "data": {
      "image/png": "[encoded data removed]",
      "text/plain": [
       "<Figure size 640x480 with 1 Axes>"
      ]
     },
     "metadata": {},
     "output_type": "display_data"
    }
   ],
   "source": [
    "sns.histplot(cluster_df, x=\"o_atom_distance\", hue=\"cluster\", palette=\"viridis\")"
   ]
  },
  {
   "cell_type": "code",
   "execution_count": 51,
   "metadata": {},
   "outputs": [
    {
     "data": {
      "text/plain": [
       "<Axes: xlabel='pseudo_psi', ylabel='pseudo_phi'>"
      ]
     },
     "execution_count": 51,
     "metadata": {},
     "output_type": "execute_result"
    },
    {
     "data": {
      "image/png": "[encoded data removed]",
      "text/plain": [
       "<Figure size 640x480 with 1 Axes>"
      ]
     },
     "metadata": {},
     "output_type": "display_data"
    }
   ],
   "source": [
    "sns.scatterplot(cluster_df, x=\"pseudo_psi\", y=\"pseudo_phi\", hue=\"cluster\", palette=\"viridis\")"
   ]
  },
  {
   "cell_type": "code",
   "execution_count": 52,
   "metadata": {},
   "outputs": [
    {
     "data": {
      "text/plain": [
       "<Axes: xlabel='pseudo_psi', ylabel='pseudo_omega'>"
      ]
     },
     "execution_count": 52,
     "metadata": {},
     "output_type": "execute_result"
    },
    {
     "data": {
      "image/png": "[encoded data removed]",
      "text/plain": [
       "<Figure size 640x480 with 1 Axes>"
      ]
     },
     "metadata": {},
     "output_type": "display_data"
    }
   ],
   "source": [
    "sns.scatterplot(cluster_df, x=\"pseudo_psi\", y=\"pseudo_omega\", hue=\"cluster\", palette=\"viridis\")\n"
   ]
  },
  {
   "cell_type": "code",
   "execution_count": 53,
   "metadata": {},
   "outputs": [
    {
     "data": {
      "text/plain": [
       "<Axes: xlabel='pseudo_phi', ylabel='pseudo_omega'>"
      ]
     },
     "execution_count": 53,
     "metadata": {},
     "output_type": "execute_result"
    },
    {
     "data": {
      "image/png": "[encoded data removed]",
      "text/plain": [
       "<Figure size 640x480 with 1 Axes>"
      ]
     },
     "metadata": {},
     "output_type": "display_data"
    }
   ],
   "source": [
    "sns.scatterplot(cluster_df, x=\"pseudo_phi\", y=\"pseudo_omega\", hue=\"cluster\", palette=\"viridis\")"
   ]
  },
  {
   "cell_type": "code",
   "execution_count": 59,
   "metadata": {},
   "outputs": [],
   "source": [
    "# Add cis\n",
    "cluster_df[\"cis\"] = False\n",
    "cluster_df.loc[(cluster_df[\"pseudo_omega\"]>=-60)&(cluster_df[\"pseudo_omega\"]<60), \"cis\"] = True"
   ]
  },
  {
   "cell_type": "code",
   "execution_count": 63,
   "metadata": {},
   "outputs": [
    {
     "data": {
      "text/html": [
       "<div>\n",
       "<style scoped>\n",
       "    .dataframe tbody tr th:only-of-type {\n",
       "        vertical-align: middle;\n",
       "    }\n",
       "\n",
       "    .dataframe tbody tr th {\n",
       "        vertical-align: top;\n",
       "    }\n",
       "\n",
       "    .dataframe thead th {\n",
       "        text-align: right;\n",
       "    }\n",
       "</style>\n",
       "<table border=\"1\" class=\"dataframe\">\n",
       "  <thead>\n",
       "    <tr style=\"text-align: right;\">\n",
       "      <th></th>\n",
       "      <th>Isopeptide type</th>\n",
       "      <th>cluster</th>\n",
       "      <th>cis</th>\n",
       "      <th>count</th>\n",
       "    </tr>\n",
       "  </thead>\n",
       "  <tbody>\n",
       "    <tr>\n",
       "      <th>1</th>\n",
       "      <td>CnaA-like</td>\n",
       "      <td>0</td>\n",
       "      <td>True</td>\n",
       "      <td>48</td>\n",
       "    </tr>\n",
       "    <tr>\n",
       "      <th>5</th>\n",
       "      <td>CnaA-like</td>\n",
       "      <td>0</td>\n",
       "      <td>False</td>\n",
       "      <td>1</td>\n",
       "    </tr>\n",
       "    <tr>\n",
       "      <th>6</th>\n",
       "      <td>CnaB-like</td>\n",
       "      <td>1</td>\n",
       "      <td>True</td>\n",
       "      <td>1</td>\n",
       "    </tr>\n",
       "    <tr>\n",
       "      <th>0</th>\n",
       "      <td>CnaB-like</td>\n",
       "      <td>1</td>\n",
       "      <td>False</td>\n",
       "      <td>74</td>\n",
       "    </tr>\n",
       "    <tr>\n",
       "      <th>3</th>\n",
       "      <td>CnaA-like</td>\n",
       "      <td>2</td>\n",
       "      <td>False</td>\n",
       "      <td>21</td>\n",
       "    </tr>\n",
       "    <tr>\n",
       "      <th>2</th>\n",
       "      <td>CnaB-like</td>\n",
       "      <td>3</td>\n",
       "      <td>True</td>\n",
       "      <td>30</td>\n",
       "    </tr>\n",
       "    <tr>\n",
       "      <th>4</th>\n",
       "      <td>CnaB-like</td>\n",
       "      <td>3</td>\n",
       "      <td>False</td>\n",
       "      <td>5</td>\n",
       "    </tr>\n",
       "  </tbody>\n",
       "</table>\n",
       "</div>"
      ],
      "text/plain": [
       "  Isopeptide type  cluster    cis  count\n",
       "1       CnaA-like        0   True     48\n",
       "5       CnaA-like        0  False      1\n",
       "6       CnaB-like        1   True      1\n",
       "0       CnaB-like        1  False     74\n",
       "3       CnaA-like        2  False     21\n",
       "2       CnaB-like        3   True     30\n",
       "4       CnaB-like        3  False      5"
      ]
     },
     "execution_count": 63,
     "metadata": {},
     "output_type": "execute_result"
    }
   ],
   "source": [
    "cond1 = (cluster_df[\"Isopeptide type\"]!=\"Mutant\")\n",
    "cond2 = (~cluster_df[\"Residue 2\"].isin([\"A\", \"S\"]))\n",
    "cluster_df[cond1&cond2].value_counts([\"Isopeptide type\", \"cluster\", \"cis\"])\\\n",
    "    .reset_index()\\\n",
    "    .sort_values(\"cluster\")"
   ]
  },
  {
   "cell_type": "code",
   "execution_count": 64,
   "metadata": {},
   "outputs": [
    {
     "data": {
      "text/html": [
       "<div>\n",
       "<style scoped>\n",
       "    .dataframe tbody tr th:only-of-type {\n",
       "        vertical-align: middle;\n",
       "    }\n",
       "\n",
       "    .dataframe tbody tr th {\n",
       "        vertical-align: top;\n",
       "    }\n",
       "\n",
       "    .dataframe thead th {\n",
       "        text-align: right;\n",
       "    }\n",
       "</style>\n",
       "<table border=\"1\" class=\"dataframe\">\n",
       "  <thead>\n",
       "    <tr style=\"text-align: right;\">\n",
       "      <th></th>\n",
       "      <th>Isopeptide type</th>\n",
       "      <th>cluster</th>\n",
       "      <th>Residue 1</th>\n",
       "      <th>Residue 2</th>\n",
       "      <th>Residue 3</th>\n",
       "      <th>count</th>\n",
       "    </tr>\n",
       "  </thead>\n",
       "  <tbody>\n",
       "    <tr>\n",
       "      <th>1</th>\n",
       "      <td>CnaA-like</td>\n",
       "      <td>0</td>\n",
       "      <td>K</td>\n",
       "      <td>D</td>\n",
       "      <td>N</td>\n",
       "      <td>49</td>\n",
       "    </tr>\n",
       "    <tr>\n",
       "      <th>0</th>\n",
       "      <td>CnaB-like</td>\n",
       "      <td>1</td>\n",
       "      <td>K</td>\n",
       "      <td>E</td>\n",
       "      <td>N</td>\n",
       "      <td>54</td>\n",
       "    </tr>\n",
       "    <tr>\n",
       "      <th>6</th>\n",
       "      <td>CnaB-like</td>\n",
       "      <td>1</td>\n",
       "      <td>K</td>\n",
       "      <td>D</td>\n",
       "      <td>N</td>\n",
       "      <td>1</td>\n",
       "    </tr>\n",
       "    <tr>\n",
       "      <th>4</th>\n",
       "      <td>CnaB-like</td>\n",
       "      <td>1</td>\n",
       "      <td>K</td>\n",
       "      <td>E</td>\n",
       "      <td>D</td>\n",
       "      <td>20</td>\n",
       "    </tr>\n",
       "    <tr>\n",
       "      <th>3</th>\n",
       "      <td>CnaA-like</td>\n",
       "      <td>2</td>\n",
       "      <td>K</td>\n",
       "      <td>D</td>\n",
       "      <td>N</td>\n",
       "      <td>21</td>\n",
       "    </tr>\n",
       "    <tr>\n",
       "      <th>2</th>\n",
       "      <td>CnaB-like</td>\n",
       "      <td>3</td>\n",
       "      <td>K</td>\n",
       "      <td>E</td>\n",
       "      <td>N</td>\n",
       "      <td>33</td>\n",
       "    </tr>\n",
       "    <tr>\n",
       "      <th>5</th>\n",
       "      <td>CnaB-like</td>\n",
       "      <td>3</td>\n",
       "      <td>K</td>\n",
       "      <td>E</td>\n",
       "      <td>D</td>\n",
       "      <td>2</td>\n",
       "    </tr>\n",
       "  </tbody>\n",
       "</table>\n",
       "</div>"
      ],
      "text/plain": [
       "  Isopeptide type  cluster Residue 1 Residue 2 Residue 3  count\n",
       "1       CnaA-like        0         K         D         N     49\n",
       "0       CnaB-like        1         K         E         N     54\n",
       "6       CnaB-like        1         K         D         N      1\n",
       "4       CnaB-like        1         K         E         D     20\n",
       "3       CnaA-like        2         K         D         N     21\n",
       "2       CnaB-like        3         K         E         N     33\n",
       "5       CnaB-like        3         K         E         D      2"
      ]
     },
     "execution_count": 64,
     "metadata": {},
     "output_type": "execute_result"
    }
   ],
   "source": [
    "cluster_df[cond1&cond2].value_counts([\"Isopeptide type\", \"cluster\", \"Residue 1\", \"Residue 2\", \"Residue 3\"])\\\n",
    "    .reset_index()\\\n",
    "    .sort_values(\"cluster\")"
   ]
  },
  {
   "cell_type": "markdown",
   "metadata": {},
   "source": [
    "## Cluster 2\n",
    "\n",
    "Simply group based on CIS/TRANS and CnaA/B-like "
   ]
  },
  {
   "cell_type": "code",
   "execution_count": 5,
   "metadata": {},
   "outputs": [],
   "source": [
    "import shutil"
   ]
  },
  {
   "cell_type": "code",
   "execution_count": 15,
   "metadata": {},
   "outputs": [],
   "source": [
    "output = \"../tmp/struct_align_2\"\n",
    "if os.path.exists(output):\n",
    "    shutil.rmtree(output)\n",
    "os.makedirs(output, exist_ok=True)\n",
    "\n",
    "cond1 = pdb_df[\"Is bonded\"]\n",
    "cond2 = ~pdb_df[\"Bad rotamer\"]\n",
    "cond3 = ~pdb_df[\"Unusual geometry/chemistry\"]\n",
    "cond4 = pdb_df[\"Isopeptide type\"] != \"Mutant\"\n",
    "cluster_df = pdb_df[cond1 & cond2 & cond3 & cond4].copy()\n",
    "# Add cis\n",
    "cluster_df[\"cis\"] = False\n",
    "cluster_df.loc[(cluster_df[\"pseudo_omega\"]>=-60)&(cluster_df[\"pseudo_omega\"]<60), \"cis\"] = True\n",
    "cluster_df = cluster_df.sort_values([\"Isopeptide type\", \"cis\"])\n",
    "\n",
    "isopeptide_type = None\n",
    "cis = None\n",
    "\n",
    "for index, row in cluster_df.iterrows():\n",
    "    pdb_code = row[\"PDB code\"]\n",
    "    struct_path = row[\"structure_path\"]\n",
    "    chain = row[\"Chain\"]\n",
    "    r1 = row[\"Position 1\\r\\n(Bond 1)\"]\n",
    "    r2 = row[\"Position 2\\r\\n(catalytic)\"]\n",
    "    r3 = row[\"Position 3\\r\\n(Bond 2)\"]\n",
    "    tmp_isopeptide_type = row[\"Isopeptide type\"]\n",
    "    tmp_cis = row[\"cis\"]\n",
    "\n",
    "    pdb_file = pdb.PDBFile.read(struct_path)\n",
    "    structure = struc.array([atom for atom in pdb_file.get_structure()[0] if atom.hetero==False \\\n",
    "                                and atom.chain_id == chain and atom.element != \"H\"])\n",
    "    align_atoms = structure[structure.res_id == r1]\n",
    "    isopep_bond = structure[(structure.res_id == r1) | (structure.res_id == r2) | (structure.res_id == r3)]\n",
    "    \n",
    "    if tmp_isopeptide_type != isopeptide_type or tmp_cis != cis:\n",
    "        isopeptide_type = tmp_isopeptide_type\n",
    "        cis = tmp_cis\n",
    "        template_atoms = align_atoms\n",
    "    \n",
    "    fitted, transformation = struc.superimpose(template_atoms, align_atoms)\n",
    "    transf_isopep = transformation.apply(isopep_bond)\n",
    "    os.makedirs(os.path.join(output, f\"{isopeptide_type}_cis_{cis}\"), exist_ok=True)\n",
    "    struc.io.save_structure(os.path.join(output, f\"{isopeptide_type}_cis_{cis}\", f\"{isopeptide_type}_cis_{cis}_{pdb_code}_{chain}_{r1}_{r2}_{r3}.pdb\"), transf_isopep)"
   ]
  },
  {
   "cell_type": "code",
   "execution_count": 45,
   "metadata": {},
   "outputs": [
    {
     "data": {
      "text/html": [
       "<div>\n",
       "<style scoped>\n",
       "    .dataframe tbody tr th:only-of-type {\n",
       "        vertical-align: middle;\n",
       "    }\n",
       "\n",
       "    .dataframe tbody tr th {\n",
       "        vertical-align: top;\n",
       "    }\n",
       "\n",
       "    .dataframe thead th {\n",
       "        text-align: right;\n",
       "    }\n",
       "</style>\n",
       "<table border=\"1\" class=\"dataframe\">\n",
       "  <thead>\n",
       "    <tr style=\"text-align: right;\">\n",
       "      <th></th>\n",
       "      <th>Isopeptide type</th>\n",
       "      <th>cis</th>\n",
       "      <th>count</th>\n",
       "    </tr>\n",
       "  </thead>\n",
       "  <tbody>\n",
       "    <tr>\n",
       "      <th>1</th>\n",
       "      <td>CnaA-like</td>\n",
       "      <td>True</td>\n",
       "      <td>33</td>\n",
       "    </tr>\n",
       "    <tr>\n",
       "      <th>3</th>\n",
       "      <td>CnaA-like</td>\n",
       "      <td>False</td>\n",
       "      <td>16</td>\n",
       "    </tr>\n",
       "    <tr>\n",
       "      <th>0</th>\n",
       "      <td>CnaB-like</td>\n",
       "      <td>False</td>\n",
       "      <td>46</td>\n",
       "    </tr>\n",
       "    <tr>\n",
       "      <th>2</th>\n",
       "      <td>CnaB-like</td>\n",
       "      <td>True</td>\n",
       "      <td>17</td>\n",
       "    </tr>\n",
       "  </tbody>\n",
       "</table>\n",
       "</div>"
      ],
      "text/plain": [
       "  Isopeptide type    cis  count\n",
       "1       CnaA-like   True     33\n",
       "3       CnaA-like  False     16\n",
       "0       CnaB-like  False     46\n",
       "2       CnaB-like   True     17"
      ]
     },
     "execution_count": 45,
     "metadata": {},
     "output_type": "execute_result"
    }
   ],
   "source": [
    "cond1 = pdb_df[\"Is bonded\"]\n",
    "cond2 = ~pdb_df[\"Bad rotamer\"]\n",
    "cond3 = ~pdb_df[\"Unusual geometry/chemistry\"]\n",
    "cond4 = pdb_df[\"Isopeptide type\"] != \"Mutant\"\n",
    "cond5 = pdb_df[\"Resolution\"] <= 2.5\n",
    "cluster_df = pdb_df[cond1 & cond2 & cond3 & cond4 & cond5].drop_duplicates(\"isopep_sequence\").copy()\n",
    "# Add cis\n",
    "cluster_df[\"cis\"] = False\n",
    "cluster_df.loc[(cluster_df[\"pseudo_omega\"]>=-60)&(cluster_df[\"pseudo_omega\"]<=60), \"cis\"] = True\n",
    "cluster_df = cluster_df.sort_values([\"Isopeptide type\", \"cis\"])\n",
    "\n",
    "cluster_df.value_counts([\"Isopeptide type\", \"cis\"]).reset_index().sort_values(\"Isopeptide type\")"
   ]
  },
  {
   "cell_type": "code",
   "execution_count": 46,
   "metadata": {},
   "outputs": [
    {
     "data": {
      "text/plain": [
       "0.67"
      ]
     },
     "execution_count": 46,
     "metadata": {},
     "output_type": "execute_result"
    }
   ],
   "source": [
    "round(33/(33+16),2)"
   ]
  },
  {
   "cell_type": "code",
   "execution_count": 47,
   "metadata": {},
   "outputs": [
    {
     "data": {
      "text/plain": [
       "0.73"
      ]
     },
     "execution_count": 47,
     "metadata": {},
     "output_type": "execute_result"
    }
   ],
   "source": [
    "round(46/(46+17),2)"
   ]
  },
  {
   "cell_type": "code",
   "execution_count": 48,
   "metadata": {},
   "outputs": [
    {
     "data": {
      "text/plain": [
       "Residue 3  aro_cap\n",
       "N          True       62\n",
       "           False      39\n",
       "D          False      11\n",
       "Name: count, dtype: int64"
      ]
     },
     "execution_count": 48,
     "metadata": {},
     "output_type": "execute_result"
    }
   ],
   "source": [
    "cluster_df.value_counts([\"Residue 3\", \"aro_cap\"])"
   ]
  },
  {
   "cell_type": "code",
   "execution_count": 49,
   "metadata": {},
   "outputs": [
    {
     "data": {
      "text/plain": [
       "aro_cap  cis  \n",
       "False    False    48\n",
       "True     True     48\n",
       "         False    14\n",
       "False    True      2\n",
       "Name: count, dtype: int64"
      ]
     },
     "execution_count": 49,
     "metadata": {},
     "output_type": "execute_result"
    }
   ],
   "source": [
    "cluster_df.value_counts([\"aro_cap\", \"cis\"])"
   ]
  },
  {
   "cell_type": "code",
   "execution_count": 36,
   "metadata": {},
   "outputs": [
    {
     "data": {
      "text/plain": [
       "0.96"
      ]
     },
     "execution_count": 36,
     "metadata": {},
     "output_type": "execute_result"
    }
   ],
   "source": [
    "48 / 50"
   ]
  },
  {
   "cell_type": "code",
   "execution_count": 39,
   "metadata": {},
   "outputs": [
    {
     "data": {
      "text/plain": [
       "0.23"
      ]
     },
     "execution_count": 39,
     "metadata": {},
     "output_type": "execute_result"
    }
   ],
   "source": [
    "round(14 / (14+48),2)"
   ]
  },
  {
   "cell_type": "code",
   "execution_count": 40,
   "metadata": {},
   "outputs": [
    {
     "data": {
      "text/html": [
       "<div>\n",
       "<style scoped>\n",
       "    .dataframe tbody tr th:only-of-type {\n",
       "        vertical-align: middle;\n",
       "    }\n",
       "\n",
       "    .dataframe tbody tr th {\n",
       "        vertical-align: top;\n",
       "    }\n",
       "\n",
       "    .dataframe thead th {\n",
       "        text-align: right;\n",
       "    }\n",
       "</style>\n",
       "<table border=\"1\" class=\"dataframe\">\n",
       "  <thead>\n",
       "    <tr style=\"text-align: right;\">\n",
       "      <th></th>\n",
       "      <th>PDB code</th>\n",
       "      <th>Chain</th>\n",
       "      <th>UniProt Id</th>\n",
       "      <th>Species</th>\n",
       "      <th>Name</th>\n",
       "      <th>Position 1\\r\\n(Bond 1)</th>\n",
       "      <th>Residue 1</th>\n",
       "      <th>Position 2\\r\\n(catalytic)</th>\n",
       "      <th>Residue 2</th>\n",
       "      <th>Position 3\\r\\n(Bond 2)</th>\n",
       "      <th>...</th>\n",
       "      <th>o_atom_distance</th>\n",
       "      <th>rASA</th>\n",
       "      <th>bond_length</th>\n",
       "      <th>pseudo_omega</th>\n",
       "      <th>pseudo_psi</th>\n",
       "      <th>pseudo_phi</th>\n",
       "      <th>lys_x3</th>\n",
       "      <th>lys_x4</th>\n",
       "      <th>isopep_sequence</th>\n",
       "      <th>cis</th>\n",
       "    </tr>\n",
       "  </thead>\n",
       "  <tbody>\n",
       "    <tr>\n",
       "      <th>35</th>\n",
       "      <td>2x9w</td>\n",
       "      <td>A</td>\n",
       "      <td>A0A0H2UNM7</td>\n",
       "      <td>Streptococcus pneumoniae</td>\n",
       "      <td>RrgB</td>\n",
       "      <td>193</td>\n",
       "      <td>K</td>\n",
       "      <td>241</td>\n",
       "      <td>D</td>\n",
       "      <td>318</td>\n",
       "      <td>...</td>\n",
       "      <td>NaN</td>\n",
       "      <td>[0.0, 0.020131093227058833, 0.062411770319483084]</td>\n",
       "      <td>1.315928</td>\n",
       "      <td>168.713063</td>\n",
       "      <td>148.898957</td>\n",
       "      <td>82.767385</td>\n",
       "      <td>-169.865944</td>\n",
       "      <td>82.767385</td>\n",
       "      <td>EAKPKIDKDFKGKANPDTPRVDKDTPVNHQVGDVVEYEIVTKIPAL...</td>\n",
       "      <td>False</td>\n",
       "    </tr>\n",
       "    <tr>\n",
       "      <th>37</th>\n",
       "      <td>2x9x</td>\n",
       "      <td>A</td>\n",
       "      <td>A0A0H2UNM7</td>\n",
       "      <td>Streptococcus pneumoniae</td>\n",
       "      <td>RrgB</td>\n",
       "      <td>193</td>\n",
       "      <td>K</td>\n",
       "      <td>241</td>\n",
       "      <td>D</td>\n",
       "      <td>318</td>\n",
       "      <td>...</td>\n",
       "      <td>NaN</td>\n",
       "      <td>[0.0, 0.03368290033808515, 0.06447134162210355]</td>\n",
       "      <td>1.387094</td>\n",
       "      <td>164.370469</td>\n",
       "      <td>148.674640</td>\n",
       "      <td>88.022232</td>\n",
       "      <td>-176.489793</td>\n",
       "      <td>88.022232</td>\n",
       "      <td>AKPKIDKDFKGKANPDTPRVDKDTPVNHQVGDVVEYEIVTKIPALA...</td>\n",
       "      <td>False</td>\n",
       "    </tr>\n",
       "    <tr>\n",
       "      <th>54</th>\n",
       "      <td>2xtl</td>\n",
       "      <td>A</td>\n",
       "      <td>B9UQT9</td>\n",
       "      <td>Streptococcus agalactiae</td>\n",
       "      <td>PI-2a backbone protein</td>\n",
       "      <td>199</td>\n",
       "      <td>K</td>\n",
       "      <td>247</td>\n",
       "      <td>D</td>\n",
       "      <td>325</td>\n",
       "      <td>...</td>\n",
       "      <td>NaN</td>\n",
       "      <td>[0.0, 0.0, 0.002546058718565923]</td>\n",
       "      <td>1.266967</td>\n",
       "      <td>164.475354</td>\n",
       "      <td>143.102162</td>\n",
       "      <td>101.921852</td>\n",
       "      <td>-164.986730</td>\n",
       "      <td>101.921852</td>\n",
       "      <td>ETKPQVDKNFADKELDYANNKKDKGTVSASVGDVKKYHVGTKILKG...</td>\n",
       "      <td>False</td>\n",
       "    </tr>\n",
       "    <tr>\n",
       "      <th>61</th>\n",
       "      <td>2y1v</td>\n",
       "      <td>A</td>\n",
       "      <td>A0A0H2UNM7</td>\n",
       "      <td>Streptococcus pneumoniae</td>\n",
       "      <td>RrgB</td>\n",
       "      <td>193</td>\n",
       "      <td>K</td>\n",
       "      <td>241</td>\n",
       "      <td>D</td>\n",
       "      <td>318</td>\n",
       "      <td>...</td>\n",
       "      <td>NaN</td>\n",
       "      <td>[0.0, 0.03846321040135951, 0.07390627208029389]</td>\n",
       "      <td>1.328575</td>\n",
       "      <td>152.048316</td>\n",
       "      <td>127.347333</td>\n",
       "      <td>115.174557</td>\n",
       "      <td>-169.700913</td>\n",
       "      <td>115.174557</td>\n",
       "      <td>NDVVDAHVYPKNTEAKPKIDKDFKGKANPDTPRVDKDTPVNHQVGD...</td>\n",
       "      <td>False</td>\n",
       "    </tr>\n",
       "    <tr>\n",
       "      <th>87</th>\n",
       "      <td>4p0d</td>\n",
       "      <td>A</td>\n",
       "      <td>P18481</td>\n",
       "      <td>Streptococcus pyogenes</td>\n",
       "      <td>tee6</td>\n",
       "      <td>183</td>\n",
       "      <td>K</td>\n",
       "      <td>227</td>\n",
       "      <td>D</td>\n",
       "      <td>309</td>\n",
       "      <td>...</td>\n",
       "      <td>3.125678</td>\n",
       "      <td>[0.018524130379281394, 0.040758692779424004, 0...</td>\n",
       "      <td>1.255948</td>\n",
       "      <td>-173.046695</td>\n",
       "      <td>145.987630</td>\n",
       "      <td>-168.525506</td>\n",
       "      <td>155.847391</td>\n",
       "      <td>-168.525506</td>\n",
       "      <td>XXNYLYGQTSVAKSSLPSITKKVTGTIDDVNKKTTSLGSVLSYSLT...</td>\n",
       "      <td>False</td>\n",
       "    </tr>\n",
       "    <tr>\n",
       "      <th>88</th>\n",
       "      <td>4tsh</td>\n",
       "      <td>B</td>\n",
       "      <td>C9E3B4</td>\n",
       "      <td>Streptococcus mutans</td>\n",
       "      <td>SpaP</td>\n",
       "      <td>1338</td>\n",
       "      <td>K</td>\n",
       "      <td>1387</td>\n",
       "      <td>D</td>\n",
       "      <td>1473</td>\n",
       "      <td>...</td>\n",
       "      <td>3.708350</td>\n",
       "      <td>[0.256178056321493, 0.004742594767201898, 0.19...</td>\n",
       "      <td>1.296712</td>\n",
       "      <td>-107.706551</td>\n",
       "      <td>-92.182753</td>\n",
       "      <td>174.842775</td>\n",
       "      <td>178.257897</td>\n",
       "      <td>174.842775</td>\n",
       "      <td>FGNGYASNIVINNVPKINPKKDVTXXXXXXXXXXXXXXXXXXXXXX...</td>\n",
       "      <td>False</td>\n",
       "    </tr>\n",
       "    <tr>\n",
       "      <th>125</th>\n",
       "      <td>5yu5</td>\n",
       "      <td>A</td>\n",
       "      <td>A0A809N0N0</td>\n",
       "      <td>Lactobacillus rhamnosus</td>\n",
       "      <td>SpaD</td>\n",
       "      <td>186</td>\n",
       "      <td>K</td>\n",
       "      <td>242</td>\n",
       "      <td>D</td>\n",
       "      <td>337</td>\n",
       "      <td>...</td>\n",
       "      <td>3.797223</td>\n",
       "      <td>[0.04419032291668217, 0.0, 0.01916997485859379]</td>\n",
       "      <td>1.254912</td>\n",
       "      <td>174.889958</td>\n",
       "      <td>119.608633</td>\n",
       "      <td>103.225489</td>\n",
       "      <td>-168.612495</td>\n",
       "      <td>103.225489</td>\n",
       "      <td>QDXXXDLTNIHLYPKDSLVTKNLTEINEQAVATKDLHDVAVGDVLT...</td>\n",
       "      <td>False</td>\n",
       "    </tr>\n",
       "    <tr>\n",
       "      <th>128</th>\n",
       "      <td>5yxg</td>\n",
       "      <td>A</td>\n",
       "      <td>A0A809N0N0</td>\n",
       "      <td>Lactobacillus rhamnosus</td>\n",
       "      <td>SpaD</td>\n",
       "      <td>186</td>\n",
       "      <td>K</td>\n",
       "      <td>242</td>\n",
       "      <td>D</td>\n",
       "      <td>337</td>\n",
       "      <td>...</td>\n",
       "      <td>3.906000</td>\n",
       "      <td>[0.05293700404283477, 0.0, 0.10789490923000748]</td>\n",
       "      <td>1.334115</td>\n",
       "      <td>173.304275</td>\n",
       "      <td>126.762218</td>\n",
       "      <td>96.632581</td>\n",
       "      <td>-167.342066</td>\n",
       "      <td>96.632581</td>\n",
       "      <td>VTKNLTEINEQAVATKDLHDVAVGDVLTYQVQFQIPHDIGALAXXX...</td>\n",
       "      <td>False</td>\n",
       "    </tr>\n",
       "    <tr>\n",
       "      <th>21</th>\n",
       "      <td>3hr6</td>\n",
       "      <td>A</td>\n",
       "      <td>Q6NF81</td>\n",
       "      <td>Corynebacterium diphtheriae</td>\n",
       "      <td>SpaA</td>\n",
       "      <td>363</td>\n",
       "      <td>K</td>\n",
       "      <td>446</td>\n",
       "      <td>E</td>\n",
       "      <td>482</td>\n",
       "      <td>...</td>\n",
       "      <td>3.494109</td>\n",
       "      <td>[0.0292486260576946, 0.03861974686691441, 0.0]</td>\n",
       "      <td>1.315230</td>\n",
       "      <td>179.967944</td>\n",
       "      <td>95.584522</td>\n",
       "      <td>155.641979</td>\n",
       "      <td>61.271619</td>\n",
       "      <td>155.641979</td>\n",
       "      <td>ALRGMPSSRVSSKFGQITIEKSFDGNTPGADRTATFQLHRCEADGS...</td>\n",
       "      <td>False</td>\n",
       "    </tr>\n",
       "    <tr>\n",
       "      <th>53</th>\n",
       "      <td>2xtl</td>\n",
       "      <td>A</td>\n",
       "      <td>B9UQT9</td>\n",
       "      <td>Streptococcus agalactiae</td>\n",
       "      <td>PI-2a backbone protein</td>\n",
       "      <td>355</td>\n",
       "      <td>K</td>\n",
       "      <td>416</td>\n",
       "      <td>D</td>\n",
       "      <td>437</td>\n",
       "      <td>...</td>\n",
       "      <td>NaN</td>\n",
       "      <td>[0.011356713132160466, 0.008241880800306182, 0.0]</td>\n",
       "      <td>1.579295</td>\n",
       "      <td>-170.563074</td>\n",
       "      <td>90.973359</td>\n",
       "      <td>155.553911</td>\n",
       "      <td>75.967160</td>\n",
       "      <td>155.553911</td>\n",
       "      <td>PTIENEPKEGIPVDKKITVNKTWAVDGNEVNKADETVDAVFTLQVK...</td>\n",
       "      <td>False</td>\n",
       "    </tr>\n",
       "    <tr>\n",
       "      <th>62</th>\n",
       "      <td>2y1v</td>\n",
       "      <td>A</td>\n",
       "      <td>A0A0H2UNM7</td>\n",
       "      <td>Streptococcus pneumoniae</td>\n",
       "      <td>RrgB</td>\n",
       "      <td>349</td>\n",
       "      <td>K</td>\n",
       "      <td>405</td>\n",
       "      <td>E</td>\n",
       "      <td>428</td>\n",
       "      <td>...</td>\n",
       "      <td>3.782099</td>\n",
       "      <td>[0.013075498836796458, 0.10062154989267133, 0.0]</td>\n",
       "      <td>1.330324</td>\n",
       "      <td>-174.464328</td>\n",
       "      <td>142.062662</td>\n",
       "      <td>146.014008</td>\n",
       "      <td>-58.192706</td>\n",
       "      <td>146.014008</td>\n",
       "      <td>DHGNTPKPNKPNENGDLTLTKTWVDATGAPIPAGAEATFDLVNAQT...</td>\n",
       "      <td>False</td>\n",
       "    </tr>\n",
       "    <tr>\n",
       "      <th>117</th>\n",
       "      <td>5u6f</td>\n",
       "      <td>A</td>\n",
       "      <td>E0QN07</td>\n",
       "      <td>Mobiluncus mulieris</td>\n",
       "      <td>HMPREF0580_0271</td>\n",
       "      <td>175</td>\n",
       "      <td>K</td>\n",
       "      <td>232</td>\n",
       "      <td>E</td>\n",
       "      <td>288</td>\n",
       "      <td>...</td>\n",
       "      <td>2.660248</td>\n",
       "      <td>[0.0, 0.04355688101237582, 0.0]</td>\n",
       "      <td>1.276380</td>\n",
       "      <td>-179.257277</td>\n",
       "      <td>92.129751</td>\n",
       "      <td>164.698086</td>\n",
       "      <td>82.251153</td>\n",
       "      <td>164.698086</td>\n",
       "      <td>PQSSSQSITAEPQFGSLKLTKTVTGWEDAFAKVARPEASYKFTVKC...</td>\n",
       "      <td>False</td>\n",
       "    </tr>\n",
       "    <tr>\n",
       "      <th>182</th>\n",
       "      <td>8f70</td>\n",
       "      <td>A</td>\n",
       "      <td>A0A096ZH83</td>\n",
       "      <td>Streptococcus pyogenes</td>\n",
       "      <td>tee</td>\n",
       "      <td>299</td>\n",
       "      <td>K</td>\n",
       "      <td>386</td>\n",
       "      <td>E</td>\n",
       "      <td>437</td>\n",
       "      <td>...</td>\n",
       "      <td>3.727013</td>\n",
       "      <td>[0.0, 0.07908592181107432, 0.0]</td>\n",
       "      <td>1.234734</td>\n",
       "      <td>114.679122</td>\n",
       "      <td>113.691811</td>\n",
       "      <td>159.464140</td>\n",
       "      <td>150.121547</td>\n",
       "      <td>159.464140</td>\n",
       "      <td>NKRDTQVPGGGIDGSTLVVKKTFPSYTDDKVLMPKADYTFKVEADD...</td>\n",
       "      <td>False</td>\n",
       "    </tr>\n",
       "    <tr>\n",
       "      <th>183</th>\n",
       "      <td>5u5o</td>\n",
       "      <td>A</td>\n",
       "      <td>E0QN07</td>\n",
       "      <td>Mobiluncus mulieris ATCC 35239</td>\n",
       "      <td>HMPREF0580_0271</td>\n",
       "      <td>175</td>\n",
       "      <td>K</td>\n",
       "      <td>232</td>\n",
       "      <td>E</td>\n",
       "      <td>288</td>\n",
       "      <td>...</td>\n",
       "      <td>2.690173</td>\n",
       "      <td>[0.0, 0.05745695992228911, 0.0]</td>\n",
       "      <td>1.285273</td>\n",
       "      <td>-169.359117</td>\n",
       "      <td>96.005781</td>\n",
       "      <td>159.124447</td>\n",
       "      <td>72.845170</td>\n",
       "      <td>159.124447</td>\n",
       "      <td>PQSSSQSITAEPQFGSLKLTKTVTGWEDAFAKVARPEASYKFTVKC...</td>\n",
       "      <td>False</td>\n",
       "    </tr>\n",
       "  </tbody>\n",
       "</table>\n",
       "<p>14 rows × 48 columns</p>\n",
       "</div>"
      ],
      "text/plain": [
       "    PDB code Chain  UniProt Id                         Species  \\\n",
       "35      2x9w     A  A0A0H2UNM7        Streptococcus pneumoniae   \n",
       "37      2x9x     A  A0A0H2UNM7        Streptococcus pneumoniae   \n",
       "54      2xtl     A      B9UQT9        Streptococcus agalactiae   \n",
       "61      2y1v     A  A0A0H2UNM7        Streptococcus pneumoniae   \n",
       "87      4p0d     A      P18481          Streptococcus pyogenes   \n",
       "88      4tsh     B      C9E3B4            Streptococcus mutans   \n",
       "125     5yu5     A  A0A809N0N0         Lactobacillus rhamnosus   \n",
       "128     5yxg     A  A0A809N0N0         Lactobacillus rhamnosus   \n",
       "21      3hr6     A      Q6NF81     Corynebacterium diphtheriae   \n",
       "53      2xtl     A      B9UQT9        Streptococcus agalactiae   \n",
       "62      2y1v     A  A0A0H2UNM7        Streptococcus pneumoniae   \n",
       "117     5u6f     A      E0QN07             Mobiluncus mulieris   \n",
       "182     8f70     A  A0A096ZH83          Streptococcus pyogenes   \n",
       "183     5u5o     A      E0QN07  Mobiluncus mulieris ATCC 35239   \n",
       "\n",
       "                       Name  Position 1\\r\\n(Bond 1) Residue 1  \\\n",
       "35                     RrgB                     193         K   \n",
       "37                     RrgB                     193         K   \n",
       "54   PI-2a backbone protein                     199         K   \n",
       "61                     RrgB                     193         K   \n",
       "87                     tee6                     183         K   \n",
       "88                     SpaP                    1338         K   \n",
       "125                    SpaD                     186         K   \n",
       "128                    SpaD                     186         K   \n",
       "21                     SpaA                     363         K   \n",
       "53   PI-2a backbone protein                     355         K   \n",
       "62                     RrgB                     349         K   \n",
       "117         HMPREF0580_0271                     175         K   \n",
       "182                     tee                     299         K   \n",
       "183         HMPREF0580_0271                     175         K   \n",
       "\n",
       "     Position 2\\r\\n(catalytic) Residue 2  Position 3\\r\\n(Bond 2)  ...  \\\n",
       "35                         241         D                     318  ...   \n",
       "37                         241         D                     318  ...   \n",
       "54                         247         D                     325  ...   \n",
       "61                         241         D                     318  ...   \n",
       "87                         227         D                     309  ...   \n",
       "88                        1387         D                    1473  ...   \n",
       "125                        242         D                     337  ...   \n",
       "128                        242         D                     337  ...   \n",
       "21                         446         E                     482  ...   \n",
       "53                         416         D                     437  ...   \n",
       "62                         405         E                     428  ...   \n",
       "117                        232         E                     288  ...   \n",
       "182                        386         E                     437  ...   \n",
       "183                        232         E                     288  ...   \n",
       "\n",
       "    o_atom_distance                                               rASA  \\\n",
       "35              NaN  [0.0, 0.020131093227058833, 0.062411770319483084]   \n",
       "37              NaN    [0.0, 0.03368290033808515, 0.06447134162210355]   \n",
       "54              NaN                   [0.0, 0.0, 0.002546058718565923]   \n",
       "61              NaN    [0.0, 0.03846321040135951, 0.07390627208029389]   \n",
       "87         3.125678  [0.018524130379281394, 0.040758692779424004, 0...   \n",
       "88         3.708350  [0.256178056321493, 0.004742594767201898, 0.19...   \n",
       "125        3.797223    [0.04419032291668217, 0.0, 0.01916997485859379]   \n",
       "128        3.906000    [0.05293700404283477, 0.0, 0.10789490923000748]   \n",
       "21         3.494109     [0.0292486260576946, 0.03861974686691441, 0.0]   \n",
       "53              NaN  [0.011356713132160466, 0.008241880800306182, 0.0]   \n",
       "62         3.782099   [0.013075498836796458, 0.10062154989267133, 0.0]   \n",
       "117        2.660248                    [0.0, 0.04355688101237582, 0.0]   \n",
       "182        3.727013                    [0.0, 0.07908592181107432, 0.0]   \n",
       "183        2.690173                    [0.0, 0.05745695992228911, 0.0]   \n",
       "\n",
       "    bond_length  pseudo_omega  pseudo_psi  pseudo_phi      lys_x3      lys_x4  \\\n",
       "35     1.315928    168.713063  148.898957   82.767385 -169.865944   82.767385   \n",
       "37     1.387094    164.370469  148.674640   88.022232 -176.489793   88.022232   \n",
       "54     1.266967    164.475354  143.102162  101.921852 -164.986730  101.921852   \n",
       "61     1.328575    152.048316  127.347333  115.174557 -169.700913  115.174557   \n",
       "87     1.255948   -173.046695  145.987630 -168.525506  155.847391 -168.525506   \n",
       "88     1.296712   -107.706551  -92.182753  174.842775  178.257897  174.842775   \n",
       "125    1.254912    174.889958  119.608633  103.225489 -168.612495  103.225489   \n",
       "128    1.334115    173.304275  126.762218   96.632581 -167.342066   96.632581   \n",
       "21     1.315230    179.967944   95.584522  155.641979   61.271619  155.641979   \n",
       "53     1.579295   -170.563074   90.973359  155.553911   75.967160  155.553911   \n",
       "62     1.330324   -174.464328  142.062662  146.014008  -58.192706  146.014008   \n",
       "117    1.276380   -179.257277   92.129751  164.698086   82.251153  164.698086   \n",
       "182    1.234734    114.679122  113.691811  159.464140  150.121547  159.464140   \n",
       "183    1.285273   -169.359117   96.005781  159.124447   72.845170  159.124447   \n",
       "\n",
       "                                       isopep_sequence    cis  \n",
       "35   EAKPKIDKDFKGKANPDTPRVDKDTPVNHQVGDVVEYEIVTKIPAL...  False  \n",
       "37   AKPKIDKDFKGKANPDTPRVDKDTPVNHQVGDVVEYEIVTKIPALA...  False  \n",
       "54   ETKPQVDKNFADKELDYANNKKDKGTVSASVGDVKKYHVGTKILKG...  False  \n",
       "61   NDVVDAHVYPKNTEAKPKIDKDFKGKANPDTPRVDKDTPVNHQVGD...  False  \n",
       "87   XXNYLYGQTSVAKSSLPSITKKVTGTIDDVNKKTTSLGSVLSYSLT...  False  \n",
       "88   FGNGYASNIVINNVPKINPKKDVTXXXXXXXXXXXXXXXXXXXXXX...  False  \n",
       "125  QDXXXDLTNIHLYPKDSLVTKNLTEINEQAVATKDLHDVAVGDVLT...  False  \n",
       "128  VTKNLTEINEQAVATKDLHDVAVGDVLTYQVQFQIPHDIGALAXXX...  False  \n",
       "21   ALRGMPSSRVSSKFGQITIEKSFDGNTPGADRTATFQLHRCEADGS...  False  \n",
       "53   PTIENEPKEGIPVDKKITVNKTWAVDGNEVNKADETVDAVFTLQVK...  False  \n",
       "62   DHGNTPKPNKPNENGDLTLTKTWVDATGAPIPAGAEATFDLVNAQT...  False  \n",
       "117  PQSSSQSITAEPQFGSLKLTKTVTGWEDAFAKVARPEASYKFTVKC...  False  \n",
       "182  NKRDTQVPGGGIDGSTLVVKKTFPSYTDDKVLMPKADYTFKVEADD...  False  \n",
       "183  PQSSSQSITAEPQFGSLKLTKTVTGWEDAFAKVARPEASYKFTVKC...  False  \n",
       "\n",
       "[14 rows x 48 columns]"
      ]
     },
     "execution_count": 40,
     "metadata": {},
     "output_type": "execute_result"
    }
   ],
   "source": [
    "cluster_df[(cluster_df[\"aro_cap\"]==True)&(~cluster_df[\"cis\"])]"
   ]
  },
  {
   "cell_type": "markdown",
   "metadata": {},
   "source": [
    "## Proximal oxygen"
   ]
  },
  {
   "cell_type": "code",
   "execution_count": 35,
   "metadata": {},
   "outputs": [],
   "source": [
    "cond1 = pdb_df[\"Is bonded\"]\n",
    "cond2 = ~pdb_df[\"Bad rotamer\"]\n",
    "cond3 = ~pdb_df[\"Unusual geometry/chemistry\"]\n",
    "cond4 = pdb_df[\"Isopeptide type\"] != \"Mutant\"\n",
    "cond5 = pdb_df[\"Resolution\"] <= 2.5\n",
    "\n",
    "o_df = pdb_df[cond1 & cond2 & cond3 & cond4 & cond5] \\\n",
    "        .drop_duplicates(\"isopep_sequence\").copy()\n",
    "\n",
    "o_df[\"water_od\"] = False\n",
    "o_df.loc[o_df[\"water_distance_OD\"] <= 5, \"water_od\"] = True\n",
    "\n",
    "o_df[\"any_ox\"] = False\n",
    "o_df.loc[o_df[\"o_atom_distance\"] <= 5, \"any_ox\"] = True"
   ]
  },
  {
   "cell_type": "code",
   "execution_count": 41,
   "metadata": {},
   "outputs": [
    {
     "data": {
      "text/plain": [
       "water_od\n",
       "True     0.69\n",
       "False    0.31\n",
       "Name: proportion, dtype: float64"
      ]
     },
     "execution_count": 41,
     "metadata": {},
     "output_type": "execute_result"
    }
   ],
   "source": [
    "o_df[o_df[\"Isopeptide type\"]==\"CnaA-like\"].value_counts(\"water_od\", normalize=True).round(2)"
   ]
  },
  {
   "cell_type": "code",
   "execution_count": 28,
   "metadata": {},
   "outputs": [
    {
     "data": {
      "text/plain": [
       "water_od\n",
       "True     0.55\n",
       "False    0.45\n",
       "Name: proportion, dtype: float64"
      ]
     },
     "execution_count": 28,
     "metadata": {},
     "output_type": "execute_result"
    }
   ],
   "source": [
    "o_df[o_df[\"Isopeptide type\"]==\"CnaB-like\"].value_counts(\"water_od\", normalize=True).round(2)"
   ]
  },
  {
   "cell_type": "code",
   "execution_count": 26,
   "metadata": {},
   "outputs": [
    {
     "data": {
      "text/html": [
       "<div>\n",
       "<style scoped>\n",
       "    .dataframe tbody tr th:only-of-type {\n",
       "        vertical-align: middle;\n",
       "    }\n",
       "\n",
       "    .dataframe tbody tr th {\n",
       "        vertical-align: top;\n",
       "    }\n",
       "\n",
       "    .dataframe thead th {\n",
       "        text-align: right;\n",
       "    }\n",
       "</style>\n",
       "<table border=\"1\" class=\"dataframe\">\n",
       "  <thead>\n",
       "    <tr style=\"text-align: right;\">\n",
       "      <th></th>\n",
       "      <th>aro_cap</th>\n",
       "      <th>water_od</th>\n",
       "      <th>percentage</th>\n",
       "    </tr>\n",
       "  </thead>\n",
       "  <tbody>\n",
       "    <tr>\n",
       "      <th>0</th>\n",
       "      <td>False</td>\n",
       "      <td>True</td>\n",
       "      <td>61.0</td>\n",
       "    </tr>\n",
       "    <tr>\n",
       "      <th>1</th>\n",
       "      <td>False</td>\n",
       "      <td>False</td>\n",
       "      <td>39.0</td>\n",
       "    </tr>\n",
       "    <tr>\n",
       "      <th>2</th>\n",
       "      <td>True</td>\n",
       "      <td>True</td>\n",
       "      <td>61.0</td>\n",
       "    </tr>\n",
       "    <tr>\n",
       "      <th>3</th>\n",
       "      <td>True</td>\n",
       "      <td>False</td>\n",
       "      <td>39.0</td>\n",
       "    </tr>\n",
       "  </tbody>\n",
       "</table>\n",
       "</div>"
      ],
      "text/plain": [
       "   aro_cap  water_od  percentage\n",
       "0    False      True        61.0\n",
       "1    False     False        39.0\n",
       "2     True      True        61.0\n",
       "3     True     False        39.0"
      ]
     },
     "execution_count": 26,
     "metadata": {},
     "output_type": "execute_result"
    }
   ],
   "source": [
    "# correlation with aro cap\n",
    "o_df.groupby(\"aro_cap\")[\"water_od\"] \\\n",
    "    .value_counts(normalize=True) \\\n",
    "    .mul(100) \\\n",
    "    .rename(\"percentage\") \\\n",
    "    .reset_index().round()"
   ]
  },
  {
   "cell_type": "code",
   "execution_count": 29,
   "metadata": {},
   "outputs": [
    {
     "data": {
      "text/html": [
       "<div>\n",
       "<style scoped>\n",
       "    .dataframe tbody tr th:only-of-type {\n",
       "        vertical-align: middle;\n",
       "    }\n",
       "\n",
       "    .dataframe tbody tr th {\n",
       "        vertical-align: top;\n",
       "    }\n",
       "\n",
       "    .dataframe thead th {\n",
       "        text-align: right;\n",
       "    }\n",
       "</style>\n",
       "<table border=\"1\" class=\"dataframe\">\n",
       "  <thead>\n",
       "    <tr style=\"text-align: right;\">\n",
       "      <th></th>\n",
       "      <th>aro_cap</th>\n",
       "      <th>water_od</th>\n",
       "      <th>percentage</th>\n",
       "    </tr>\n",
       "  </thead>\n",
       "  <tbody>\n",
       "    <tr>\n",
       "      <th>0</th>\n",
       "      <td>False</td>\n",
       "      <td>True</td>\n",
       "      <td>56.0</td>\n",
       "    </tr>\n",
       "    <tr>\n",
       "      <th>1</th>\n",
       "      <td>False</td>\n",
       "      <td>False</td>\n",
       "      <td>44.0</td>\n",
       "    </tr>\n",
       "    <tr>\n",
       "      <th>2</th>\n",
       "      <td>True</td>\n",
       "      <td>True</td>\n",
       "      <td>53.0</td>\n",
       "    </tr>\n",
       "    <tr>\n",
       "      <th>3</th>\n",
       "      <td>True</td>\n",
       "      <td>False</td>\n",
       "      <td>47.0</td>\n",
       "    </tr>\n",
       "  </tbody>\n",
       "</table>\n",
       "</div>"
      ],
      "text/plain": [
       "   aro_cap  water_od  percentage\n",
       "0    False      True        56.0\n",
       "1    False     False        44.0\n",
       "2     True      True        53.0\n",
       "3     True     False        47.0"
      ]
     },
     "execution_count": 29,
     "metadata": {},
     "output_type": "execute_result"
    }
   ],
   "source": [
    "o_df[o_df[\"Isopeptide type\"]==\"CnaB-like\"].groupby(\"aro_cap\")[\"water_od\"] \\\n",
    "    .value_counts(normalize=True) \\\n",
    "    .mul(100) \\\n",
    "    .rename(\"percentage\") \\\n",
    "    .reset_index().round()"
   ]
  },
  {
   "cell_type": "code",
   "execution_count": 30,
   "metadata": {},
   "outputs": [
    {
     "data": {
      "text/html": [
       "<div>\n",
       "<style scoped>\n",
       "    .dataframe tbody tr th:only-of-type {\n",
       "        vertical-align: middle;\n",
       "    }\n",
       "\n",
       "    .dataframe tbody tr th {\n",
       "        vertical-align: top;\n",
       "    }\n",
       "\n",
       "    .dataframe thead th {\n",
       "        text-align: right;\n",
       "    }\n",
       "</style>\n",
       "<table border=\"1\" class=\"dataframe\">\n",
       "  <thead>\n",
       "    <tr style=\"text-align: right;\">\n",
       "      <th></th>\n",
       "      <th>aro_cap</th>\n",
       "      <th>water_od</th>\n",
       "      <th>percentage</th>\n",
       "    </tr>\n",
       "  </thead>\n",
       "  <tbody>\n",
       "    <tr>\n",
       "      <th>0</th>\n",
       "      <td>False</td>\n",
       "      <td>True</td>\n",
       "      <td>68.0</td>\n",
       "    </tr>\n",
       "    <tr>\n",
       "      <th>1</th>\n",
       "      <td>False</td>\n",
       "      <td>False</td>\n",
       "      <td>32.0</td>\n",
       "    </tr>\n",
       "    <tr>\n",
       "      <th>2</th>\n",
       "      <td>True</td>\n",
       "      <td>True</td>\n",
       "      <td>69.0</td>\n",
       "    </tr>\n",
       "    <tr>\n",
       "      <th>3</th>\n",
       "      <td>True</td>\n",
       "      <td>False</td>\n",
       "      <td>31.0</td>\n",
       "    </tr>\n",
       "  </tbody>\n",
       "</table>\n",
       "</div>"
      ],
      "text/plain": [
       "   aro_cap  water_od  percentage\n",
       "0    False      True        68.0\n",
       "1    False     False        32.0\n",
       "2     True      True        69.0\n",
       "3     True     False        31.0"
      ]
     },
     "execution_count": 30,
     "metadata": {},
     "output_type": "execute_result"
    }
   ],
   "source": [
    "o_df[o_df[\"Isopeptide type\"]==\"CnaA-like\"].groupby(\"aro_cap\")[\"water_od\"] \\\n",
    "    .value_counts(normalize=True) \\\n",
    "    .mul(100) \\\n",
    "    .rename(\"percentage\") \\\n",
    "    .reset_index().round()"
   ]
  },
  {
   "cell_type": "code",
   "execution_count": 31,
   "metadata": {},
   "outputs": [
    {
     "data": {
      "text/plain": [
       "Residue 3  water_od\n",
       "N          True        47\n",
       "           False       28\n",
       "D          False        5\n",
       "           True         4\n",
       "Name: count, dtype: int64"
      ]
     },
     "execution_count": 31,
     "metadata": {},
     "output_type": "execute_result"
    }
   ],
   "source": [
    "o_df.value_counts([\"Residue 3\", \"water_od\"])"
   ]
  },
  {
   "cell_type": "code",
   "execution_count": 36,
   "metadata": {},
   "outputs": [
    {
     "data": {
      "text/plain": [
       "any_ox\n",
       "True    1.0\n",
       "Name: proportion, dtype: float64"
      ]
     },
     "execution_count": 36,
     "metadata": {},
     "output_type": "execute_result"
    }
   ],
   "source": [
    "o_df[o_df[\"Isopeptide type\"]==\"CnaB-like\"].value_counts(\"any_ox\", normalize=True).round(2)"
   ]
  },
  {
   "cell_type": "code",
   "execution_count": 37,
   "metadata": {},
   "outputs": [
    {
     "data": {
      "text/plain": [
       "any_ox\n",
       "True    1.0\n",
       "Name: proportion, dtype: float64"
      ]
     },
     "execution_count": 37,
     "metadata": {},
     "output_type": "execute_result"
    }
   ],
   "source": [
    "o_df[o_df[\"Isopeptide type\"]==\"CnaA-like\"].value_counts(\"any_ox\", normalize=True).round(2)"
   ]
  },
  {
   "cell_type": "code",
   "execution_count": 38,
   "metadata": {},
   "outputs": [
    {
     "data": {
      "text/plain": [
       "Residue 3  water_od\n",
       "N          True        47\n",
       "           False       28\n",
       "D          False        5\n",
       "           True         4\n",
       "Name: count, dtype: int64"
      ]
     },
     "execution_count": 38,
     "metadata": {},
     "output_type": "execute_result"
    }
   ],
   "source": [
    "o_df.value_counts([\"Residue 3\", \"water_od\"])"
   ]
  },
  {
   "cell_type": "code",
   "execution_count": 39,
   "metadata": {},
   "outputs": [
    {
     "data": {
      "text/plain": [
       "Residue 2\n",
       "E            48\n",
       "D            36\n",
       "Name: count, dtype: int64"
      ]
     },
     "execution_count": 39,
     "metadata": {},
     "output_type": "execute_result"
    }
   ],
   "source": [
    "o_df.value_counts([\"Residue 2\"])"
   ]
  },
  {
   "cell_type": "code",
   "execution_count": null,
   "metadata": {},
   "outputs": [],
   "source": []
  }
 ],
 "metadata": {
  "kernelspec": {
   "display_name": "Python 3 (ipykernel)",
   "language": "python",
   "name": "python3"
  },
  "language_info": {
   "codemirror_mode": {
    "name": "ipython",
    "version": 3
   },
   "file_extension": ".py",
   "mimetype": "text/x-python",
   "name": "python",
   "nbconvert_exporter": "python",
   "pygments_lexer": "ipython3",
   "version": "3.12.2"
  }
 },
 "nbformat": 4,
 "nbformat_minor": 4
}
