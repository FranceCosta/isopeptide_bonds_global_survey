{
 "cells": [
  {
   "cell_type": "code",
   "execution_count": 4,
   "metadata": {},
   "outputs": [],
   "source": [
    "import pandas as pd\n",
    "from Bio import SeqIO\n",
    "\n",
    "afdb_sequences = \"/nfs/research/agb/research/francesco/projects/20240212_isopeptideBonds_v1/20240529_findWithJess_v1/analysis/20240902_AFDBtoFasta_v1/output/AFDB.fa\""
   ]
  },
  {
   "cell_type": "code",
   "execution_count": 11,
   "metadata": {},
   "outputs": [
    {
     "ename": "KeyboardInterrupt",
     "evalue": "",
     "output_type": "error",
     "traceback": [
      "\u001b[0;31m---------------------------------------------------------------------------\u001b[0m",
      "\u001b[0;31mKeyboardInterrupt\u001b[0m                         Traceback (most recent call last)",
      "Cell \u001b[0;32mIn[11], line 6\u001b[0m\n\u001b[1;32m      4\u001b[0m \u001b[38;5;28;01mif\u001b[39;00m i\u001b[38;5;241m.\u001b[39mid \u001b[38;5;129;01min\u001b[39;00m archaea_ids:\n\u001b[1;32m      5\u001b[0m     count \u001b[38;5;241m+\u001b[39m\u001b[38;5;241m=\u001b[39m \u001b[38;5;241m1\u001b[39m\n\u001b[0;32m----> 6\u001b[0m \u001b[38;5;28;01mif\u001b[39;00m count \u001b[38;5;241m>\u001b[39m\u001b[38;5;241m=\u001b[39m \u001b[38;5;241m1000\u001b[39m:\n\u001b[1;32m      7\u001b[0m     \u001b[38;5;28;01mbreak\u001b[39;00m\n",
      "\u001b[0;31mKeyboardInterrupt\u001b[0m: "
     ]
    }
   ],
   "source": [
    "count = 0\n",
    "archaea_ids = df[\"pfamseq_acc\"].unique()\n",
    "for i in SeqIO.parse(afdb_sequences, \"fasta\"):\n",
    "    if i.id in archaea_ids:\n",
    "        count += 1\n",
    "    if count >= 1000:\n",
    "        break"
   ]
  },
  {
   "cell_type": "code",
   "execution_count": 12,
   "metadata": {},
   "outputs": [
    {
     "data": {
      "text/plain": [
       "3"
      ]
     },
     "execution_count": 12,
     "metadata": {},
     "output_type": "execute_result"
    }
   ],
   "source": [
    "df = pd.read_csv(\"output/bacteria_pfamseq_random.csv\")"
   ]
  },
  {
   "cell_type": "code",
   "execution_count": 10,
   "metadata": {},
   "outputs": [
    {
     "data": {
      "text/html": [
       "<div>\n",
       "<style scoped>\n",
       "    .dataframe tbody tr th:only-of-type {\n",
       "        vertical-align: middle;\n",
       "    }\n",
       "\n",
       "    .dataframe tbody tr th {\n",
       "        vertical-align: top;\n",
       "    }\n",
       "\n",
       "    .dataframe thead th {\n",
       "        text-align: right;\n",
       "    }\n",
       "</style>\n",
       "<table border=\"1\" class=\"dataframe\">\n",
       "  <thead>\n",
       "    <tr style=\"text-align: right;\">\n",
       "      <th></th>\n",
       "      <th>pfamseq_acc</th>\n",
       "      <th>length</th>\n",
       "      <th>taxonomy</th>\n",
       "    </tr>\n",
       "  </thead>\n",
       "  <tbody>\n",
       "    <tr>\n",
       "      <th>0</th>\n",
       "      <td>A0A291Q9B9</td>\n",
       "      <td>360</td>\n",
       "      <td>Bacteria; Actinomycetota; Actinomycetes; Kitas...</td>\n",
       "    </tr>\n",
       "    <tr>\n",
       "      <th>1</th>\n",
       "      <td>A0A4P6JVT8</td>\n",
       "      <td>213</td>\n",
       "      <td>Bacteria; Chloroflexota; Ktedonobacteria; Kted...</td>\n",
       "    </tr>\n",
       "    <tr>\n",
       "      <th>2</th>\n",
       "      <td>A0A365TVB8</td>\n",
       "      <td>152</td>\n",
       "      <td>Bacteria; Pseudomonadota; Alphaproteobacteria;...</td>\n",
       "    </tr>\n",
       "    <tr>\n",
       "      <th>3</th>\n",
       "      <td>A0A4V0I5A0</td>\n",
       "      <td>478</td>\n",
       "      <td>Bacteria; Planctomycetota; Planctomycetia; Gem...</td>\n",
       "    </tr>\n",
       "    <tr>\n",
       "      <th>4</th>\n",
       "      <td>A0A7W3TFE8</td>\n",
       "      <td>173</td>\n",
       "      <td>Bacteria; Actinomycetota; Actinomycetes; Kitas...</td>\n",
       "    </tr>\n",
       "    <tr>\n",
       "      <th>...</th>\n",
       "      <td>...</td>\n",
       "      <td>...</td>\n",
       "      <td>...</td>\n",
       "    </tr>\n",
       "    <tr>\n",
       "      <th>9995</th>\n",
       "      <td>A0A0X3UXE6</td>\n",
       "      <td>95</td>\n",
       "      <td>Bacteria; Actinomycetota; Actinomycetes; Micro...</td>\n",
       "    </tr>\n",
       "    <tr>\n",
       "      <th>9996</th>\n",
       "      <td>A0A7V9AAM5</td>\n",
       "      <td>187</td>\n",
       "      <td>Bacteria; Planctomycetota; Planctomycetia; Gem...</td>\n",
       "    </tr>\n",
       "    <tr>\n",
       "      <th>9997</th>\n",
       "      <td>A0A7Z2VKH4</td>\n",
       "      <td>191</td>\n",
       "      <td>Bacteria; Bacillota; Bacilli; Bacillales; Paen...</td>\n",
       "    </tr>\n",
       "    <tr>\n",
       "      <th>9998</th>\n",
       "      <td>A0A1C7NVQ6</td>\n",
       "      <td>260</td>\n",
       "      <td>Bacteria; Pseudomonadota; Alphaproteobacteria;...</td>\n",
       "    </tr>\n",
       "    <tr>\n",
       "      <th>9999</th>\n",
       "      <td>A0A5C6ADT6</td>\n",
       "      <td>324</td>\n",
       "      <td>Bacteria; Planctomycetota; Planctomycetia; Pir...</td>\n",
       "    </tr>\n",
       "  </tbody>\n",
       "</table>\n",
       "<p>10000 rows × 3 columns</p>\n",
       "</div>"
      ],
      "text/plain": [
       "     pfamseq_acc  length                                           taxonomy\n",
       "0     A0A291Q9B9     360  Bacteria; Actinomycetota; Actinomycetes; Kitas...\n",
       "1     A0A4P6JVT8     213  Bacteria; Chloroflexota; Ktedonobacteria; Kted...\n",
       "2     A0A365TVB8     152  Bacteria; Pseudomonadota; Alphaproteobacteria;...\n",
       "3     A0A4V0I5A0     478  Bacteria; Planctomycetota; Planctomycetia; Gem...\n",
       "4     A0A7W3TFE8     173  Bacteria; Actinomycetota; Actinomycetes; Kitas...\n",
       "...          ...     ...                                                ...\n",
       "9995  A0A0X3UXE6      95  Bacteria; Actinomycetota; Actinomycetes; Micro...\n",
       "9996  A0A7V9AAM5     187  Bacteria; Planctomycetota; Planctomycetia; Gem...\n",
       "9997  A0A7Z2VKH4     191  Bacteria; Bacillota; Bacilli; Bacillales; Paen...\n",
       "9998  A0A1C7NVQ6     260  Bacteria; Pseudomonadota; Alphaproteobacteria;...\n",
       "9999  A0A5C6ADT6     324  Bacteria; Planctomycetota; Planctomycetia; Pir...\n",
       "\n",
       "[10000 rows x 3 columns]"
      ]
     },
     "execution_count": 10,
     "metadata": {},
     "output_type": "execute_result"
    }
   ],
   "source": [
    "df"
   ]
  }
 ],
 "metadata": {
  "kernelspec": {
   "display_name": "isopeptide",
   "language": "python",
   "name": "python3"
  },
  "language_info": {
   "codemirror_mode": {
    "name": "ipython",
    "version": 3
   },
   "file_extension": ".py",
   "mimetype": "text/x-python",
   "name": "python",
   "nbconvert_exporter": "python",
   "pygments_lexer": "ipython3",
   "version": "3.12.2"
  }
 },
 "nbformat": 4,
 "nbformat_minor": 2
}
