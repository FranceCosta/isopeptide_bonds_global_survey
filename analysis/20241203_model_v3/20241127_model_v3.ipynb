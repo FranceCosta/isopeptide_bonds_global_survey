{
 "cells": [
  {
   "cell_type": "markdown",
   "metadata": {},
   "source": [
    "# Create final model\n"
   ]
  },
  {
   "cell_type": "code",
   "execution_count": 1,
   "metadata": {},
   "outputs": [],
   "source": [
    "import pandas as pd\n",
    "import os\n",
    "import seaborn as sns\n",
    "import matplotlib.pyplot as plt\n",
    "import shutil\n",
    "import subprocess\n",
    "import re\n",
    "from typing import Callable\n",
    "from sklearn.metrics import auc\n",
    "import biotite.structure.io.pdb as pdb\n",
    "import biotite.structure as struc\n",
    "import numpy as np\n",
    "import joblib"
   ]
  },
  {
   "cell_type": "code",
   "execution_count": 2,
   "metadata": {},
   "outputs": [],
   "source": [
    "# Utility functions\n",
    "\n",
    "def saveTemplate(path:str, atom_array, res_type=-1) -> None:\n",
    "    \"\"\"\n",
    "    \n",
    "        Save into template file using PDB format\n",
    "\n",
    "        PARAMETERS\n",
    "        ----------\n",
    "        path:str path to template;\n",
    "        atom_array: biotite atom array;\n",
    "        res_type: int based on Tess paper (doi.org/10.1002%2Fpro.5560061104) {-1: \"Template atom\", 0: \"Search by atom type\", \n",
    "                                                                              1: \"Non-carbon side chain atom\", 2: \"Non-carbon atom\", \n",
    "                                                                              3: \"Search by specified atom\", 4: \"Non-carbon main chain atom\",\n",
    "                                                                              5: \"Search by any main chain atom\", 6: \"Search by any side chain atom\",\n",
    "                                                                              7: \"Search by any atom type\"}\n",
    "    \n",
    "    \"\"\"\n",
    "    atom_format_string = (\n",
    "        \"%s%7i  %-4s%3s %c%4i    %8.3f%8.3f%8.3f\\n\"\n",
    "    )\n",
    "    with open(path, \"w\") as fh:\n",
    "        \n",
    "        for atom in atom_array:\n",
    "            j = tuple([\"ATOM\", res_type, atom.atom_name, atom.res_name, atom.chain_id, atom.res_id, atom.coord[0], atom.coord[1], atom.coord[2]])\n",
    "            fh.write(atom_format_string % j)\n",
    "\n",
    "def createTemplates(df:pd.DataFrame, out_templates:str, sub:Callable) -> list:\n",
    "    \"\"\"\n",
    "    \n",
    "\n",
    "        Create Jess templates\n",
    "\n",
    "        PARAMETERS\n",
    "        ----------\n",
    "        df:pd.DataFrame, data frame storing isopeptide bond formations\n",
    "        out_templates:str, path to output folder\n",
    "        sub:Callable, function to subset atoms to be used as templates\n",
    "\n",
    "        RETURNS\n",
    "        -------\n",
    "        used_templates:list, list of used templates\n",
    "    \n",
    "    \"\"\"\n",
    "    # Create templates\n",
    "    shutil.rmtree(out_templates)\n",
    "    os.makedirs(out_templates, exist_ok=True)\n",
    "    \n",
    "    # Specify conditions for templates\n",
    "    \n",
    "    cond1 = (df[\"Is bonded\"] == True)\n",
    "    cond2 = (df[\"Interchain\"] == False)\n",
    "    cond3 = (df[\"Bad rotamer\"] == False)\n",
    "    cond4 = (df[\"Residue 1\"] == \"K\")\n",
    "    cond5 = (df[\"Residue 2\"].isin([\"D\", \"E\"]))\n",
    "    cond6 = (df[\"Residue 2\"].isin([\"N\", \"D\", \"E\"]))\n",
    "    \n",
    "    sub_df = df[cond1 & cond2 & cond3 & cond4 & cond5]\n",
    "    \n",
    "    # Use the same template for all to align\n",
    "    ref_chain = sub_df.iloc[0][\"Chain\"]\n",
    "    ref_pdb = sub_df.iloc[0][\"PDB code\"]\n",
    "    ref_r1 = sub_df.iloc[0][\"Position 1\\r\\n(Bond 1)\"]\n",
    "    ref_r2 = sub_df.iloc[0][\"Position 2\\r\\n(catalytic)\"]\n",
    "    ref_r3 = sub_df.iloc[0][\"Position 3\\r\\n(Bond 2)\"]\n",
    "    ref_residues = [ref_r1, ref_r2, ref_r3]\n",
    "    \n",
    "    ref_s_path = os.path.join(POSITIVE_DATASET, f\"{ref_pdb}_{ref_chain}.pdb\")\n",
    "    pdb_file = pdb.PDBFile.read(ref_s_path)\n",
    "    ref_s = pdb_file.get_structure()\n",
    "    # Subset only lys\n",
    "    ref_template = struc.array([atom for atom in ref_s[0] if atom.res_id == ref_r1])\n",
    "    used_templates = []\n",
    "    \n",
    "    for _, row in sub_df.iterrows():\n",
    "        chain = row[\"Chain\"]\n",
    "        pdb_code = row[\"PDB code\"]\n",
    "        r1 = row[\"Position 1\\r\\n(Bond 1)\"]\n",
    "        r2 = row[\"Position 2\\r\\n(catalytic)\"]\n",
    "        r3 = row[\"Position 3\\r\\n(Bond 2)\"]\n",
    "        s2_path = os.path.join(POSITIVE_DATASET, f\"{pdb_code}_{chain}.pdb\")\n",
    "        pdb_file = pdb.PDBFile.read(s2_path) \n",
    "        s2 = pdb_file.get_structure() \n",
    "        s2_res = [r1, r2, r3]\n",
    "        out_struct_path = os.path.join(OUT_TEMPLATES, f\"{pdb_code}_{chain}_{int(r1)}_{int(r2)}_{int(r3)}.pdb\")\n",
    "        s2_sub = struc.array([atom for atom in s2[0] if atom.res_id in s2_res and \"H\" not in atom.atom_name])\n",
    "        s2_lys = struc.array([atom for atom in s2[0] if atom.res_id == r1 and \"H\" not in atom.atom_name])\n",
    "        s2_t = None\n",
    "        try:\n",
    "            _, transformation = struc.superimpose(fixed=ref_template, mobile=s2_lys)\n",
    "            # Apply transformation based on K to rest of residue\n",
    "            s2_t = transformation.apply(s2_sub)\n",
    "            \n",
    "        except ValueError:\n",
    "            print(f\"Transformation error for: {pdb_code}, number of residues in K {r1} is {len(s2_lys)}, expected: {len(ref_template)}\")\n",
    "            # Skip if no NZ\n",
    "            if not \"NZ\" in [atom.atom_name for atom in s2_lys]:\n",
    "                print(\"Found no NZ atom, skipping\")\n",
    "                continue\n",
    "            # Reduce atoms from template cause mobile Lys could have less atoms (usually no N)\n",
    "            atoms_to_consider = [atom.atom_name for atom in s2_lys]\n",
    "            ref_template_reduced = struc.array([atom for atom in ref_template if atom.atom_name in atoms_to_consider])\n",
    "            # Try again\n",
    "            _, transformation = struc.superimpose(fixed=ref_template_reduced, mobile=s2_lys)\n",
    "            # Apply transformation based on K to rest of residue\n",
    "            s2_t = struc.superimpose_apply(s2_sub, transformation)\n",
    "    \n",
    "        # Subset\n",
    "        s2_t = sub(s2_t)\n",
    "        saveTemplate( out_struct_path, s2_t)\n",
    "        used_templates.append(out_struct_path)\n",
    "\n",
    "    return used_templates\n",
    "\n",
    "def parse(jess_output:str) -> pd.DataFrame():\n",
    "    \"\"\"\n",
    "\n",
    "        Parses Jess raw output from scanning PDB structures into a table ['target', 'rmsd', 'template', 'chain', 'target_residues', 'template_residues']\n",
    "        Deprecated\n",
    "    \n",
    "    \"\"\"\n",
    "    # Parse results\n",
    "    line_to_info = re.compile(\"REMARK ([a-z/A-Z_0-9.pdb-]{,200}) ([0-9].[0-9]{3}) ([a-z/A-Z_0-9.pdb-]{,200}) Det= [-]{,2}(?:[0-9].[0-9]|nan) log\\\\(E\\\\)~([ -]{,2}[0-9]{,3}.[0-9]{2})\")\n",
    "    \n",
    "    outlist = []\n",
    "    for line in jess_output.split(\"\\n\"):\n",
    "        \n",
    "        if line.startswith(\"REMARK\"):\n",
    "            try:\n",
    "                match_ = line_to_info.findall(line)[0]\n",
    "            except IndexError:\n",
    "                print(line)\n",
    "            assert len(match_) == 4, f\"{match_}\"\n",
    "            target_path = match_[0]\n",
    "            target = target_path.split(\"/\")[-1].replace(\".pdb\", \"\")\n",
    "            rmsd = float(match_[1])\n",
    "            template = match_[2].split(\"/\")[-1].replace(\".pdb\", \"\")\n",
    "            loge = float(match_[3].strip())\n",
    "            sublist = [target, target_path, rmsd, template]\n",
    "            residues = []\n",
    "            chain = None\n",
    "            \n",
    "        if line.startswith(\"ATOM\"):\n",
    "            chain = line[21]\n",
    "            resi = int(line[22:26].strip())\n",
    "            residues.append(resi)\n",
    "        \n",
    "        if line.startswith(\"ENDMDL\"):\n",
    "            sublist.append(chain)\n",
    "            sublist.append(set(residues))\n",
    "            outlist.append(sublist)\n",
    "            sublist = []\n",
    "        \n",
    "    res_df = pd.DataFrame(outlist, columns=['target', 'target_path', 'rmsd', 'template', 'chain', 'target_residues'])\n",
    "    res_df['template_residues'] = res_df[\"template\"].apply(lambda x: set([int(i) for i in x.split(\"_\")[2:]]))\n",
    "    res_df['template'] = res_df[\"template\"].apply(lambda x: \"_\".join(x.split(\"_\")[:2]))\n",
    "    res_df[\"target_residues\"] = res_df[\"target_residues\"].apply(lambda x: \"_\".join([str(_) for _ in sorted(x)]))\n",
    "    res_df[\"template_residues\"] = res_df[\"template_residues\"].apply(lambda x: \"_\".join([str(_) for _ in sorted(x)]))\n",
    "    res_df[\"target_id\"] = res_df.apply(lambda x: x[\"target\"].lower().split(\"_\")[0]+\"_\"+x[\"chain\"].lower()+\"_\"+x[\"target_residues\"], axis=1)\n",
    "\n",
    "    return res_df\n",
    "\n",
    "def overlap(set1, set2, nbins=10):\n",
    "    \"\"\"\n",
    "    \n",
    "        Get the histogram overlap (in terms of raw counts)\n",
    "    \n",
    "    \"\"\"\n",
    "    \n",
    "    rng = min(set1.min(), set2.min()), max(set1.max(), set2.max())\n",
    "\n",
    "    hist1, _ = np.histogram(set1, bins=nbins, range=rng)\n",
    "    hist2, _ = np.histogram(set2, bins=nbins, range=rng)\n",
    "\n",
    "    return np.sum(np.minimum(hist1, hist2))\n",
    "\n",
    "def subsetAtoms(atom_array):\n",
    "    \"\"\"\n",
    "    \n",
    "        Subset atoms from atom array\n",
    "    \n",
    "    \"\"\"\n",
    "    subset = []\n",
    "    for atom in atom_array:\n",
    "        \n",
    "        if atom.res_name == \"ASP\":\n",
    "            if atom.atom_name == \"OD1\":\n",
    "                subset.append(atom)\n",
    "            elif atom.atom_name == \"OD2\":\n",
    "                subset.append(atom)\n",
    "            elif atom.atom_name == \"CG\":\n",
    "                subset.append(atom)\n",
    "                \n",
    "        elif atom.res_name == \"ASN\":\n",
    "            if atom.atom_name == \"OD1\":\n",
    "                subset.append(atom)\n",
    "            elif atom.atom_name == \"ND2\":\n",
    "                subset.append(atom)\n",
    "            elif atom.atom_name == \"CG\":\n",
    "                subset.append(atom)\n",
    "                \n",
    "        elif atom.res_name == \"GLU\":\n",
    "            if atom.atom_name == \"OE1\":\n",
    "                subset.append(atom)\n",
    "            elif atom.atom_name == \"OE2\":\n",
    "                subset.append(atom)\n",
    "            elif atom.atom_name == \"CD\":\n",
    "                subset.append(atom)\n",
    "        \n",
    "        elif atom.res_name == \"LYS\":\n",
    "            if atom.atom_name == \"NZ\":\n",
    "                subset.append(atom)\n",
    "            elif atom.atom_name == \"CE\":\n",
    "                subset.append(atom)\n",
    "\n",
    "    return struc.array(subset)\n",
    "\n",
    "MAX_ASA = { \"rost_sander\": { \"LYS\": 205, \"ASP\": 163, \"GLU\": 194, \"ASN\": 157 }}\n",
    "def getASA(row) -> float:\n",
    "    \"\"\"\n",
    "    \n",
    "        Calculates rASA of isopep residues. Returns average value. Use mash points == 100 to speed up computation\n",
    "    \n",
    "    \"\"\"\n",
    "    rASA = np.NaN\n",
    "    struct_path = row[\"structure_path\"]\n",
    "    chain = row[\"chain\"]\n",
    "    r1, r2, r3 = [int(i) for i in row[\"target_residues\"].split(\"_\")]\n",
    "    pdb_file = pdb.PDBFile.read(struct_path)\n",
    "    # Exclude water\n",
    "    structure = struc.array([atom for atom in pdb_file.get_structure()[0] if atom.hetero==False and atom.chain_id==chain and atom.element!=\"H\"])\n",
    "    # Consider whole structure to calculate sASA\n",
    "    try:\n",
    "        structure_sasa = struc.sasa(structure, point_number=500)\n",
    "        # Get indeces\n",
    "        r1_indx = [i for i, atom in enumerate(structure) if atom.res_id == r1]\n",
    "        r2_indx = [i for i, atom in enumerate(structure) if atom.res_id == r2]\n",
    "        r3_indx = [i for i, atom in enumerate(structure) if atom.res_id == r3]\n",
    "\n",
    "        r1_aa = structure[r1_indx[0]].res_name\n",
    "        r2_aa = structure[r2_indx[0]].res_name\n",
    "        r3_aa = structure[r3_indx[0]].res_name\n",
    "        \n",
    "        r1_asa = sum([structure_sasa[i] for i in r1_indx]) / MAX_ASA[\"rost_sander\"][r1_aa]\n",
    "        r2_asa = sum([structure_sasa[i] for i in r2_indx]) / MAX_ASA[\"rost_sander\"][r2_aa]\n",
    "        r3_asa = sum([structure_sasa[i] for i in r3_indx]) / MAX_ASA[\"rost_sander\"][r3_aa]\n",
    "        \n",
    "        rASA = [r1_asa, r2_asa, r3_asa]\n",
    "        \n",
    "    except IndexError:\n",
    "        \"\"\n",
    "        rASA = np.NaN\n",
    "        \n",
    "    except KeyError:\n",
    "        rASA = np.NaN\n",
    "\n",
    "    return rASA"
   ]
  },
  {
   "cell_type": "code",
   "execution_count": 3,
   "metadata": {},
   "outputs": [],
   "source": [
    "from dotenv import load_dotenv\n",
    "load_dotenv(\"../../.env\")\n",
    "JESS = os.getenv(\"JESS\")\n",
    "NEGATIVE_DATASET = os.getenv(\"NEGATIVE_CONTROL_3\") + \"_training\"\n",
    "POSITIVE_DATASET = os.getenv(\"POSITIVE_CONTROL\")\n",
    "TABLE = os.getenv(\"TABLE\")\n",
    "POSITIVE_CONTROL_IDENTITIES = os.getenv(\"POSITIVE_CONTROL_IDENTITIES\")\n",
    "INPUT_STRUCTURES_FILES = \"output/structures\"\n",
    "AF2_POS_SET = os.getenv(\"AF2_POS_SET\")\n",
    "AF2_POS_SET_TEMPLATES = os.getenv(\"AF2_POS_SET_TEMPLATES\")\n",
    "AF2_BIOCHEM = os.getenv(\"AF2_BIOCHEM\")\n",
    "AF2_TEMPLATES_BIOCHEM = os.getenv(\"AF2_TEMPLATES_BIOCHEM\")\n",
    "TEMPLATES_DIR = \"/nfs/research/agb/research/francesco/projects/20240212_isopeptideBonds_v1/20240529_findWithJess_v1/analysis/20241126_testTemplates_v1/output/templates/set7\"\n",
    "POS_SET_SEQ_ID = os.getenv(\"POS_SET_SEQ_ID\")\n",
    "CACHE_TABLE = \"output/jess_scan.csv\"\n",
    "TEST_CACHE_TABLE = \"output/jess_scan_test.csv\""
   ]
  },
  {
   "cell_type": "code",
   "execution_count": 4,
   "metadata": {},
   "outputs": [],
   "source": [
    "df = pd.read_csv(TABLE)\n",
    "df[\"id\"] = df.apply(lambda x: f\"{x['PDB code']}_\"+\n",
    "                    x[\"Chain\"]+\"_\"+\"_\".join( \n",
    "                        [str(i) for i in sorted(\n",
    "                            [\n",
    "                            x[\"Position 1\\r\\n(Bond 1)\"],\n",
    "                            x[\"Position 2\\r\\n(catalytic)\"],\n",
    "                            x[\"Position 3\\r\\n(Bond 2)\"]\n",
    "                            ]\n",
    "                            )]\n",
    "                            ), axis=1)\n",
    "\n",
    "identity_df = pd.read_csv(POS_SET_SEQ_ID)\n",
    "identity_df[\"Target\"] = identity_df[\"Target\"].str.lower()\n",
    "identity_df[\"Query\"] = identity_df[\"Query\"].str.lower()"
   ]
  },
  {
   "cell_type": "code",
   "execution_count": 5,
   "metadata": {},
   "outputs": [],
   "source": [
    "af_df = pd.read_csv(AF2_BIOCHEM)\n",
    "af_df[\"id\"] = af_df.apply(lambda x: x[\"PDB code\"]+\\\n",
    "                          \"_\"+ \"_\".join([str(i) for i in sorted(\n",
    "                              [x[\"r1_af\"], \n",
    "                               x[\"r2_af\"], \n",
    "                               x[\"r3_af\"]])]), \n",
    "                          axis=1).str.lower()\n",
    "\n",
    "af_templ_df = pd.read_csv(AF2_TEMPLATES_BIOCHEM)\n",
    "af_templ_df[\"id\"] = af_templ_df.apply(lambda x: x[\"PDB code\"]+\\\n",
    "                          \"_\"+ \"_\".join([str(i) for i in sorted(\n",
    "                              [x[\"r1_af\"], \n",
    "                               x[\"r2_af\"], \n",
    "                               x[\"r3_af\"]])]), \n",
    "                          axis=1).str.lower()\n",
    "\n"
   ]
  },
  {
   "cell_type": "code",
   "execution_count": 6,
   "metadata": {},
   "outputs": [],
   "source": [
    "# Create template file\n",
    "TEMPLATES = \"output/templates\"\n",
    "with open(TEMPLATES, \"w\") as fh:\n",
    "    for file in os.listdir(TEMPLATES_DIR):\n",
    "        if not file.endswith(\".pdb\"):\n",
    "            continue\n",
    "        tmp_file = os.path.join(TEMPLATES_DIR, file)\n",
    "        fh.write(tmp_file+\"\\n\")"
   ]
  },
  {
   "cell_type": "markdown",
   "metadata": {},
   "source": [
    "## Run Jess"
   ]
  },
  {
   "cell_type": "code",
   "execution_count": 7,
   "metadata": {},
   "outputs": [],
   "source": [
    "# Create files\n",
    "# Create input structures file\n",
    "input_structures_file = \"output/structures\"\n",
    "with open(input_structures_file, \"w\") as fh:\n",
    "    for neg_file in os.listdir(NEGATIVE_DATASET):   \n",
    "        if neg_file.split(\".\")[-1] != \"pdb\":\n",
    "            continue\n",
    "        # Verify no negative files overlap with positive dataset\n",
    "        if neg_file.split(\"/\")[-1].replace(\".pdb\", \"\").lower() in df[\"PDB code\"].unique():\n",
    "            print(neg_file)\n",
    "            continue\n",
    "        fh.write(os.path.join(NEGATIVE_DATASET, neg_file)+\"\\n\")\n",
    "    for pos_file in os.listdir(POSITIVE_DATASET):\n",
    "        if pos_file.split(\".\")[-1] != \"pdb\":\n",
    "            continue\n",
    "        fh.write(os.path.join(POSITIVE_DATASET, pos_file)+\"\\n\")"
   ]
  },
  {
   "cell_type": "code",
   "execution_count": 18,
   "metadata": {
    "scrolled": true
   },
   "outputs": [],
   "source": [
    "# Run Jess\n",
    "distances = [5]\n",
    "if os.path.exists(CACHE_TABLE) == False:\n",
    "    res_df = pd.DataFrame()\n",
    "    for distance in distances:\n",
    "        # Distance must be 1.5*RMSD\n",
    "        rmsd_threshold, distance_cutoff, max_allowed_distance = [str(distance)]*3\n",
    "        cmd = [str(JESS), str(TEMPLATES), str(input_structures_file), rmsd_threshold, distance_cutoff, max_allowed_distance]\n",
    "        process = subprocess.Popen(\n",
    "        cmd, text=True, stdin=subprocess.PIPE, stdout=subprocess.PIPE, stderr=subprocess.PIPE\n",
    "        )\n",
    "        stdout, stderr = process.communicate()\n",
    "        res_df = parse(stdout)\n",
    "    \n",
    "    # Assign true positive\n",
    "    cond1 = (df[\"Is bonded\"] == True)\n",
    "    cond2 = (df[\"Interchain\"] == False)\n",
    "    cond3 = (df[\"Bad rotamer\"] == False)\n",
    "    cond4 = (df[\"Unusual geometry/chemistry\"]==False)\n",
    "    cond5 = (df[\"Resolution\"]<=2.5)\n",
    "    res_df[\"true_positive\"] = 0\n",
    "    templates = df[cond1 & cond2 & cond3 & cond4 & cond5][\"id\"].str.lower().to_list()\n",
    "    res_df.loc[res_df[\"target_id\"].isin(templates), \"true_positive\"] = 1\n",
    "    \n",
    "    # Assign bad rotamer or low resolution (so they can later on be excluded)\n",
    "    res_df[\"bad_rotamer_low_res\"] = 0\n",
    "    cond1 = (df[\"Bad rotamer\"] == True)\n",
    "    cond2 = (df[\"Resolution\"] > 2.5)\n",
    "    templates = df[(cond1 | cond2) | (cond1 & cond2)][\"id\"].str.lower().to_list()\n",
    "    res_df.loc[res_df[\"target_id\"].isin(templates), \"bad_rotamer_low_res\"] = 1\n",
    "    \n",
    "    # Assign path\n",
    "    path_df = pd.read_csv(input_structures_file, names=[\"structure_path\"]).drop_duplicates()\n",
    "    path_df[\"PDB code\"] = path_df[\"structure_path\"].apply(lambda x: x.split(\"/\")[-1].split(\"_\")[0].replace(\".pdb\", \"\").lower())\n",
    "    res_df[\"PDB code\"] = res_df[\"target\"].apply(lambda x: x.split(\"_\")[0].lower())\n",
    "    res_df = pd.merge(res_df, path_df, how=\"left\")\n",
    "    \n",
    "    # Get rASA\n",
    "    asa_df = res_df.drop_duplicates(\"target_id\").copy()\n",
    "    asa_df[\"rASA\"] = asa_df.apply(getASA, axis=1)\n",
    "    \n",
    "    asa_df[\"tot_rASA\"] = asa_df[\"rASA\"].apply(lambda x: np.sum(x))\n",
    "    asa_df[\"mean_rASA\"] = asa_df[\"rASA\"].apply(lambda x: np.mean(x))\n",
    "    \n",
    "    res_df[\"template_id\"] = res_df.apply(lambda x: x[\"template\"].lower()+\"_\"+x[\"template_residues\"], axis=1)\n",
    "    res_df = pd.merge(res_df, asa_df[[\"target_id\", \"tot_rASA\", \"mean_rASA\"]])\n",
    "    res_df.to_csv(CACHE_TABLE, index=False)\n",
    "else:\n",
    "    res_df = pd.read_csv(CACHE_TABLE)"
   ]
  },
  {
   "cell_type": "markdown",
   "metadata": {},
   "source": [
    "## Create logitic regression model"
   ]
  },
  {
   "cell_type": "code",
   "execution_count": 19,
   "metadata": {},
   "outputs": [],
   "source": [
    "from sklearn.linear_model import LogisticRegression"
   ]
  },
  {
   "cell_type": "code",
   "execution_count": 18,
   "metadata": {},
   "outputs": [],
   "source": [
    "res_df = pd.read_csv(CACHE_TABLE)"
   ]
  },
  {
   "cell_type": "code",
   "execution_count": 10,
   "metadata": {},
   "outputs": [],
   "source": [
    "# Avoid matches target-template above 30% seq idenity\n",
    "# Exclude bad rotamers and low res isopeptide bonds\n",
    "cond1 = (res_df[\"bad_rotamer_low_res\"]==0)\n",
    "cond2 = (~res_df[\"mean_rASA\"].isna())\n",
    "cond3 = (identity_df[\"identity\"]>0.3)\n",
    "mod_df = pd.merge(res_df[cond1 & cond2], \n",
    "                identity_df[cond3].rename(columns={\"Query\":\"target_id\", \"Target\":\"template_id\"})\\\n",
    "           .assign(allowed=0), on=[\"target_id\", \"template_id\"], how=\"left\").fillna(1)\\\n",
    "           .query('allowed==1').query('target_id!=template_id')\\\n",
    "           .sort_values(\"rmsd\").drop_duplicates([\"target\", \"target_residues\"], keep=\"first\")"
   ]
  },
  {
   "cell_type": "code",
   "execution_count": 11,
   "metadata": {},
   "outputs": [],
   "source": [
    "X = mod_df[[\"rmsd\", \"mean_rASA\"]].to_numpy()\n",
    "y = mod_df[\"true_positive\"].to_numpy()\n",
    "\n",
    "clf = LogisticRegression(random_state=1).fit(X, y)"
   ]
  },
  {
   "cell_type": "code",
   "execution_count": 12,
   "metadata": {},
   "outputs": [
    {
     "data": {
      "image/png": "[encoded data removed]",
      "text/plain": [
       "<Figure size 640x480 with 2 Axes>"
      ]
     },
     "metadata": {},
     "output_type": "display_data"
    }
   ],
   "source": [
    "fig, ax = plt.subplots()\n",
    "\n",
    "sns.scatterplot(mod_df[mod_df[\"true_positive\"]==1], x=\"rmsd\", y=\"true_positive\", alpha=.5, lw=1, ax=ax, edgecolors=\"black\", \n",
    "               facecolors='none')\n",
    "sns.scatterplot(mod_df[mod_df[\"true_positive\"]==0], x=\"rmsd\", y=\"true_positive\", alpha=.5, lw=1, ax=ax, edgecolors=\"black\", \n",
    "               facecolors='black')\n",
    "\n",
    "copper = plt.get_cmap('copper')\n",
    "for mean_asa in [0.1, 0.5, 0.9]:\n",
    "    X =  mod_df.sort_values([\"rmsd\", \"mean_rASA\"])[[\"rmsd\", \"mean_rASA\"]].assign(mean_rASA=mean_asa).to_numpy()\n",
    "    ax.plot(X[:,0], clf.predict_proba(X)[:,1], alpha=1, lw=3, ls=\"-\", color=copper(mean_asa), zorder=0,\n",
    "            label = f\"rASA={mean_asa}\")\n",
    "ax.legend(loc=\"center right\")\n",
    "ax.set_yticks([0, 1])\n",
    "\n",
    "ax.spines['right'].set_visible(False)\n",
    "ax.spines['top'].set_visible(False)\n",
    "ax.set_ylabel(\"\")\n",
    "ax.set_xlabel(\"RMSD\")\n",
    "ax.set_yticks([0,1], [\"Negative\", \"Positive\"])\n",
    "ax.set_xlim([0,1.5])\n",
    "\n",
    "ax_r = ax.twinx()\n",
    "ax_r.set_ylabel('Bond probability', color=\"black\")\n",
    "ax_r.tick_params(axis='y', labelcolor=\"black\")"
   ]
  },
  {
   "cell_type": "code",
   "execution_count": 13,
   "metadata": {},
   "outputs": [
    {
     "data": {
      "text/plain": [
       "['output/model.pkl']"
      ]
     },
     "execution_count": 13,
     "metadata": {},
     "output_type": "execute_result"
    }
   ],
   "source": [
    "joblib.dump(clf, \"output/model.pkl\")"
   ]
  },
  {
   "cell_type": "markdown",
   "metadata": {},
   "source": [
    "## Run tests\n",
    "Use negative test set and bad rotamers as positive set "
   ]
  },
  {
   "cell_type": "code",
   "execution_count": 7,
   "metadata": {},
   "outputs": [
    {
     "name": "stderr",
     "output_type": "stream",
     "text": [
      "/nfs/research/agb/research/francesco/anaconda3/envs/isopeptide/lib/python3.12/site-packages/sklearn/base.py:347: InconsistentVersionWarning: Trying to unpickle estimator LogisticRegression from version 1.4.1.post1 when using version 1.3.0. This might lead to breaking code or invalid results. Use at your own risk. For more info please refer to:\n",
      "https://scikit-learn.org/stable/model_persistence.html#security-maintainability-limitations\n",
      "  warnings.warn(\n"
     ]
    }
   ],
   "source": [
    "from sklearn.metrics import precision_score, recall_score, f1_score\n",
    "\n",
    "clf = joblib.load(\"output/model.pkl\")"
   ]
  },
  {
   "cell_type": "markdown",
   "metadata": {},
   "source": [
    "### On test set"
   ]
  },
  {
   "cell_type": "code",
   "execution_count": 7,
   "metadata": {},
   "outputs": [],
   "source": [
    "# Create input structure file\n",
    "positive_set = os.path.join(POSITIVE_DATASET+\"_unfixed\")\n",
    "negative_set = os.path.join(os.getenv(\"NEGATIVE_CONTROL_3\")+\"_test\")\n",
    "input_structures_file = \"output/test_structures\"\n",
    "with open(input_structures_file, \"w\") as fh:\n",
    "    for file in os.listdir(positive_set):\n",
    "        fh.write(os.path.join(positive_set, file)+\"\\n\")\n",
    "    for file in os.listdir(negative_set):\n",
    "        fh.write(os.path.join(negative_set, file)+\"\\n\")"
   ]
  },
  {
   "cell_type": "code",
   "execution_count": 8,
   "metadata": {},
   "outputs": [],
   "source": [
    "# Run Jess\n",
    "distances = [5]\n",
    "if os.path.exists(TEST_CACHE_TABLE) == False:\n",
    "    res_df = pd.DataFrame()\n",
    "    for distance in distances:\n",
    "        # Distance must be 1.5*RMSD\n",
    "        rmsd_threshold, distance_cutoff, max_allowed_distance = [str(distance)]*3\n",
    "        cmd = [str(JESS), str(TEMPLATES), str(input_structures_file), rmsd_threshold, distance_cutoff, max_allowed_distance]\n",
    "        process = subprocess.Popen(\n",
    "        cmd, text=True, stdin=subprocess.PIPE, stdout=subprocess.PIPE, stderr=subprocess.PIPE\n",
    "        )\n",
    "        stdout, stderr = process.communicate()\n",
    "        res_df = parse(stdout)\n",
    "    \n",
    "    # Assign potential true positive from training set (so they can later on be excluded)\n",
    "    # Include low resolution\n",
    "    cond1 = (df[\"Is bonded\"] == True)\n",
    "    cond2 = (df[\"Interchain\"] == False)\n",
    "    cond3 = (df[\"Bad rotamer\"] == False)\n",
    "    cond4 = (df[\"Unusual geometry/chemistry\"]==False)\n",
    "    cond5 = (df[\"Resolution\"]>2.5)\n",
    "    # Exclude fixed==True because I am using those\n",
    "    cond6 = (~df[\"Fixed\"]==True)\n",
    "    res_df[\"true_positive_training_or_low_res\"] = 0\n",
    "    templates = df[((cond1 & cond2 & cond3 & cond4)|cond5)&cond6][\"id\"].str.lower().to_list()\n",
    "    res_df.loc[res_df[\"target_id\"].isin(templates), \"true_positive_training_or_low_res\"] = 1\n",
    "    \n",
    "    # Assign true positive test\n",
    "    cond1 = (df[\"Is bonded\"] == True)\n",
    "    cond2 = (df[\"Interchain\"] == False)\n",
    "    cond3 = (df[\"Resolution\"] <= 2.5)\n",
    "    cond4 = (df[\"Bad rotamer\"] == True)\n",
    "    cond5 = (df[\"Fixed\"] == True)\n",
    "    res_df[\"true_positive\"] = 0\n",
    "    templates = df[(cond1 & cond2 & cond3) & (cond4 | cond5)][\"id\"].str.lower().to_list()\n",
    "    res_df.loc[res_df[\"target_id\"].isin(templates), \"true_positive\"] = 1\n",
    "    \n",
    "    # Assign path\n",
    "    path_df = pd.read_csv(input_structures_file, names=[\"structure_path\"]).drop_duplicates()\n",
    "    path_df[\"PDB code\"] = path_df[\"structure_path\"].apply(lambda x: x.split(\"/\")[-1].split(\"_\")[0].replace(\".pdb\", \"\").lower())\n",
    "    res_df[\"PDB code\"] = res_df[\"target\"].apply(lambda x: x.split(\"_\")[0].lower())\n",
    "    res_df = pd.merge(res_df, path_df, how=\"left\")\n",
    "    \n",
    "    # Get rASA\n",
    "    asa_df = res_df.drop_duplicates(\"target_id\").copy()\n",
    "    asa_df[\"rASA\"] = asa_df.apply(getASA, axis=1)\n",
    "    \n",
    "    asa_df[\"tot_rASA\"] = asa_df[\"rASA\"].apply(lambda x: np.sum(x))\n",
    "    asa_df[\"mean_rASA\"] = asa_df[\"rASA\"].apply(lambda x: np.mean(x))\n",
    "    \n",
    "    res_df[\"template_id\"] = res_df.apply(lambda x: x[\"template\"].lower()+\"_\"+x[\"template_residues\"], axis=1)\n",
    "    res_df = pd.merge(res_df, asa_df[[\"target_id\", \"tot_rASA\", \"mean_rASA\"]])\n",
    "    res_df.to_csv(TEST_CACHE_TABLE, index=False)\n",
    "else:\n",
    "    res_df = pd.read_csv(TEST_CACHE_TABLE)"
   ]
  },
  {
   "cell_type": "code",
   "execution_count": 9,
   "metadata": {},
   "outputs": [],
   "source": [
    "# Avoid matches target-template above 30% seq idenity\n",
    "cond1 = (res_df[\"true_positive_training_or_low_res\"]==0)\n",
    "cond2 = (~res_df[\"mean_rASA\"].isna())\n",
    "cond3 = (identity_df[\"identity\"]>0.3)\n",
    "test_df = pd.merge(res_df[cond1 & cond2], \n",
    "                identity_df[cond3].rename(columns={\"Query\":\"target_id\", \"Target\":\"template_id\"})\\\n",
    "           .assign(allowed=0), on=[\"target_id\", \"template_id\"], how=\"left\").fillna(1)\\\n",
    "           .query('allowed==1').query('target_id!=template_id')\\\n",
    "           .sort_values(\"rmsd\").drop_duplicates([\"target\", \"target_residues\"], keep=\"first\")"
   ]
  },
  {
   "cell_type": "code",
   "execution_count": 10,
   "metadata": {},
   "outputs": [],
   "source": [
    "y_true = test_df[\"true_positive\"].to_numpy()\n",
    "y_pred = clf.predict(test_df[[\"rmsd\", \"mean_rASA\"]].to_numpy())\n",
    "precision = precision_score(y_true, y_pred)\n",
    "recall = recall_score(y_true, y_pred)\n",
    "f1 = f1_score(y_true, y_pred)"
   ]
  },
  {
   "cell_type": "code",
   "execution_count": 11,
   "metadata": {},
   "outputs": [
    {
     "name": "stdout",
     "output_type": "stream",
     "text": [
      "Precision: 0.792, Recall: 1.0, F1-score: 0.884\n"
     ]
    }
   ],
   "source": [
    "print(f\"Precision: {round(precision, 3)}, Recall: {round(recall, 3)}, F1-score: {round(f1, 3)}\")"
   ]
  },
  {
   "cell_type": "markdown",
   "metadata": {},
   "source": [
    "### On AF2 structures modelled without templates"
   ]
  },
  {
   "cell_type": "code",
   "execution_count": 8,
   "metadata": {},
   "outputs": [],
   "source": [
    "# Run on AF2\n",
    "distance = 5\n",
    "pdb_files = [os.path.join(AF2_POS_SET_TEMPLATES, dir_, \"ranked_0.pdb\") for dir_ in os.listdir(AF2_POS_SET)]\n",
    "rmsd_threshold, distance_cutoff, max_allowed_distance = [str(distance)]*3\n",
    "cmd = [str(JESS), str(TEMPLATES), \"-\", rmsd_threshold, distance_cutoff, max_allowed_distance]\n",
    "\n",
    "process = subprocess.Popen(\n",
    "    cmd, text=True, stdin=subprocess.PIPE, stdout=subprocess.PIPE, stderr=subprocess.PIPE\n",
    ")\n",
    "stdout, stderr = process.communicate(input=\"\\n\".join(pdb_files))\n",
    "res_df = parse(stdout)\n",
    "res_df[\"target\"] = res_df[\"target_path\"].apply(lambda x: x.split(\"/\")[-2]) \n",
    "res_df[\"structure_path\"] = res_df[\"target_path\"]\n",
    "res_df[\"target_id\"] = res_df.apply(lambda x: x[\"target\"].split(\"_\")[0]+\\\n",
    "                            \"_\"+\"_\".join(x[\"target_id\"].split(\"_\")[2:]), axis=1)\n",
    "res_df[\"target_pdb_code\"] = res_df[\"target\"].apply(lambda x: x.split(\"_\")[0])\n",
    "\n",
    "# Get asa\n",
    "asa_df = res_df.drop_duplicates(\"target_id\").copy()\n",
    "asa_df[\"rASA\"] = asa_df.apply(getASA, axis=1)\n",
    "asa_df[\"tot_rASA\"] = asa_df[\"rASA\"].apply(lambda x: np.sum(x))\n",
    "asa_df[\"mean_rASA\"] = asa_df[\"rASA\"].apply(lambda x: np.mean(x))\n",
    "res_df[\"template_id\"] = res_df.apply(lambda x: x[\"template\"].lower()+\"_\"+x[\"template_residues\"], axis=1)\n",
    "res_df = pd.merge(res_df, asa_df[[\"target_id\", \"tot_rASA\", \"mean_rASA\"]])\n",
    "\n",
    "# Get TP\n",
    "cond1 = (af_df[\"Is bonded\"])\n",
    "cond2 = (~af_df[\"Interchain\"])\n",
    "true_pos = af_df[cond1 & cond2][\"id\"].to_list()\n",
    "res_df[\"true_positive\"] = 0\n",
    "res_df.loc[res_df[\"target_id\"].isin(true_pos), \"true_positive\"] = 1"
   ]
  },
  {
   "cell_type": "code",
   "execution_count": 21,
   "metadata": {},
   "outputs": [],
   "source": [
    "# Map AF2 to PDB ids\n",
    "map_df = pd.merge(af_templ_df, \n",
    "    df[[\"PDB code\", \"Chain\", \"Position 1\\r\\n(Bond 1)\", \"id\"]].rename(columns={\"id\": \"target_id_pdb\"}), on=[\"PDB code\", \"Chain\", \"Position 1\\r\\n(Bond 1)\"])\n",
    "# Introduce PDB id as target_id_pdb\n",
    "test_df = pd.merge(res_df,\n",
    "                   map_df[[\"id\", \"target_id_pdb\"]].rename(columns={\"id\":\"target_id\"}).assign(target_id_pdb=lambda x: x[\"target_id_pdb\"].str.lower()),\\\n",
    "                   on=\"target_id\", how=\"left\")\n",
    "# Avoid matches target-template above 30% seq idenity\n",
    "cond1 = (~test_df[\"mean_rASA\"].isna())\n",
    "test_df = pd.merge(test_df[cond1], \n",
    "                identity_df.rename(columns={\"Query\":\"target_id_pdb\", \"Target\":\"template_id\"}),\\\n",
    "           on=[\"target_id_pdb\", \"template_id\"], how=\"left\")\\\n",
    "           .fillna({\"identity\":0})\\\n",
    "           .query('identity<.3').query('target_id!=template_id')\\\n",
    "           .sort_values(\"rmsd\").drop_duplicates([\"target\", \"target_residues\"], keep=\"first\")"
   ]
  },
  {
   "cell_type": "code",
   "execution_count": 22,
   "metadata": {},
   "outputs": [
    {
     "name": "stdout",
     "output_type": "stream",
     "text": [
      "Recall: 0.927\n"
     ]
    }
   ],
   "source": [
    "# Recall is the only metric that makes sense since there is no proper negative set:\n",
    "y_true = test_df[\"true_positive\"].to_numpy()\n",
    "y_pred = clf.predict(test_df[[\"rmsd\", \"mean_rASA\"]].to_numpy())\n",
    "recall = recall_score(y_true, y_pred)\n",
    "print(f\"Recall: {round(recall, 3)}\")"
   ]
  },
  {
   "cell_type": "markdown",
   "metadata": {},
   "source": [
    "### On AF2 structures modelled without templates"
   ]
  },
  {
   "cell_type": "code",
   "execution_count": 13,
   "metadata": {},
   "outputs": [
    {
     "ename": "NameError",
     "evalue": "name 'TEMPLATES' is not defined",
     "output_type": "error",
     "traceback": [
      "\u001b[0;31m---------------------------------------------------------------------------\u001b[0m",
      "\u001b[0;31mNameError\u001b[0m                                 Traceback (most recent call last)",
      "Cell \u001b[0;32mIn[13], line 5\u001b[0m\n\u001b[1;32m      3\u001b[0m pdb_files \u001b[38;5;241m=\u001b[39m [os\u001b[38;5;241m.\u001b[39mpath\u001b[38;5;241m.\u001b[39mjoin(AF2_POS_SET, dir_, \u001b[38;5;124m\"\u001b[39m\u001b[38;5;124mranked_0.pdb\u001b[39m\u001b[38;5;124m\"\u001b[39m) \u001b[38;5;28;01mfor\u001b[39;00m dir_ \u001b[38;5;129;01min\u001b[39;00m os\u001b[38;5;241m.\u001b[39mlistdir(AF2_POS_SET)]\n\u001b[1;32m      4\u001b[0m rmsd_threshold, distance_cutoff, max_allowed_distance \u001b[38;5;241m=\u001b[39m [\u001b[38;5;28mstr\u001b[39m(distance)]\u001b[38;5;241m*\u001b[39m\u001b[38;5;241m3\u001b[39m\n\u001b[0;32m----> 5\u001b[0m cmd \u001b[38;5;241m=\u001b[39m [\u001b[38;5;28mstr\u001b[39m(JESS), \u001b[38;5;28mstr\u001b[39m(\u001b[43mTEMPLATES\u001b[49m), \u001b[38;5;124m\"\u001b[39m\u001b[38;5;124m-\u001b[39m\u001b[38;5;124m\"\u001b[39m, rmsd_threshold, distance_cutoff, max_allowed_distance]\n\u001b[1;32m      7\u001b[0m process \u001b[38;5;241m=\u001b[39m subprocess\u001b[38;5;241m.\u001b[39mPopen(\n\u001b[1;32m      8\u001b[0m     cmd, text\u001b[38;5;241m=\u001b[39m\u001b[38;5;28;01mTrue\u001b[39;00m, stdin\u001b[38;5;241m=\u001b[39msubprocess\u001b[38;5;241m.\u001b[39mPIPE, stdout\u001b[38;5;241m=\u001b[39msubprocess\u001b[38;5;241m.\u001b[39mPIPE, stderr\u001b[38;5;241m=\u001b[39msubprocess\u001b[38;5;241m.\u001b[39mPIPE\n\u001b[1;32m      9\u001b[0m )\n\u001b[1;32m     10\u001b[0m stdout, stderr \u001b[38;5;241m=\u001b[39m process\u001b[38;5;241m.\u001b[39mcommunicate(\u001b[38;5;28minput\u001b[39m\u001b[38;5;241m=\u001b[39m\u001b[38;5;124m\"\u001b[39m\u001b[38;5;130;01m\\n\u001b[39;00m\u001b[38;5;124m\"\u001b[39m\u001b[38;5;241m.\u001b[39mjoin(pdb_files))\n",
      "\u001b[0;31mNameError\u001b[0m: name 'TEMPLATES' is not defined"
     ]
    }
   ],
   "source": [
    "# Run on AF2\n",
    "distance = 5\n",
    "pdb_files = [os.path.join(AF2_POS_SET, dir_, \"ranked_0.pdb\") for dir_ in os.listdir(AF2_POS_SET)]\n",
    "rmsd_threshold, distance_cutoff, max_allowed_distance = [str(distance)]*3\n",
    "cmd = [str(JESS), str(TEMPLATES), \"-\", rmsd_threshold, distance_cutoff, max_allowed_distance]\n",
    "\n",
    "process = subprocess.Popen(\n",
    "    cmd, text=True, stdin=subprocess.PIPE, stdout=subprocess.PIPE, stderr=subprocess.PIPE\n",
    ")\n",
    "stdout, stderr = process.communicate(input=\"\\n\".join(pdb_files))\n",
    "res_df = parse(stdout)\n",
    "res_df[\"target\"] = res_df[\"target_path\"].apply(lambda x: x.split(\"/\")[-2]) \n",
    "res_df[\"structure_path\"] = res_df[\"target_path\"]\n",
    "res_df[\"target_id\"] = res_df.apply(lambda x: x[\"target\"].split(\"_\")[0]+\\\n",
    "                            \"_\"+\"_\".join(x[\"target_id\"].split(\"_\")[2:]), axis=1)\n",
    "res_df[\"target_pdb_code\"] = res_df[\"target\"].apply(lambda x: x.split(\"_\")[0])\n",
    "\n",
    "# Get asa\n",
    "asa_df = res_df.drop_duplicates(\"target_id\").copy()\n",
    "asa_df[\"rASA\"] = asa_df.apply(getASA, axis=1)\n",
    "asa_df[\"tot_rASA\"] = asa_df[\"rASA\"].apply(lambda x: np.sum(x))\n",
    "asa_df[\"mean_rASA\"] = asa_df[\"rASA\"].apply(lambda x: np.mean(x))\n",
    "res_df[\"template_id\"] = res_df.apply(lambda x: x[\"template\"].lower()+\"_\"+x[\"template_residues\"], axis=1)\n",
    "res_df = pd.merge(res_df, asa_df[[\"target_id\", \"tot_rASA\", \"mean_rASA\"]])\n",
    "\n",
    "# Get TP\n",
    "cond1 = (af_df[\"Is bonded\"])\n",
    "cond2 = (~af_df[\"Interchain\"])\n",
    "true_pos = af_df[cond1 & cond2][\"id\"].to_list()\n",
    "res_df[\"true_positive\"] = 0\n",
    "res_df.loc[res_df[\"target_id\"].isin(true_pos), \"true_positive\"] = 1"
   ]
  },
  {
   "cell_type": "code",
   "execution_count": 24,
   "metadata": {
    "scrolled": true
   },
   "outputs": [],
   "source": [
    "# Map AF2 to PDB ids\n",
    "map_df = pd.merge(af_df, \n",
    "    df[[\"PDB code\", \"Chain\", \"Position 1\\r\\n(Bond 1)\", \"id\"]].rename(columns={\"id\": \"target_id_pdb\"}), on=[\"PDB code\", \"Chain\", \"Position 1\\r\\n(Bond 1)\"])\n",
    "# Introduce PDB id as target_id_pdb\n",
    "test_df = pd.merge(res_df,\n",
    "                   map_df[[\"id\", \"target_id_pdb\"]].rename(columns={\"id\":\"target_id\"}).assign(target_id_pdb=lambda x: x[\"target_id_pdb\"].str.lower()),\\\n",
    "                   on=\"target_id\", how=\"left\")\n",
    "# Avoid matches target-template above 30% seq idenity\n",
    "cond1 = (~test_df[\"mean_rASA\"].isna())\n",
    "test_df = pd.merge(test_df[cond1], \n",
    "                identity_df.rename(columns={\"Query\":\"target_id_pdb\", \"Target\":\"template_id\"}),\\\n",
    "           on=[\"target_id_pdb\", \"template_id\"], how=\"left\")\\\n",
    "           .fillna({\"identity\":0})\\\n",
    "           .query('identity<.3').query('target_id!=template_id')\\\n",
    "           .sort_values(\"rmsd\").drop_duplicates([\"target\", \"target_residues\"], keep=\"first\")"
   ]
  },
  {
   "cell_type": "code",
   "execution_count": 25,
   "metadata": {},
   "outputs": [
    {
     "name": "stdout",
     "output_type": "stream",
     "text": [
      "Recall: 0.911\n"
     ]
    }
   ],
   "source": [
    "# Recall is the only metric that makes sense since there is no proper negative set:\n",
    "y_true = test_df[\"true_positive\"].to_numpy()\n",
    "y_pred = clf.predict(test_df[[\"rmsd\", \"mean_rASA\"]].to_numpy())\n",
    "recall = recall_score(y_true, y_pred)\n",
    "print(f\"Recall: {round(recall, 3)}\")"
   ]
  },
  {
   "cell_type": "markdown",
   "metadata": {
    "jp-MarkdownHeadingCollapsed": true
   },
   "source": [
    "## Run cross validation"
   ]
  },
  {
   "cell_type": "code",
   "execution_count": 82,
   "metadata": {},
   "outputs": [],
   "source": [
    "from sklearn.model_selection import StratifiedKFold, ShuffleSplit\n",
    "from sklearn.model_selection import cross_validate"
   ]
  },
  {
   "cell_type": "code",
   "execution_count": 83,
   "metadata": {},
   "outputs": [],
   "source": [
    "res_df = pd.read_csv(CACHE_TABLE)\n",
    "# After having run python bin/cluster_matches.py:\n",
    "clus_df = pd.read_csv(\"output/cluster.csv\")"
   ]
  },
  {
   "cell_type": "code",
   "execution_count": 98,
   "metadata": {},
   "outputs": [],
   "source": [
    "# Keep only representative clusters\n",
    "clus_representatives = clus_df.drop_duplicates(\"cluster\", keep=\"first\")[\"Query\"].str.lower().to_list()\n",
    "cond1 = (res_df[\"target_id\"].isin(clus_representatives))\n",
    "cond2 = (res_df[\"template_id\"].isin(clus_representatives))\n",
    "cond3 = (res_df[\"target_id\"]!=res_df[\"template_id\"])\n",
    "cond4 = (res_df[\"bad_rotamer_low_res\"]==0)\n",
    "cond5 = (~res_df[\"mean_rASA\"].isna())\n",
    "val_df = res_df[cond1 & cond2 & cond3 & cond4 & cond5]\\\n",
    "        .sort_values(\"rmsd\")\\\n",
    "        .drop_duplicates(\"target_id\", keep=\"first\")\n"
   ]
  },
  {
   "cell_type": "code",
   "execution_count": 99,
   "metadata": {},
   "outputs": [],
   "source": [
    "# Shuffle\n",
    "val_df = val_df.sample(frac=1, random_state=3)\n",
    "\n",
    "\n",
    "X = val_df[[\"rmsd\", \"mean_rASA\"]].to_numpy()\n",
    "y = val_df[\"true_positive\"].to_numpy()\n",
    "\n",
    "gkf = StratifiedKFold(n_splits=4)\n",
    "\n",
    "clf = LogisticRegression()\n",
    "\n",
    "r = cross_validate(\n",
    "        clf, X, y, cv=gkf, scoring=['precision','f1','recall']\n",
    "    )"
   ]
  },
  {
   "cell_type": "code",
   "execution_count": 102,
   "metadata": {},
   "outputs": [
    {
     "data": {
      "image/png": "[encoded data removed]",
      "text/plain": [
       "<Figure size 640x480 with 1 Axes>"
      ]
     },
     "metadata": {},
     "output_type": "display_data"
    }
   ],
   "source": [
    "fig, ax = plt.subplots()\n",
    "\n",
    "sns.scatterplot(pd.DataFrame(r)[[\"test_precision\", \"test_f1\", \"test_recall\"]]\\\n",
    "                .rename(columns={\"test_precision\": \"precision\", \"test_f1\": \"f1-score\", \"test_recall\": \"recall\"}), \n",
    "                palette=\"binary\")\n",
    "plt.ylim([0,1])\n",
    "\n",
    "plt.ylabel(\"Value\")\n",
    "plt.xlabel(\"Split\",)\n",
    "\n",
    "plt.xticks([0, 1, 2, 3])\n",
    "plt.yticks([i/10 for i in range(0,11,1)])\n",
    "\n",
    "plt.legend(loc=\"lower right\")\n",
    "\n",
    "ax.spines['right'].set_visible(False)\n",
    "ax.spines['top'].set_visible(False)"
   ]
  },
  {
   "cell_type": "code",
   "execution_count": 105,
   "metadata": {},
   "outputs": [
    {
     "data": {
      "text/html": [
       "<div>\n",
       "<style scoped>\n",
       "    .dataframe tbody tr th:only-of-type {\n",
       "        vertical-align: middle;\n",
       "    }\n",
       "\n",
       "    .dataframe tbody tr th {\n",
       "        vertical-align: top;\n",
       "    }\n",
       "\n",
       "    .dataframe thead th {\n",
       "        text-align: right;\n",
       "    }\n",
       "</style>\n",
       "<table border=\"1\" class=\"dataframe\">\n",
       "  <thead>\n",
       "    <tr style=\"text-align: right;\">\n",
       "      <th></th>\n",
       "      <th>fit_time</th>\n",
       "      <th>score_time</th>\n",
       "      <th>test_precision</th>\n",
       "      <th>test_f1</th>\n",
       "      <th>test_recall</th>\n",
       "    </tr>\n",
       "  </thead>\n",
       "  <tbody>\n",
       "    <tr>\n",
       "      <th>count</th>\n",
       "      <td>4.0</td>\n",
       "      <td>4.00</td>\n",
       "      <td>4.0</td>\n",
       "      <td>4.0</td>\n",
       "      <td>4.0</td>\n",
       "    </tr>\n",
       "    <tr>\n",
       "      <th>mean</th>\n",
       "      <td>0.0</td>\n",
       "      <td>0.01</td>\n",
       "      <td>1.0</td>\n",
       "      <td>1.0</td>\n",
       "      <td>1.0</td>\n",
       "    </tr>\n",
       "    <tr>\n",
       "      <th>std</th>\n",
       "      <td>0.0</td>\n",
       "      <td>0.00</td>\n",
       "      <td>0.0</td>\n",
       "      <td>0.0</td>\n",
       "      <td>0.0</td>\n",
       "    </tr>\n",
       "    <tr>\n",
       "      <th>min</th>\n",
       "      <td>0.0</td>\n",
       "      <td>0.01</td>\n",
       "      <td>1.0</td>\n",
       "      <td>1.0</td>\n",
       "      <td>1.0</td>\n",
       "    </tr>\n",
       "    <tr>\n",
       "      <th>25%</th>\n",
       "      <td>0.0</td>\n",
       "      <td>0.01</td>\n",
       "      <td>1.0</td>\n",
       "      <td>1.0</td>\n",
       "      <td>1.0</td>\n",
       "    </tr>\n",
       "    <tr>\n",
       "      <th>50%</th>\n",
       "      <td>0.0</td>\n",
       "      <td>0.01</td>\n",
       "      <td>1.0</td>\n",
       "      <td>1.0</td>\n",
       "      <td>1.0</td>\n",
       "    </tr>\n",
       "    <tr>\n",
       "      <th>75%</th>\n",
       "      <td>0.0</td>\n",
       "      <td>0.01</td>\n",
       "      <td>1.0</td>\n",
       "      <td>1.0</td>\n",
       "      <td>1.0</td>\n",
       "    </tr>\n",
       "    <tr>\n",
       "      <th>max</th>\n",
       "      <td>0.0</td>\n",
       "      <td>0.01</td>\n",
       "      <td>1.0</td>\n",
       "      <td>1.0</td>\n",
       "      <td>1.0</td>\n",
       "    </tr>\n",
       "  </tbody>\n",
       "</table>\n",
       "</div>"
      ],
      "text/plain": [
       "       fit_time  score_time  test_precision  test_f1  test_recall\n",
       "count       4.0        4.00             4.0      4.0          4.0\n",
       "mean        0.0        0.01             1.0      1.0          1.0\n",
       "std         0.0        0.00             0.0      0.0          0.0\n",
       "min         0.0        0.01             1.0      1.0          1.0\n",
       "25%         0.0        0.01             1.0      1.0          1.0\n",
       "50%         0.0        0.01             1.0      1.0          1.0\n",
       "75%         0.0        0.01             1.0      1.0          1.0\n",
       "max         0.0        0.01             1.0      1.0          1.0"
      ]
     },
     "execution_count": 105,
     "metadata": {},
     "output_type": "execute_result"
    }
   ],
   "source": [
    "pd.DataFrame(r).describe().round(2)"
   ]
  },
  {
   "cell_type": "code",
   "execution_count": null,
   "metadata": {},
   "outputs": [],
   "source": []
  },
  {
   "cell_type": "code",
   "execution_count": null,
   "metadata": {},
   "outputs": [],
   "source": []
  }
 ],
 "metadata": {
  "kernelspec": {
   "display_name": "Python 3 (ipykernel)",
   "language": "python",
   "name": "python3"
  },
  "language_info": {
   "codemirror_mode": {
    "name": "ipython",
    "version": 3
   },
   "file_extension": ".py",
   "mimetype": "text/x-python",
   "name": "python",
   "nbconvert_exporter": "python",
   "pygments_lexer": "ipython3",
   "version": "3.12.2"
  }
 },
 "nbformat": 4,
 "nbformat_minor": 4
}
