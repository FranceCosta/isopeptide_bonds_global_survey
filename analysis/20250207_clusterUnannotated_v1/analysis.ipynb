{
 "cells": [
  {
   "cell_type": "code",
   "execution_count": 1,
   "metadata": {},
   "outputs": [],
   "source": [
    "import pandas as pd\n",
    "import os\n",
    "import seaborn as sns\n",
    "import matplotlib.pyplot as plt\n",
    "\n",
    "from dotenv import load_dotenv\n",
    "load_dotenv(\"../.env\")\n",
    "AFDB_JESS_SCAN_TABLE = os.getenv(\"AFDB_JESS_SCAN_TABLE\")\n",
    "AFDB_SCAN_SEQUENCES = os.getenv(\"AFDB_SCAN_SEQUENCES\")\n",
    "AFDB_DOMAINS = os.getenv(\"AFDB_DOMAINS\")\n",
    "TABLE_WITH_PFAM = os.getenv(\"TABLE_WITH_PFAM\")"
   ]
  },
  {
   "cell_type": "code",
   "execution_count": 2,
   "metadata": {},
   "outputs": [],
   "source": [
    "df = pd.read_csv(AFDB_JESS_SCAN_TABLE)\n",
    "pdf = pd.read_csv(TABLE_WITH_PFAM)\n",
    "d_df = pd.read_csv(AFDB_DOMAINS)\n",
    "seq_df = pd.read_csv(AFDB_SCAN_SEQUENCES)"
   ]
  },
  {
   "cell_type": "markdown",
   "metadata": {},
   "source": [
    "## Extract sequences with no Pfam annotation"
   ]
  },
  {
   "cell_type": "code",
   "execution_count": 7,
   "metadata": {},
   "outputs": [],
   "source": [
    "# Simplify everything.\n",
    "# Get isopep bonds with no annotations:\n",
    "cond1 = (df[\"probability\"]>.65)\n",
    "cond2 = (~df[\"taxonomy\"].isna())\n",
    "cond3 = (df[\"pfamA_acc\"].isna())\n",
    "final_df = pd.merge(df[cond1&cond2&cond3], seq_df)\n",
    "\n",
    "# Create domain boundaries\n",
    "# Apply different boundaries based on average distance between bond and domain boundary\n",
    "boundaries = {\n",
    "    \"CnaB-like\": {\n",
    "        \"left\": 10,\n",
    "        \"right\": 5\n",
    "    },\n",
    "    \"CnaA-like\": {\n",
    "        \"left\": 5,\n",
    "        \"right\": 30\n",
    "    }\n",
    "}\n",
    "final_df[\"seq_start\"] = final_df.apply(lambda x: x[\"r1_bond\"] - boundaries[x[\"bond_type\"]][\"left\"], axis=1)\n",
    "final_df.loc[final_df[\"seq_start\"]< 0, \"seq_start\"] = 1\n",
    "final_df[\"seq_end\"] = final_df.apply(lambda x: x[\"r2_bond\"] + boundaries[x[\"bond_type\"]][\"right\"], axis=1)\n",
    "final_df[\"id\"] = final_df.apply(lambda x: f\"{x['uniprot_acc']}_{x['seq_start']}_{x['seq_end']}\", axis=1)\n",
    "final_df[\"sequence\"] = final_df.apply(lambda x: x[\"sequence\"][x[\"seq_start\"]:x[\"seq_end\"]], axis=1)\n",
    "\n",
    "# Exclude long proteins (insertions most likely)\n",
    "final_df[\"len\"] = final_df[\"seq_end\"] - final_df[\"seq_start\"]\n",
    "final_df = final_df[final_df[\"len\"]<300]"
   ]
  },
  {
   "cell_type": "code",
   "execution_count": 5,
   "metadata": {},
   "outputs": [],
   "source": [
    "# Save sequences\n",
    "with open(\"output/sequences.fa\", \"wt\") as fh:\n",
    "    for index, row in final_df.iterrows():\n",
    "        fh.write(\">{}\\n{}\\n\".format(row[\"id\"], row[\"sequence\"]))"
   ]
  },
  {
   "cell_type": "code",
   "execution_count": 74,
   "metadata": {},
   "outputs": [],
   "source": [
    "# Cluster with ./sh/cluster.sh\n",
    "# Reformat cluster file\n",
    "clus_df = pd.read_table(\"output/idp_cluster.tsv\", names=[\"clus_rep\", \"members\"])\n",
    "clus_df = pd.merge(clus_df, final_df[[\"id\", \"template\"]].rename(columns={\"id\":\"members\"}))\n",
    "# Add pfam annot\n",
    "pdf[\"template\"] = pdf.apply(lambda x: x[\"PDB code\"].lower()+\"_\"+x[\"Chain\"]+\"_\"+str(x[\"r1_bond\"])+\"_\"+str(x[\"r_cat\"])+\"_\"+str(x[\"r2_bond\"]), axis=1)\n",
    "clus_df = pd.merge(clus_df, pdf[[\"template\", \"pfamA_acc\"]], how=\"left\", on=\"template\")\n",
    "# Collapse members and pfam annots\n",
    "clus_df = pd.merge(  \n",
    "    pd.merge(clus_df.groupby(\"clus_rep\")[\"members\"].apply(lambda x: ','.join(x)).reset_index(),\n",
    "        clus_df.fillna(\"ND\").rename(columns={\"pfamA_acc\":\"members_template_domains\"}).groupby(\"clus_rep\")[\"members_template_domains\"].apply(lambda x: ','.join(x)).reset_index()),\n",
    "    clus_df[[\"clus_rep\", \"template\", \"pfamA_acc\"]].rename(columns={\"pfamA_acc\":\"template_domain\"}).fillna(\"ND\").drop_duplicates(\"clus_rep\"), how=\"left\")\n",
    "clus_df[\"size\"] = clus_df[\"members\"].apply(lambda x: len(x.split(\",\")))\n",
    "clus_df = clus_df.sort_values(\"size\", ascending=False)\n",
    "clus_df.loc[\"same domain\"] = False\n",
    "# Check if templates come from the same domain at least in 80% of the cases\n",
    "clus_df.loc[clus_df[\"template_domain\"]!=\"ND\", \"same domain\"] = clus_df.loc[clus_df[\"template_domain\"]!=\"ND\"]\\\n",
    "    .apply(lambda x: check_domain_consistency(x), \n",
    "    axis=1)\n",
    "\n",
    "clus_df[[\"clus_rep\", \"template\", \"template_domain\", \"size\", \"same domain\", \"members\"]].fillna(\"ND\").to_csv(\"output/clusters.csv\", index=False)\n"
   ]
  },
  {
   "cell_type": "code",
   "execution_count": 76,
   "metadata": {},
   "outputs": [
    {
     "data": {
      "text/html": [
       "<div>\n",
       "<style scoped>\n",
       "    .dataframe tbody tr th:only-of-type {\n",
       "        vertical-align: middle;\n",
       "    }\n",
       "\n",
       "    .dataframe tbody tr th {\n",
       "        vertical-align: top;\n",
       "    }\n",
       "\n",
       "    .dataframe thead th {\n",
       "        text-align: right;\n",
       "    }\n",
       "</style>\n",
       "<table border=\"1\" class=\"dataframe\">\n",
       "  <thead>\n",
       "    <tr style=\"text-align: right;\">\n",
       "      <th></th>\n",
       "      <th>clus_rep</th>\n",
       "      <th>template</th>\n",
       "      <th>template_domain</th>\n",
       "      <th>size</th>\n",
       "      <th>same domain</th>\n",
       "      <th>members</th>\n",
       "    </tr>\n",
       "  </thead>\n",
       "  <tbody>\n",
       "    <tr>\n",
       "      <th>3821</th>\n",
       "      <td>R9MJJ6_299_464</td>\n",
       "      <td>3uxf_A_363_452_487</td>\n",
       "      <td>PF17802</td>\n",
       "      <td>298</td>\n",
       "      <td>True</td>\n",
       "      <td>R9MJJ6_299_464,A0A3E5G7A7_368_521,A0A414S1G5_3...</td>\n",
       "    </tr>\n",
       "    <tr>\n",
       "      <th>318</th>\n",
       "      <td>A0A133Z609_522_647</td>\n",
       "      <td>6m3y_A_604_658_729</td>\n",
       "      <td>ND</td>\n",
       "      <td>220</td>\n",
       "      <td>NaN</td>\n",
       "      <td>A0A133Z609_522_647,A0A133XTH0_27_151,A0A173U6M...</td>\n",
       "    </tr>\n",
       "    <tr>\n",
       "      <th>1458</th>\n",
       "      <td>A0A352DMJ3_29_183</td>\n",
       "      <td>2wza_A_1082_1132_1232</td>\n",
       "      <td>PF17998</td>\n",
       "      <td>192</td>\n",
       "      <td>True</td>\n",
       "      <td>A0A352DMJ3_29_183,A0A3E2TH90_29_180,A0A3E2XNV8...</td>\n",
       "    </tr>\n",
       "    <tr>\n",
       "      <th>1383</th>\n",
       "      <td>A0A2X3H4H2_352_488</td>\n",
       "      <td>3qe5_A_1006_1050_1121</td>\n",
       "      <td>ND</td>\n",
       "      <td>172</td>\n",
       "      <td>NaN</td>\n",
       "      <td>A0A2X3H4H2_352_488,A0A378MFR7_355_491,A0A841ZQ...</td>\n",
       "    </tr>\n",
       "    <tr>\n",
       "      <th>3388</th>\n",
       "      <td>A0A833D9R1_533_673</td>\n",
       "      <td>2f68_X_176_209_293</td>\n",
       "      <td>PF05737</td>\n",
       "      <td>157</td>\n",
       "      <td>False</td>\n",
       "      <td>A0A833D9R1_533_673,A0A2W4PDR4_193_324,A0A2S5M5...</td>\n",
       "    </tr>\n",
       "    <tr>\n",
       "      <th>...</th>\n",
       "      <td>...</td>\n",
       "      <td>...</td>\n",
       "      <td>...</td>\n",
       "      <td>...</td>\n",
       "      <td>...</td>\n",
       "      <td>...</td>\n",
       "    </tr>\n",
       "    <tr>\n",
       "      <th>481</th>\n",
       "      <td>A0A1F5NA19_165_257</td>\n",
       "      <td>8f70_A_299_386_437</td>\n",
       "      <td>ND</td>\n",
       "      <td>1</td>\n",
       "      <td>NaN</td>\n",
       "      <td>A0A1F5NA19_165_257</td>\n",
       "    </tr>\n",
       "    <tr>\n",
       "      <th>483</th>\n",
       "      <td>A0A1F5NPL9_198_353</td>\n",
       "      <td>2wza_A_1082_1132_1232</td>\n",
       "      <td>PF17998</td>\n",
       "      <td>1</td>\n",
       "      <td>True</td>\n",
       "      <td>A0A1F5NPL9_198_353</td>\n",
       "    </tr>\n",
       "    <tr>\n",
       "      <th>484</th>\n",
       "      <td>A0A1F5PLB7_879_1032</td>\n",
       "      <td>3opu_A_1157_1207_1307</td>\n",
       "      <td>PF17998</td>\n",
       "      <td>1</td>\n",
       "      <td>True</td>\n",
       "      <td>A0A1F5PLB7_879_1032</td>\n",
       "    </tr>\n",
       "    <tr>\n",
       "      <th>2188</th>\n",
       "      <td>A0A4R0DPB1_796_85</td>\n",
       "      <td>3qe5_A_1006_1050_1121</td>\n",
       "      <td>ND</td>\n",
       "      <td>1</td>\n",
       "      <td>NaN</td>\n",
       "      <td>A0A4R0DPB1_796_85</td>\n",
       "    </tr>\n",
       "    <tr>\n",
       "      <th>same domain</th>\n",
       "      <td>False</td>\n",
       "      <td>False</td>\n",
       "      <td>False</td>\n",
       "      <td>0</td>\n",
       "      <td>False</td>\n",
       "      <td>False</td>\n",
       "    </tr>\n",
       "  </tbody>\n",
       "</table>\n",
       "<p>3913 rows × 6 columns</p>\n",
       "</div>"
      ],
      "text/plain": [
       "                        clus_rep               template template_domain  size  \\\n",
       "3821              R9MJJ6_299_464     3uxf_A_363_452_487         PF17802   298   \n",
       "318           A0A133Z609_522_647     6m3y_A_604_658_729              ND   220   \n",
       "1458           A0A352DMJ3_29_183  2wza_A_1082_1132_1232         PF17998   192   \n",
       "1383          A0A2X3H4H2_352_488  3qe5_A_1006_1050_1121              ND   172   \n",
       "3388          A0A833D9R1_533_673     2f68_X_176_209_293         PF05737   157   \n",
       "...                          ...                    ...             ...   ...   \n",
       "481           A0A1F5NA19_165_257     8f70_A_299_386_437              ND     1   \n",
       "483           A0A1F5NPL9_198_353  2wza_A_1082_1132_1232         PF17998     1   \n",
       "484          A0A1F5PLB7_879_1032  3opu_A_1157_1207_1307         PF17998     1   \n",
       "2188           A0A4R0DPB1_796_85  3qe5_A_1006_1050_1121              ND     1   \n",
       "same domain                False                  False           False     0   \n",
       "\n",
       "            same domain                                            members  \n",
       "3821               True  R9MJJ6_299_464,A0A3E5G7A7_368_521,A0A414S1G5_3...  \n",
       "318                 NaN  A0A133Z609_522_647,A0A133XTH0_27_151,A0A173U6M...  \n",
       "1458               True  A0A352DMJ3_29_183,A0A3E2TH90_29_180,A0A3E2XNV8...  \n",
       "1383                NaN  A0A2X3H4H2_352_488,A0A378MFR7_355_491,A0A841ZQ...  \n",
       "3388              False  A0A833D9R1_533_673,A0A2W4PDR4_193_324,A0A2S5M5...  \n",
       "...                 ...                                                ...  \n",
       "481                 NaN                                 A0A1F5NA19_165_257  \n",
       "483                True                                 A0A1F5NPL9_198_353  \n",
       "484                True                                A0A1F5PLB7_879_1032  \n",
       "2188                NaN                                  A0A4R0DPB1_796_85  \n",
       "same domain       False                                              False  \n",
       "\n",
       "[3913 rows x 6 columns]"
      ]
     },
     "execution_count": 76,
     "metadata": {},
     "output_type": "execute_result"
    }
   ],
   "source": [
    "clus_df[[\"clus_rep\", \"template\", \"template_domain\", \"size\", \"same domain\", \"members\"]]"
   ]
  },
  {
   "cell_type": "code",
   "execution_count": 69,
   "metadata": {},
   "outputs": [],
   "source": [
    "def check_domain_consistency(x):\n",
    "    flag = False\n",
    "    num_common_domains = len([i for i in str(x[\"members_template_domains\"]).split(\",\") if i==x[\"template_domain\"]])\n",
    "    if num_common_domains > 0:\n",
    "        fraction = num_common_domains / x[\"size\"]\n",
    "        if fraction > 0.8:\n",
    "            flag = True\n",
    "    return flag"
   ]
  },
  {
   "cell_type": "code",
   "execution_count": 14,
   "metadata": {},
   "outputs": [],
   "source": [
    "\n",
    "\n",
    "clus_df = pd.merge(clus_df, final_df[[\"id\", \"template\"]].rename(columns={\"id\":\"clus_rep\"})).sort_values(\"size\", ascending=False)\\\n",
    "        [[\"clus_rep\", \"template\", \"size\", \"members\"]]\n",
    "clus_df.to_csv(\"output/clusters.csv\", index=False)"
   ]
  },
  {
   "cell_type": "code",
   "execution_count": null,
   "metadata": {},
   "outputs": [],
   "source": []
  },
  {
   "cell_type": "markdown",
   "metadata": {},
   "source": [
    "## Find missing isopep bond (those not annotated in Pfam but also not detected by method above)"
   ]
  },
  {
   "cell_type": "code",
   "execution_count": null,
   "metadata": {},
   "outputs": [],
   "source": [
    "# Why all the other unmapped sequences are not here? Shorter than 80 aa?\n",
    "# Where have they gone?\n",
    "# They belonged to sequences with only one or none Pfam annotation"
   ]
  },
  {
   "cell_type": "markdown",
   "metadata": {},
   "source": [
    "## How to set domain boundaries?"
   ]
  },
  {
   "cell_type": "code",
   "execution_count": 10,
   "metadata": {},
   "outputs": [],
   "source": [
    "test_df = df[(df[\"probability\"]>.65)&(~df[\"pfamA_acc\"].isna())].copy()\n",
    "test_df[\"right_len\"] = test_df[\"seq_end\"] - test_df[\"r2_bond\"]\n",
    "test_df[\"left_len\"] = test_df[\"r1_bond\"] - test_df[\"seq_start\"]"
   ]
  },
  {
   "cell_type": "code",
   "execution_count": 28,
   "metadata": {},
   "outputs": [
    {
     "data": {
      "text/plain": [
       "(0.0, 4000.0)"
      ]
     },
     "execution_count": 28,
     "metadata": {},
     "output_type": "execute_result"
    },
    {
     "data": {
      "image/png": "[encoded data removed]",
      "text/plain": [
       "<Figure size 640x480 with 1 Axes>"
      ]
     },
     "metadata": {},
     "output_type": "display_data"
    }
   ],
   "source": [
    "sns.histplot(test_df, x=\"left_len\", hue=\"bond_type\", bins=400)\n",
    "plt.xlim([-100, 100])\n",
    "plt.ylim([0,4000])"
   ]
  },
  {
   "cell_type": "code",
   "execution_count": 36,
   "metadata": {},
   "outputs": [
    {
     "data": {
      "text/plain": [
       "count    17698.000000\n",
       "mean         5.087015\n",
       "std          8.326046\n",
       "min          1.000000\n",
       "25%          4.000000\n",
       "50%          5.000000\n",
       "75%          5.000000\n",
       "max        785.000000\n",
       "Name: left_len, dtype: float64"
      ]
     },
     "execution_count": 36,
     "metadata": {},
     "output_type": "execute_result"
    }
   ],
   "source": [
    "test_df[(test_df[\"left_len\"]>0)&(test_df[\"bond_type\"]==\"CnaA-like\")][\"left_len\"].describe()"
   ]
  },
  {
   "cell_type": "code",
   "execution_count": 29,
   "metadata": {},
   "outputs": [
    {
     "data": {
      "text/plain": [
       "(-100.0, 100.0)"
      ]
     },
     "execution_count": 29,
     "metadata": {},
     "output_type": "execute_result"
    },
    {
     "data": {
      "image/png": "[encoded data removed]",
      "text/plain": [
       "<Figure size 640x480 with 1 Axes>"
      ]
     },
     "metadata": {},
     "output_type": "display_data"
    }
   ],
   "source": [
    "sns.histplot(test_df, x=\"right_len\", hue=\"bond_type\", bins=400)\n",
    "plt.xlim([-100, 100])"
   ]
  },
  {
   "cell_type": "code",
   "execution_count": 39,
   "metadata": {},
   "outputs": [
    {
     "data": {
      "text/plain": [
       "count    20397.000000\n",
       "mean         3.883218\n",
       "std         13.201357\n",
       "min          1.000000\n",
       "25%          1.000000\n",
       "50%          2.000000\n",
       "75%          2.000000\n",
       "max        350.000000\n",
       "Name: right_len, dtype: float64"
      ]
     },
     "execution_count": 39,
     "metadata": {},
     "output_type": "execute_result"
    }
   ],
   "source": [
    "test_df[(test_df[\"right_len\"]>0)&(test_df[\"bond_type\"]==\"CnaB-like\")][\"right_len\"].describe()"
   ]
  },
  {
   "cell_type": "code",
   "execution_count": 33,
   "metadata": {},
   "outputs": [
    {
     "data": {
      "text/html": [
       "<div>\n",
       "<style scoped>\n",
       "    .dataframe tbody tr th:only-of-type {\n",
       "        vertical-align: middle;\n",
       "    }\n",
       "\n",
       "    .dataframe tbody tr th {\n",
       "        vertical-align: top;\n",
       "    }\n",
       "\n",
       "    .dataframe thead th {\n",
       "        text-align: right;\n",
       "    }\n",
       "</style>\n",
       "<table border=\"1\" class=\"dataframe\">\n",
       "  <thead>\n",
       "    <tr style=\"text-align: right;\">\n",
       "      <th></th>\n",
       "      <th>uniprot_acc</th>\n",
       "      <th>r1_bond</th>\n",
       "      <th>r2_bond</th>\n",
       "      <th>seq_start</th>\n",
       "      <th>seq_end</th>\n",
       "      <th>right_len</th>\n",
       "      <th>left_len</th>\n",
       "      <th>bond_type</th>\n",
       "    </tr>\n",
       "  </thead>\n",
       "  <tbody>\n",
       "    <tr>\n",
       "      <th>9</th>\n",
       "      <td>A0A1I1J4A2</td>\n",
       "      <td>342</td>\n",
       "      <td>459</td>\n",
       "      <td>337.0</td>\n",
       "      <td>456.0</td>\n",
       "      <td>-3.0</td>\n",
       "      <td>5.0</td>\n",
       "      <td>CnaB-like</td>\n",
       "    </tr>\n",
       "    <tr>\n",
       "      <th>17</th>\n",
       "      <td>A0A6N2TYG7</td>\n",
       "      <td>182</td>\n",
       "      <td>271</td>\n",
       "      <td>176.0</td>\n",
       "      <td>263.0</td>\n",
       "      <td>-8.0</td>\n",
       "      <td>6.0</td>\n",
       "      <td>CnaB-like</td>\n",
       "    </tr>\n",
       "    <tr>\n",
       "      <th>21</th>\n",
       "      <td>A0A6N2U3N0</td>\n",
       "      <td>41</td>\n",
       "      <td>130</td>\n",
       "      <td>35.0</td>\n",
       "      <td>123.0</td>\n",
       "      <td>-7.0</td>\n",
       "      <td>6.0</td>\n",
       "      <td>CnaB-like</td>\n",
       "    </tr>\n",
       "    <tr>\n",
       "      <th>38</th>\n",
       "      <td>A0A1I1XIM8</td>\n",
       "      <td>335</td>\n",
       "      <td>451</td>\n",
       "      <td>329.0</td>\n",
       "      <td>424.0</td>\n",
       "      <td>-27.0</td>\n",
       "      <td>6.0</td>\n",
       "      <td>CnaB-like</td>\n",
       "    </tr>\n",
       "    <tr>\n",
       "      <th>73</th>\n",
       "      <td>A0A6N2U1J3</td>\n",
       "      <td>674</td>\n",
       "      <td>795</td>\n",
       "      <td>668.0</td>\n",
       "      <td>750.0</td>\n",
       "      <td>-45.0</td>\n",
       "      <td>6.0</td>\n",
       "      <td>CnaB-like</td>\n",
       "    </tr>\n",
       "    <tr>\n",
       "      <th>...</th>\n",
       "      <td>...</td>\n",
       "      <td>...</td>\n",
       "      <td>...</td>\n",
       "      <td>...</td>\n",
       "      <td>...</td>\n",
       "      <td>...</td>\n",
       "      <td>...</td>\n",
       "      <td>...</td>\n",
       "    </tr>\n",
       "    <tr>\n",
       "      <th>623391</th>\n",
       "      <td>C2KZK5</td>\n",
       "      <td>232</td>\n",
       "      <td>372</td>\n",
       "      <td>226.0</td>\n",
       "      <td>349.0</td>\n",
       "      <td>-23.0</td>\n",
       "      <td>6.0</td>\n",
       "      <td>CnaB-like</td>\n",
       "    </tr>\n",
       "    <tr>\n",
       "      <th>626790</th>\n",
       "      <td>A0A385PZM4</td>\n",
       "      <td>242</td>\n",
       "      <td>375</td>\n",
       "      <td>236.0</td>\n",
       "      <td>371.0</td>\n",
       "      <td>-4.0</td>\n",
       "      <td>6.0</td>\n",
       "      <td>CnaB-like</td>\n",
       "    </tr>\n",
       "    <tr>\n",
       "      <th>631035</th>\n",
       "      <td>R6R6B3</td>\n",
       "      <td>667</td>\n",
       "      <td>790</td>\n",
       "      <td>661.0</td>\n",
       "      <td>761.0</td>\n",
       "      <td>-29.0</td>\n",
       "      <td>6.0</td>\n",
       "      <td>CnaB-like</td>\n",
       "    </tr>\n",
       "    <tr>\n",
       "      <th>631097</th>\n",
       "      <td>R5G2N0</td>\n",
       "      <td>1102</td>\n",
       "      <td>1227</td>\n",
       "      <td>1096.0</td>\n",
       "      <td>1217.0</td>\n",
       "      <td>-10.0</td>\n",
       "      <td>6.0</td>\n",
       "      <td>CnaB-like</td>\n",
       "    </tr>\n",
       "    <tr>\n",
       "      <th>633026</th>\n",
       "      <td>A0A3M9L692</td>\n",
       "      <td>272</td>\n",
       "      <td>347</td>\n",
       "      <td>265.0</td>\n",
       "      <td>346.0</td>\n",
       "      <td>-1.0</td>\n",
       "      <td>7.0</td>\n",
       "      <td>CnaA-like</td>\n",
       "    </tr>\n",
       "  </tbody>\n",
       "</table>\n",
       "<p>8863 rows × 8 columns</p>\n",
       "</div>"
      ],
      "text/plain": [
       "       uniprot_acc  r1_bond  r2_bond  seq_start  seq_end  right_len  left_len  \\\n",
       "9       A0A1I1J4A2      342      459      337.0    456.0       -3.0       5.0   \n",
       "17      A0A6N2TYG7      182      271      176.0    263.0       -8.0       6.0   \n",
       "21      A0A6N2U3N0       41      130       35.0    123.0       -7.0       6.0   \n",
       "38      A0A1I1XIM8      335      451      329.0    424.0      -27.0       6.0   \n",
       "73      A0A6N2U1J3      674      795      668.0    750.0      -45.0       6.0   \n",
       "...            ...      ...      ...        ...      ...        ...       ...   \n",
       "623391      C2KZK5      232      372      226.0    349.0      -23.0       6.0   \n",
       "626790  A0A385PZM4      242      375      236.0    371.0       -4.0       6.0   \n",
       "631035      R6R6B3      667      790      661.0    761.0      -29.0       6.0   \n",
       "631097      R5G2N0     1102     1227     1096.0   1217.0      -10.0       6.0   \n",
       "633026  A0A3M9L692      272      347      265.0    346.0       -1.0       7.0   \n",
       "\n",
       "        bond_type  \n",
       "9       CnaB-like  \n",
       "17      CnaB-like  \n",
       "21      CnaB-like  \n",
       "38      CnaB-like  \n",
       "73      CnaB-like  \n",
       "...           ...  \n",
       "623391  CnaB-like  \n",
       "626790  CnaB-like  \n",
       "631035  CnaB-like  \n",
       "631097  CnaB-like  \n",
       "633026  CnaA-like  \n",
       "\n",
       "[8863 rows x 8 columns]"
      ]
     },
     "execution_count": 33,
     "metadata": {},
     "output_type": "execute_result"
    }
   ],
   "source": [
    "test_df[test_df[\"right_len\"]< 0][[\"uniprot_acc\", \"r1_bond\", \"r2_bond\", \"seq_start\", \"seq_end\", \"right_len\", \"left_len\", \"bond_type\"]]"
   ]
  },
  {
   "cell_type": "code",
   "execution_count": null,
   "metadata": {},
   "outputs": [],
   "source": [
    "boundaries = {\n",
    "    \"CnaB-like\": {\n",
    "        \"left\": 10,\n",
    "        \"right\": 5\n",
    "    },\n",
    "    \"CnaA-like\": {\n",
    "        \"left\": 5,\n",
    "        \"right\": 30\n",
    "    }\n",
    "}"
   ]
  }
 ],
 "metadata": {
  "kernelspec": {
   "display_name": "isopeptide",
   "language": "python",
   "name": "python3"
  },
  "language_info": {
   "codemirror_mode": {
    "name": "ipython",
    "version": 3
   },
   "file_extension": ".py",
   "mimetype": "text/x-python",
   "name": "python",
   "nbconvert_exporter": "python",
   "pygments_lexer": "ipython3",
   "version": "3.12.2"
  }
 },
 "nbformat": 4,
 "nbformat_minor": 2
}
