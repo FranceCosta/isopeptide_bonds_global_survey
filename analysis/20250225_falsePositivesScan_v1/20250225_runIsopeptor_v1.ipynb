{
 "cells": [
  {
   "cell_type": "code",
   "execution_count": 1,
   "metadata": {},
   "outputs": [],
   "source": [
    "from isopeptor.isopeptide import Isopeptide"
   ]
  },
  {
   "cell_type": "code",
   "execution_count": 11,
   "metadata": {},
   "outputs": [
    {
     "name": "stdout",
     "output_type": "stream",
     "text": [
      "protein_name        \tprobability\tchain\tr1_bond\tr_cat\tr2_bond\tr1_bond_name\tr_cat_name\tr2_bond_name\tbond_type\trmsd \tr_asa\ttemplate          \n",
      "3CRW_chain_1_385-546\t0.0        \t1    \t490    \t494  \t492    \tLYS         \tGLU       \tASN         \tCnaB-like\t1.559\t0.544\t2x9z_A_349_405_428\n"
     ]
    }
   ],
   "source": [
    "i = Isopeptide(\"output/Helicase_C_2\", distance=3)\n",
    "i.predict()\n",
    "i.print_tabular()"
   ]
  },
  {
   "cell_type": "code",
   "execution_count": 12,
   "metadata": {},
   "outputs": [
    {
     "name": "stdout",
     "output_type": "stream",
     "text": [
      "protein_name          \tprobability\tchain\tr1_bond\tr_cat\tr2_bond\tr1_bond_name\tr_cat_name\tr2_bond_name\tbond_type\trmsd \tr_asa\ttemplate          \n",
      "4E9Y_chain_C_3145-3265\t0.032      \tC    \t3215   \t3235 \t3216   \tLYS         \tGLU       \tASP         \tCnaB-like\t1.082\t0.1  \t3uxf_A_363_452_487\n",
      "4E9X_chain_B_2145-2265\t0.029      \tB    \t2215   \t2235 \t2216   \tLYS         \tGLU       \tASP         \tCnaB-like\t1.094\t0.1  \t3uxf_A_363_452_487\n",
      "4E9V_chain_B_2145-2265\t0.029      \tB    \t2215   \t2235 \t2216   \tLYS         \tGLU       \tASP         \tCnaB-like\t1.092\t0.1  \t3uxf_A_363_452_487\n",
      "4E9X_chain_C_3145-3265\t0.028      \tC    \t3215   \t3235 \t3216   \tLYS         \tGLU       \tASP         \tCnaB-like\t1.097\t0.1  \t3uxf_A_363_452_487\n",
      "4E9W_chain_C_3145-3265\t0.028      \tC    \t3215   \t3235 \t3216   \tLYS         \tGLU       \tASP         \tCnaB-like\t1.101\t0.1  \t3uxf_A_363_452_487\n",
      "4E9W_chain_B_2145-2265\t0.028      \tB    \t2215   \t2235 \t2216   \tLYS         \tGLU       \tASP         \tCnaB-like\t1.097\t0.1  \t3uxf_A_363_452_487\n",
      "4E9Y_chain_B_2145-2265\t0.027      \tB    \t2215   \t2235 \t2216   \tLYS         \tGLU       \tASP         \tCnaB-like\t1.102\t0.1  \t3uxf_A_363_452_487\n",
      "4E9Y_chain_A_1145-1265\t0.027      \tA    \t1215   \t1235 \t1216   \tLYS         \tGLU       \tASP         \tCnaB-like\t1.104\t0.1  \t3uxf_A_363_452_487\n",
      "2ZWN_chain_C_145-265  \t0.027      \tC    \t215    \t235  \t216    \tLYS         \tGLU       \tASP         \tCnaB-like\t1.103\t0.1  \t3uxf_A_363_452_487\n",
      "4E9X_chain_A_1145-1265\t0.026      \tA    \t1215   \t1235 \t1216   \tLYS         \tGLU       \tASP         \tCnaB-like\t1.112\t0.1  \t3uxf_A_363_452_487\n",
      "4E9W_chain_A_1145-1265\t0.026      \tA    \t1215   \t1235 \t1216   \tLYS         \tGLU       \tASP         \tCnaB-like\t1.107\t0.1  \t3uxf_A_363_452_487\n",
      "4E9V_chain_C_3145-3265\t0.026      \tC    \t3215   \t3235 \t3216   \tLYS         \tGLU       \tASP         \tCnaB-like\t1.108\t0.1  \t3uxf_A_363_452_487\n",
      "2ZWN_chain_B_145-265  \t0.026      \tB    \t215    \t235  \t216    \tLYS         \tGLU       \tASP         \tCnaB-like\t1.111\t0.1  \t3uxf_A_363_452_487\n",
      "2ZWN_chain_A_145-265  \t0.025      \tA    \t215    \t235  \t216    \tLYS         \tGLU       \tASP         \tCnaB-like\t1.117\t0.1  \t3uxf_A_363_452_487\n",
      "4E9V_chain_A_1145-1265\t0.024      \tA    \t1215   \t1235 \t1216   \tLYS         \tGLU       \tASP         \tCnaB-like\t1.12 \t0.1  \t3uxf_A_363_452_487\n",
      "5B7F_chain_A_379-516  \t0.008      \tA    \t474    \t476  \t458    \tLYS         \tGLU       \tASN         \tCnaB-like\t1.277\t0.1  \t2x9x_A_349_405_428\n",
      "4EF3_chain_A_379-516  \t0.008      \tA    \t474    \t476  \t458    \tLYS         \tGLU       \tASN         \tCnaB-like\t1.278\t0.1  \t2x9x_A_349_405_428\n",
      "3G5W_chain_B_192-305  \t0.007      \tB    \t257    \t277  \t258    \tLYS         \tGLU       \tASP         \tCnaB-like\t1.29 \t0.1  \t3uxf_A_363_452_487\n",
      "4ZK8_chain_A_184-311  \t0.006      \tA    \t301    \t239  \t297    \tLYS         \tGLU       \tASN         \tCnaB-like\t1.316\t0.1  \t2xtl_A_463_589_636\n",
      "4NER_chain_A_379-516  \t0.006      \tA    \t474    \t476  \t458    \tLYS         \tGLU       \tASN         \tCnaB-like\t1.303\t0.1  \t2x9x_A_349_405_428\n",
      "4HAK_chain_A_379-516  \t0.006      \tA    \t474    \t476  \t458    \tLYS         \tGLU       \tASN         \tCnaB-like\t1.309\t0.1  \t2x9x_A_349_405_428\n",
      "4E9S_chain_A_379-516  \t0.006      \tA    \t474    \t476  \t458    \tLYS         \tGLU       \tASN         \tCnaB-like\t1.311\t0.1  \t2x9x_A_349_405_428\n",
      "3NSD_chain_A_404-516  \t0.006      \tA    \t474    \t476  \t458    \tLYS         \tGLU       \tASN         \tCnaB-like\t1.307\t0.1  \t2x9x_A_349_405_428\n",
      "3NSC_chain_A_379-516  \t0.006      \tA    \t474    \t476  \t458    \tLYS         \tGLU       \tASN         \tCnaB-like\t1.307\t0.1  \t2x9x_A_349_405_428\n",
      "3G5W_chain_F_192-305  \t0.006      \tF    \t257    \t277  \t258    \tLYS         \tGLU       \tASP         \tCnaB-like\t1.298\t0.1  \t3uxf_A_363_452_487\n",
      "3G5W_chain_E_192-305  \t0.006      \tE    \t257    \t277  \t258    \tLYS         \tGLU       \tASP         \tCnaB-like\t1.304\t0.1  \t3uxf_A_363_452_487\n",
      "3G5W_chain_D_192-305  \t0.006      \tD    \t257    \t277  \t258    \tLYS         \tGLU       \tASP         \tCnaB-like\t1.302\t0.1  \t3uxf_A_363_452_487\n",
      "3G5W_chain_C_192-305  \t0.006      \tC    \t257    \t277  \t258    \tLYS         \tGLU       \tASP         \tCnaB-like\t1.304\t0.1  \t3uxf_A_363_452_487\n",
      "3G5W_chain_A_192-305  \t0.006      \tA    \t257    \t277  \t258    \tLYS         \tGLU       \tASP         \tCnaB-like\t1.305\t0.1  \t3uxf_A_363_452_487\n",
      "7F0V_chain_B_379-516  \t0.005      \tB    \t474    \t476  \t458    \tLYS         \tGLU       \tASN         \tCnaB-like\t1.323\t0.1  \t2x9x_A_349_405_428\n",
      "6IM8_chain_A_379-516  \t0.005      \tA    \t474    \t476  \t458    \tLYS         \tGLU       \tASN         \tCnaB-like\t1.342\t0.1  \t2x9x_A_349_405_428\n",
      "6IM7_chain_A_403-516  \t0.005      \tA    \t474    \t476  \t458    \tLYS         \tGLU       \tASN         \tCnaB-like\t1.33 \t0.1  \t2x9x_A_349_405_428\n",
      "5YS5_chain_A_399-516  \t0.005      \tA    \t474    \t476  \t458    \tLYS         \tGLU       \tASN         \tCnaB-like\t1.346\t0.1  \t2x9x_A_349_405_428\n",
      "5B7M_chain_C_379-516  \t0.005      \tC    \t474    \t476  \t458    \tLYS         \tGLU       \tASN         \tCnaB-like\t1.33 \t0.1  \t2y1v_A_41_143_184 \n",
      "4HAL_chain_A_379-516  \t0.005      \tA    \t474    \t476  \t458    \tLYS         \tGLU       \tASN         \tCnaB-like\t1.332\t0.1  \t2x9x_A_349_405_428\n",
      "4E9T_chain_A_379-516  \t0.005      \tA    \t474    \t476  \t458    \tLYS         \tGLU       \tASN         \tCnaB-like\t1.324\t0.1  \t2x9x_A_349_405_428\n",
      "3UAE_chain_A_379-516  \t0.005      \tA    \t474    \t476  \t458    \tLYS         \tGLU       \tASN         \tCnaB-like\t1.333\t0.1  \t2x9x_A_349_405_428\n",
      "3UAD_chain_A_379-516  \t0.005      \tA    \t474    \t476  \t458    \tLYS         \tGLU       \tASN         \tCnaB-like\t1.346\t0.1  \t2x9x_A_349_405_428\n",
      "3UAC_chain_A_379-516  \t0.005      \tA    \t474    \t476  \t458    \tLYS         \tGLU       \tASN         \tCnaB-like\t1.337\t0.1  \t2x9x_A_349_405_428\n",
      "3UAB_chain_A_379-516  \t0.005      \tA    \t474    \t476  \t458    \tLYS         \tGLU       \tASN         \tCnaB-like\t1.338\t0.1  \t2x9x_A_349_405_428\n",
      "3UAA_chain_A_379-516  \t0.005      \tA    \t474    \t476  \t458    \tLYS         \tGLU       \tASN         \tCnaB-like\t1.329\t0.1  \t2x9x_A_349_405_428\n",
      "3OD3_chain_A_379-516  \t0.005      \tA    \t474    \t476  \t458    \tLYS         \tGLU       \tASN         \tCnaB-like\t1.347\t0.1  \t2x9x_A_349_405_428\n",
      "3NSY_chain_A_379-516  \t0.005      \tA    \t474    \t476  \t458    \tLYS         \tGLU       \tASN         \tCnaB-like\t1.322\t0.1  \t2x9x_A_349_405_428\n",
      "3NSF_chain_A_379-516  \t0.005      \tA    \t474    \t476  \t458    \tLYS         \tGLU       \tASN         \tCnaB-like\t1.347\t0.1  \t2x9x_A_349_405_428\n",
      "7F0V_chain_A_379-516  \t0.004      \tA    \t474    \t476  \t458    \tLYS         \tGLU       \tASN         \tCnaB-like\t1.355\t0.1  \t2x9x_A_349_405_428\n",
      "3QQX_chain_A_379-516  \t0.004      \tA    \t474    \t476  \t458    \tLYS         \tGLU       \tASN         \tCnaB-like\t1.351\t0.1  \t2x9x_A_349_405_428\n",
      "3PAV_chain_A_379-516  \t0.004      \tA    \t474    \t476  \t458    \tLYS         \tGLU       \tASN         \tCnaB-like\t1.363\t0.1  \t2x9x_A_349_405_428\n",
      "3PAU_chain_A_402-516  \t0.004      \tA    \t474    \t476  \t458    \tLYS         \tGLU       \tASN         \tCnaB-like\t1.348\t0.1  \t2x9x_A_349_405_428\n",
      "3NT0_chain_A_403-516  \t0.004      \tA    \t474    \t476  \t458    \tLYS         \tGLU       \tASN         \tCnaB-like\t1.367\t0.1  \t2x9x_A_349_405_428\n",
      "2YXV_chain_B_406-516  \t0.004      \tB    \t474    \t476  \t458    \tLYS         \tGLU       \tASN         \tCnaB-like\t1.364\t0.1  \t2y1v_A_41_143_184 \n",
      "2YXV_chain_A_406-516  \t0.004      \tA    \t474    \t476  \t458    \tLYS         \tGLU       \tASN         \tCnaB-like\t1.376\t0.1  \t2y1v_A_41_143_184 \n",
      "2FQE_chain_A_379-516  \t0.004      \tA    \t474    \t476  \t458    \tLYS         \tGLU       \tASN         \tCnaB-like\t1.373\t0.1  \t2x9x_A_349_405_428\n",
      "2FQD_chain_A_402-516  \t0.004      \tA    \t474    \t476  \t458    \tLYS         \tGLU       \tASN         \tCnaB-like\t1.368\t0.1  \t2x9x_A_349_405_428\n",
      "1KV7_chain_A_379-516  \t0.004      \tA    \t474    \t476  \t458    \tLYS         \tGLU       \tASN         \tCnaB-like\t1.361\t0.1  \t2x9x_A_349_405_428\n",
      "7F19_chain_A_403-516  \t0.003      \tA    \t474    \t476  \t458    \tLYS         \tGLU       \tASN         \tCnaB-like\t1.425\t0.1  \t2y1v_A_41_143_184 \n",
      "6IM9_chain_A_379-516  \t0.003      \tA    \t474    \t476  \t458    \tLYS         \tGLU       \tASN         \tCnaB-like\t1.4  \t0.1  \t2y1v_A_41_143_184 \n",
      "5B7M_chain_B_379-516  \t0.003      \tB    \t474    \t476  \t458    \tLYS         \tGLU       \tASN         \tCnaB-like\t1.418\t0.1  \t2y1v_A_41_143_184 \n",
      "5B7M_chain_A_379-516  \t0.003      \tA    \t474    \t476  \t458    \tLYS         \tGLU       \tASN         \tCnaB-like\t1.423\t0.1  \t2y1v_A_41_143_184 \n",
      "5B7E_chain_A_403-516  \t0.003      \tA    \t474    \t476  \t458    \tLYS         \tGLU       \tASN         \tCnaB-like\t1.42 \t0.1  \t2y1v_A_41_143_184 \n",
      "4E9R_chain_A_379-516  \t0.003      \tA    \t474    \t476  \t458    \tLYS         \tGLU       \tASN         \tCnaB-like\t1.395\t0.1  \t2y1v_A_41_143_184 \n",
      "4E9Q_chain_A_379-516  \t0.003      \tA    \t474    \t476  \t458    \tLYS         \tGLU       \tASN         \tCnaB-like\t1.398\t0.1  \t2y1v_A_41_143_184 \n",
      "2YXW_chain_A_406-516  \t0.003      \tA    \t474    \t476  \t458    \tLYS         \tGLU       \tASN         \tCnaB-like\t1.382\t0.1  \t2y1v_A_41_143_184 \n",
      "2FQG_chain_A_379-516  \t0.003      \tA    \t474    \t476  \t458    \tLYS         \tGLU       \tASN         \tCnaB-like\t1.406\t0.1  \t2x9x_A_349_405_428\n",
      "2FQF_chain_A_379-516  \t0.003      \tA    \t474    \t476  \t458    \tLYS         \tGLU       \tASN         \tCnaB-like\t1.42 \t0.1  \t2y1v_A_349_405_428\n",
      "1N68_chain_A_379-516  \t0.003      \tA    \t474    \t476  \t458    \tLYS         \tGLU       \tASN         \tCnaB-like\t1.422\t0.1  \t2y1v_A_41_143_184 \n",
      "6L46_chain_A_184-313  \t0.002      \tA    \t301    \t239  \t297    \tLYS         \tGLU       \tASN         \tCnaB-like\t1.478\t0.1  \t2xtl_A_463_589_636\n",
      "4YSU_chain_A_184-312  \t0.002      \tA    \t301    \t239  \t297    \tLYS         \tGLU       \tASN         \tCnaB-like\t1.467\t0.1  \t2xtl_A_463_589_636\n",
      "4YST_chain_A_184-311  \t0.002      \tA    \t301    \t239  \t297    \tLYS         \tGLU       \tASN         \tCnaB-like\t1.477\t0.1  \t2xtl_A_463_589_636\n",
      "4YSS_chain_A_184-312  \t0.002      \tA    \t301    \t239  \t297    \tLYS         \tGLU       \tASN         \tCnaB-like\t1.487\t0.1  \t2xtl_A_463_589_636\n",
      "4YSR_chain_A_184-312  \t0.002      \tA    \t301    \t239  \t297    \tLYS         \tGLU       \tASN         \tCnaB-like\t1.465\t0.1  \t2xtl_A_463_589_636\n",
      "4YSQ_chain_A_184-312  \t0.002      \tA    \t301    \t239  \t297    \tLYS         \tGLU       \tASN         \tCnaB-like\t1.484\t0.1  \t2xtl_A_463_589_636\n",
      "4YSP_chain_A_184-312  \t0.002      \tA    \t301    \t239  \t297    \tLYS         \tGLU       \tASN         \tCnaB-like\t1.471\t0.1  \t2xtl_A_463_589_636\n",
      "3X1F_chain_A_184-313  \t0.002      \tA    \t301    \t239  \t297    \tLYS         \tGLU       \tASN         \tCnaB-like\t1.464\t0.1  \t2xtl_A_463_589_636\n",
      "3X1E_chain_A_184-312  \t0.002      \tA    \t301    \t239  \t297    \tLYS         \tGLU       \tASN         \tCnaB-like\t1.466\t0.1  \t2xtl_A_463_589_636\n",
      "3WNJ_chain_A_184-313  \t0.002      \tA    \t301    \t239  \t297    \tLYS         \tGLU       \tASN         \tCnaB-like\t1.441\t0.1  \t2xtl_A_463_589_636\n",
      "3WNI_chain_A_184-313  \t0.002      \tA    \t301    \t239  \t297    \tLYS         \tGLU       \tASN         \tCnaB-like\t1.493\t0.1  \t2xtl_A_463_589_636\n",
      "3WKQ_chain_A_184-313  \t0.002      \tA    \t301    \t239  \t297    \tLYS         \tGLU       \tASN         \tCnaB-like\t1.471\t0.1  \t2xtl_A_463_589_636\n",
      "3WKP_chain_A_184-312  \t0.002      \tA    \t301    \t239  \t297    \tLYS         \tGLU       \tASN         \tCnaB-like\t1.483\t0.1  \t2xtl_A_463_589_636\n",
      "3WIA_chain_I_184-311  \t0.002      \tI    \t301    \t239  \t297    \tLYS         \tGLU       \tASN         \tCnaB-like\t1.478\t0.1  \t2xtl_A_463_589_636\n",
      "3WIA_chain_H_184-311  \t0.002      \tH    \t301    \t239  \t297    \tLYS         \tGLU       \tASN         \tCnaB-like\t1.459\t0.1  \t2xtl_A_463_589_636\n",
      "3WIA_chain_F_184-311  \t0.002      \tF    \t301    \t239  \t297    \tLYS         \tGLU       \tASN         \tCnaB-like\t1.47 \t0.1  \t2xtl_A_463_589_636\n",
      "3WIA_chain_E_184-311  \t0.002      \tE    \t301    \t239  \t297    \tLYS         \tGLU       \tASN         \tCnaB-like\t1.457\t0.1  \t2xtl_A_463_589_636\n",
      "3WIA_chain_C_184-311  \t0.002      \tC    \t301    \t239  \t297    \tLYS         \tGLU       \tASN         \tCnaB-like\t1.463\t0.1  \t2xtl_A_463_589_636\n",
      "3WIA_chain_B_184-311  \t0.002      \tB    \t301    \t239  \t297    \tLYS         \tGLU       \tASN         \tCnaB-like\t1.463\t0.1  \t2xtl_A_463_589_636\n",
      "3WI9_chain_A_184-312  \t0.002      \tA    \t301    \t239  \t297    \tLYS         \tGLU       \tASN         \tCnaB-like\t1.459\t0.1  \t2xtl_A_463_589_636\n",
      "2YXW_chain_B_406-516  \t0.002      \tB    \t474    \t476  \t458    \tLYS         \tGLU       \tASN         \tCnaB-like\t1.469\t0.1  \t2y1v_A_41_143_184 \n",
      "1PF3_chain_A_379-516  \t0.002      \tA    \t474    \t476  \t458    \tLYS         \tGLU       \tASN         \tCnaB-like\t1.442\t0.1  \t2y1v_A_41_143_184 \n",
      "5YS1_chain_A_399-516  \t0.001      \tA    \t474    \t476  \t458    \tLYS         \tGLU       \tASN         \tCnaB-like\t1.536\t0.1  \t2y1v_A_41_143_184 \n",
      "6WCP_chain_A_340-462  \t0.0        \tA    \t424    \t427  \t392    \tLYS         \tGLU       \tASP         \tCnaB-like\t1.7  \t0.1  \t8bdw_A_9_59_91    \n",
      "6WCL_chain_A_340-462  \t0.0        \tA    \t424    \t427  \t392    \tLYS         \tGLU       \tASP         \tCnaB-like\t1.703\t0.1  \t8bdw_A_9_59_91    \n",
      "6EVG_chain_A_392-507  \t0.0        \tA    \t469    \t471  \t426    \tLYS         \tGLU       \tASP         \tCnaB-like\t1.694\t0.1  \t7k1u_A_307_399_449\n",
      "5EHF_chain_A_346-471  \t0.0        \tA    \t378    \t468  \t379    \tLYS         \tASP       \tASN         \tCnaA-like\t1.905\t0.1  \t5yxg_A_186_242_337\n",
      "5B7F_chain_A_379-516  \t0.0        \tA    \t419    \t416  \t418    \tLYS         \tASP       \tASN         \tCnaA-like\t1.775\t0.1  \t5yu5_A_186_242_337\n"
     ]
    }
   ],
   "source": [
    "i = Isopeptide(\"output/Cu-oxidase_2\", distance=3, fixed_r_asa=0.1)\n",
    "i.predict()\n",
    "i.print_tabular()"
   ]
  }
 ],
 "metadata": {
  "kernelspec": {
   "display_name": "isopeptor",
   "language": "python",
   "name": "python3"
  },
  "language_info": {
   "codemirror_mode": {
    "name": "ipython",
    "version": 3
   },
   "file_extension": ".py",
   "mimetype": "text/x-python",
   "name": "python",
   "nbconvert_exporter": "python",
   "pygments_lexer": "ipython3",
   "version": "3.11.10"
  }
 },
 "nbformat": 4,
 "nbformat_minor": 2
}
